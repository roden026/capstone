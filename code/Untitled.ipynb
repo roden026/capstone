{
 "cells": [
  {
   "cell_type": "code",
   "execution_count": 5,
   "metadata": {},
   "outputs": [],
   "source": [
    "import twitter\n",
    "\n",
    "api = twitter.Api( \n",
    "    consumer_key=\"SRl6EPdk9Pbvdj7cMAxIHJKc5\", \n",
    "    consumer_secret=\"gOfOZlSOESg3hx8IEuOVSb1SRWmowSxUMylfeAYVw2SJ6lgJsh\", \n",
    "    access_token_key=\"49463906-EeHI4oqPsn0cUOFXBU6PKSHmdiuzX3YxcCPUfMoOD\", \n",
    "    access_token_secret=\"dh0qnWmCzNEAT123GmY7p7eV6L05hxxCA32Xez0mutpkn\",\n",
    "    sleep_on_rate_limit=True\n",
    ")"
   ]
  },
  {
   "cell_type": "code",
   "execution_count": 6,
   "metadata": {},
   "outputs": [
    {
     "data": {
      "text/plain": [
       "[Status(ID=590279620500410368, ScreenName=Charreld_, Created=Mon Apr 20 22:23:23 +0000 2015, Text=\"@ericroden hi. I'm Zaaaach Mettenberger. Quarterback from LSUUUUU. https://t.co/SA7A25hmod\"),\n",
       " Status(ID=587795614785806337, ScreenName=TPSabathia_14, Created=Tue Apr 14 01:52:49 +0000 2015, Text='@EN_JETSKI @ericroden @perlbergkraig @Dcreegs_jr  https://t.co/xivI3Wup44'),\n",
       " Status(ID=554477149303107585, ScreenName=perlbergkraig, Created=Mon Jan 12 03:17:08 +0000 2015, Text='@baseball_lifee @TPSabathia_14 @N3DOMA @ericroden'),\n",
       " Status(ID=554062213447946241, ScreenName=Charreld_, Created=Sat Jan 10 23:48:20 +0000 2015, Text=\"“@nfl: How do you spell elite?\\n\\nF-L-A-C-C-O\\n\\n22/29 Passing\\n231 Yards\\n4 TDs\\n#BALvsNE” guys I'm elite, right...? @N3DOMA @ericroden\"),\n",
       " Status(ID=541985663772819456, ScreenName=Dcreegs_jr, Created=Mon Dec 08 16:00:26 +0000 2014, Text='@TPSabathia_14 @perlbergkraig @ericroden you got to protect the mcnugggets #friestocrossyoureyes'),\n",
       " Status(ID=541983807738753024, ScreenName=TPSabathia_14, Created=Mon Dec 08 15:53:03 +0000 2014, Text='@Dcreegs_jr @perlbergkraig @ericroden the caption is the funniest part...#righttothepills'),\n",
       " Status(ID=541983369748545536, ScreenName=Dcreegs_jr, Created=Mon Dec 08 15:51:19 +0000 2014, Text='\"@totalgolfmove: \"how\\'s your Monday going?\" https://t.co/GJEJZ4cxkG\" @perlbergkraig @TPSabathia_14 @ericroden  typical monday tweet'),\n",
       " Status(ID=539532382374989824, ScreenName=Dcreegs_jr, Created=Mon Dec 01 21:31:58 +0000 2014, Text='\"@FunnyyVine: Kevin Durant is a savage http://t.co/a2Tz4QbI4I\"@ericroden'),\n",
       " Status(ID=536949561043189760, ScreenName=Dcreegs_jr, Created=Mon Nov 24 18:28:46 +0000 2014, Text='\"@totalgolfmove: \"how\\'s your monday?\" https://t.co/Db6wdiypGX\" @TPSabathia_14  @baum_luke @ericroden @perlbergkraig'),\n",
       " Status(ID=535135772668870657, ScreenName=TPSabathia_14, Created=Wed Nov 19 18:21:25 +0000 2014, Text='Creed is on Pandora at work right now @EN_JETSKI @ericroden #greatestbandever')]"
      ]
     },
     "execution_count": 6,
     "metadata": {},
     "output_type": "execute_result"
    }
   ],
   "source": [
    "api.GetMentions(count=10)"
   ]
  },
  {
   "cell_type": "code",
   "execution_count": 8,
   "metadata": {},
   "outputs": [],
   "source": [
    "response = api.GetUserTimeline(screen_name=\"@delta\", count=20)"
   ]
  },
  {
   "cell_type": "code",
   "execution_count": 17,
   "metadata": {},
   "outputs": [],
   "source": [
    "response = api.GetSearch(term=\"@delta\", count=10, lang='en', return_json=False)"
   ]
  },
  {
   "cell_type": "code",
   "execution_count": 39,
   "metadata": {},
   "outputs": [
    {
     "data": {
      "text/plain": [
       "0    .@Delta is waiving all baggage and pet in cabi...\n",
       "1    Bringing you all love and smiles from Atlanta ...\n",
       "2    @Delta Pet in cabin fees to and from select ci...\n",
       "3    RT @WeatherKait: Even though I’m already a loy...\n",
       "4                                    @Delta Thank you!\n",
       "Name: text, dtype: object"
      ]
     },
     "execution_count": 39,
     "metadata": {},
     "output_type": "execute_result"
    }
   ],
   "source": [
    "dicts = [r.AsDict() for r in response]\n",
    "df = pd.DataFrame(dicts)\n",
    "df.text.head()"
   ]
  },
  {
   "cell_type": "code",
   "execution_count": 29,
   "metadata": {},
   "outputs": [],
   "source": [
    "import pandas as pd"
   ]
  },
  {
   "cell_type": "code",
   "execution_count": 32,
   "metadata": {},
   "outputs": [
    {
     "name": "stdout",
     "output_type": "stream",
     "text": [
      "0    <bound method TwitterModel.AsDict of Status(ID...\n",
      "1    <bound method TwitterModel.AsDict of Status(ID...\n",
      "2    <bound method TwitterModel.AsDict of Status(ID...\n",
      "3    <bound method TwitterModel.AsDict of Status(ID...\n",
      "4    <bound method TwitterModel.AsDict of Status(ID...\n",
      "5    <bound method TwitterModel.AsDict of Status(ID...\n",
      "6    <bound method TwitterModel.AsDict of Status(ID...\n",
      "7    <bound method TwitterModel.AsDict of Status(ID...\n",
      "8    <bound method TwitterModel.AsDict of Status(ID...\n",
      "9    <bound method TwitterModel.AsDict of Status(ID...\n",
      "dtype: object\n"
     ]
    }
   ],
   "source": [
    "print(df)"
   ]
  },
  {
   "cell_type": "code",
   "execution_count": null,
   "metadata": {},
   "outputs": [],
   "source": []
  }
 ],
 "metadata": {
  "kernelspec": {
   "display_name": "mlg_2",
   "language": "python",
   "name": "mlg_2"
  },
  "language_info": {
   "codemirror_mode": {
    "name": "ipython",
    "version": 3
   },
   "file_extension": ".py",
   "mimetype": "text/x-python",
   "name": "python",
   "nbconvert_exporter": "python",
   "pygments_lexer": "ipython3",
   "version": "3.5.5"
  }
 },
 "nbformat": 4,
 "nbformat_minor": 2
}
