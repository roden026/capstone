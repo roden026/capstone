{
 "cells": [
  {
   "cell_type": "code",
   "execution_count": 1,
   "metadata": {},
   "outputs": [
    {
     "name": "stderr",
     "output_type": "stream",
     "text": [
      "C:\\Users\\erroden\\AppData\\Local\\Continuum\\anaconda3\\envs\\mlg_2\\lib\\site-packages\\sklearn\\cross_validation.py:41: DeprecationWarning: This module was deprecated in version 0.18 in favor of the model_selection module into which all the refactored classes and functions are moved. Also note that the interface of the new CV iterators are different from that of this module. This module will be removed in 0.20.\n",
      "  \"This module will be removed in 0.20.\", DeprecationWarning)\n",
      "C:\\Users\\erroden\\AppData\\Local\\Continuum\\anaconda3\\envs\\mlg_2\\lib\\site-packages\\sklearn\\grid_search.py:42: DeprecationWarning: This module was deprecated in version 0.18 in favor of the model_selection module into which all the refactored classes and functions are moved. This module will be removed in 0.20.\n",
      "  DeprecationWarning)\n",
      "C:\\Users\\erroden\\AppData\\Local\\Continuum\\anaconda3\\envs\\mlg_2\\lib\\site-packages\\gensim\\utils.py:1197: UserWarning: detected Windows; aliasing chunkize to chunkize_serial\n",
      "  warnings.warn(\"detected Windows; aliasing chunkize to chunkize_serial\")\n"
     ]
    }
   ],
   "source": [
    "# Imports\n",
    "import pandas as pd\n",
    "import seaborn as sns\n",
    "import numpy as np\n",
    "import os\n",
    "import matplotlib.pyplot as plt\n",
    "import nltk\n",
    "from nltk.corpus import stopwords\n",
    "import re\n",
    "from nltk.tokenize import RegexpTokenizer\n",
    "\n",
    "from sklearn.cross_validation import cross_val_score\n",
    "from sklearn.grid_search import GridSearchCV\n",
    "from sklearn import metrics\n",
    "from sklearn.cluster import KMeans, MiniBatchKMeans\n",
    "from sklearn.metrics import silhouette_score, make_scorer\n",
    "from sklearn.decomposition import NMF, LatentDirichletAllocation\n",
    "from sklearn.feature_extraction.text import TfidfVectorizer, CountVectorizer\n",
    "\n",
    "\n",
    "# topic modeling packages\n",
    "from gensim.corpora.dictionary import Dictionary\n",
    "from gensim.models import LdaModel\n",
    "from gensim.test.utils import datapath"
   ]
  },
  {
   "cell_type": "code",
   "execution_count": 2,
   "metadata": {},
   "outputs": [
    {
     "name": "stderr",
     "output_type": "stream",
     "text": [
      "C:\\Users\\erroden\\AppData\\Local\\Continuum\\anaconda3\\envs\\mlg_2\\lib\\site-packages\\IPython\\core\\interactiveshell.py:2728: DtypeWarning: Columns (16) have mixed types. Specify dtype option on import or set low_memory=False.\n",
      "  interactivity=interactivity, compiler=compiler, result=result)\n"
     ]
    }
   ],
   "source": [
    "# Set up file read/folder structure\n",
    "os.chdir(\"C:\\\\Users\\\\erroden\\\\Desktop\\\\Capstone\")\n",
    "\n",
    "# Local Sources\n",
    "# Initial focus will be on the airline data set but others may be stitched on to enrich the data\n",
    "airline = pd.read_csv(\"data\\\\airline_2.csv\")\n",
    "airline.drop(airline.columns[0], axis=1, inplace=True) # drop extra index column"
   ]
  },
  {
   "cell_type": "code",
   "execution_count": 3,
   "metadata": {},
   "outputs": [],
   "source": [
    "# Print some summary numbers to get a feel for the data"
   ]
  },
  {
   "cell_type": "code",
   "execution_count": 4,
   "metadata": {},
   "outputs": [],
   "source": [
    "airline['counter'] = airline.index\n",
    "\n",
    "def timestable(x, y):\n",
    "    return x*y"
   ]
  },
  {
   "cell_type": "code",
   "execution_count": 5,
   "metadata": {},
   "outputs": [
    {
     "data": {
      "text/plain": [
       "0    0\n",
       "1    2\n",
       "2    4\n",
       "3    6\n",
       "4    8\n",
       "dtype: int64"
      ]
     },
     "execution_count": 5,
     "metadata": {},
     "output_type": "execute_result"
    }
   ],
   "source": [
    "airline.head().apply(lambda x: timestable(x['counter'], 2), axis=1)"
   ]
  },
  {
   "cell_type": "code",
   "execution_count": 7,
   "metadata": {},
   "outputs": [
    {
     "data": {
      "text/plain": [
       "['aircraft',\n",
       " 'cabin_flown',\n",
       " 'cabin_staff_rating',\n",
       " 'date',\n",
       " 'food_beverages_rating',\n",
       " 'ground_service_rating',\n",
       " 'inflight_entertainment_rating',\n",
       " 'recommended',\n",
       " 'route',\n",
       " 'seat_comfort_rating',\n",
       " 'type_traveller',\n",
       " 'value_money_rating',\n",
       " 'wifi_connectivity_rating',\n",
       " 'airline_name',\n",
       " 'author',\n",
       " 'author_country',\n",
       " 'content',\n",
       " 'date_published',\n",
       " 'link',\n",
       " 'overall_rating',\n",
       " 'title',\n",
       " 'counter']"
      ]
     },
     "execution_count": 7,
     "metadata": {},
     "output_type": "execute_result"
    }
   ],
   "source": [
    "list(airline)"
   ]
  },
  {
   "cell_type": "code",
   "execution_count": 8,
   "metadata": {},
   "outputs": [
    {
     "data": {
      "text/plain": [
       "79802"
      ]
     },
     "execution_count": 8,
     "metadata": {},
     "output_type": "execute_result"
    }
   ],
   "source": [
    "len(airline)"
   ]
  },
  {
   "cell_type": "code",
   "execution_count": 9,
   "metadata": {},
   "outputs": [
    {
     "data": {
      "text/html": [
       "<div>\n",
       "<style scoped>\n",
       "    .dataframe tbody tr th:only-of-type {\n",
       "        vertical-align: middle;\n",
       "    }\n",
       "\n",
       "    .dataframe tbody tr th {\n",
       "        vertical-align: top;\n",
       "    }\n",
       "\n",
       "    .dataframe thead th {\n",
       "        text-align: right;\n",
       "    }\n",
       "</style>\n",
       "<table border=\"1\" class=\"dataframe\">\n",
       "  <thead>\n",
       "    <tr style=\"text-align: right;\">\n",
       "      <th></th>\n",
       "      <th>cabin_staff_rating</th>\n",
       "      <th>food_beverages_rating</th>\n",
       "      <th>ground_service_rating</th>\n",
       "      <th>inflight_entertainment_rating</th>\n",
       "      <th>recommended</th>\n",
       "      <th>seat_comfort_rating</th>\n",
       "      <th>value_money_rating</th>\n",
       "      <th>wifi_connectivity_rating</th>\n",
       "      <th>date_published</th>\n",
       "      <th>overall_rating</th>\n",
       "      <th>counter</th>\n",
       "    </tr>\n",
       "  </thead>\n",
       "  <tbody>\n",
       "    <tr>\n",
       "      <th>count</th>\n",
       "      <td>71109.000000</td>\n",
       "      <td>63661.000000</td>\n",
       "      <td>40912.000000</td>\n",
       "      <td>54126.000000</td>\n",
       "      <td>79802.000000</td>\n",
       "      <td>71165.000000</td>\n",
       "      <td>77995.000000</td>\n",
       "      <td>10777.000000</td>\n",
       "      <td>0.0</td>\n",
       "      <td>75336.000000</td>\n",
       "      <td>79802.000000</td>\n",
       "    </tr>\n",
       "    <tr>\n",
       "      <th>mean</th>\n",
       "      <td>3.253301</td>\n",
       "      <td>2.847835</td>\n",
       "      <td>2.770581</td>\n",
       "      <td>2.602779</td>\n",
       "      <td>0.497569</td>\n",
       "      <td>2.996599</td>\n",
       "      <td>3.029207</td>\n",
       "      <td>2.229006</td>\n",
       "      <td>NaN</td>\n",
       "      <td>5.439591</td>\n",
       "      <td>39900.500000</td>\n",
       "    </tr>\n",
       "    <tr>\n",
       "      <th>std</th>\n",
       "      <td>1.553691</td>\n",
       "      <td>1.538770</td>\n",
       "      <td>1.596946</td>\n",
       "      <td>1.632475</td>\n",
       "      <td>0.499997</td>\n",
       "      <td>1.425866</td>\n",
       "      <td>1.572008</td>\n",
       "      <td>1.503486</td>\n",
       "      <td>NaN</td>\n",
       "      <td>3.403029</td>\n",
       "      <td>23036.997428</td>\n",
       "    </tr>\n",
       "    <tr>\n",
       "      <th>min</th>\n",
       "      <td>0.000000</td>\n",
       "      <td>0.000000</td>\n",
       "      <td>1.000000</td>\n",
       "      <td>0.000000</td>\n",
       "      <td>0.000000</td>\n",
       "      <td>0.000000</td>\n",
       "      <td>0.000000</td>\n",
       "      <td>0.000000</td>\n",
       "      <td>NaN</td>\n",
       "      <td>1.000000</td>\n",
       "      <td>0.000000</td>\n",
       "    </tr>\n",
       "    <tr>\n",
       "      <th>25%</th>\n",
       "      <td>2.000000</td>\n",
       "      <td>1.000000</td>\n",
       "      <td>1.000000</td>\n",
       "      <td>1.000000</td>\n",
       "      <td>0.000000</td>\n",
       "      <td>2.000000</td>\n",
       "      <td>1.000000</td>\n",
       "      <td>1.000000</td>\n",
       "      <td>NaN</td>\n",
       "      <td>2.000000</td>\n",
       "      <td>19950.250000</td>\n",
       "    </tr>\n",
       "    <tr>\n",
       "      <th>50%</th>\n",
       "      <td>4.000000</td>\n",
       "      <td>3.000000</td>\n",
       "      <td>3.000000</td>\n",
       "      <td>3.000000</td>\n",
       "      <td>0.000000</td>\n",
       "      <td>3.000000</td>\n",
       "      <td>3.000000</td>\n",
       "      <td>1.000000</td>\n",
       "      <td>NaN</td>\n",
       "      <td>6.000000</td>\n",
       "      <td>39900.500000</td>\n",
       "    </tr>\n",
       "    <tr>\n",
       "      <th>75%</th>\n",
       "      <td>5.000000</td>\n",
       "      <td>4.000000</td>\n",
       "      <td>4.000000</td>\n",
       "      <td>4.000000</td>\n",
       "      <td>1.000000</td>\n",
       "      <td>4.000000</td>\n",
       "      <td>4.000000</td>\n",
       "      <td>3.000000</td>\n",
       "      <td>NaN</td>\n",
       "      <td>9.000000</td>\n",
       "      <td>59850.750000</td>\n",
       "    </tr>\n",
       "    <tr>\n",
       "      <th>max</th>\n",
       "      <td>5.000000</td>\n",
       "      <td>5.000000</td>\n",
       "      <td>5.000000</td>\n",
       "      <td>5.000000</td>\n",
       "      <td>1.000000</td>\n",
       "      <td>5.000000</td>\n",
       "      <td>5.000000</td>\n",
       "      <td>5.000000</td>\n",
       "      <td>NaN</td>\n",
       "      <td>10.000000</td>\n",
       "      <td>79801.000000</td>\n",
       "    </tr>\n",
       "  </tbody>\n",
       "</table>\n",
       "</div>"
      ],
      "text/plain": [
       "       cabin_staff_rating  food_beverages_rating  ground_service_rating  \\\n",
       "count        71109.000000           63661.000000           40912.000000   \n",
       "mean             3.253301               2.847835               2.770581   \n",
       "std              1.553691               1.538770               1.596946   \n",
       "min              0.000000               0.000000               1.000000   \n",
       "25%              2.000000               1.000000               1.000000   \n",
       "50%              4.000000               3.000000               3.000000   \n",
       "75%              5.000000               4.000000               4.000000   \n",
       "max              5.000000               5.000000               5.000000   \n",
       "\n",
       "       inflight_entertainment_rating   recommended  seat_comfort_rating  \\\n",
       "count                   54126.000000  79802.000000         71165.000000   \n",
       "mean                        2.602779      0.497569             2.996599   \n",
       "std                         1.632475      0.499997             1.425866   \n",
       "min                         0.000000      0.000000             0.000000   \n",
       "25%                         1.000000      0.000000             2.000000   \n",
       "50%                         3.000000      0.000000             3.000000   \n",
       "75%                         4.000000      1.000000             4.000000   \n",
       "max                         5.000000      1.000000             5.000000   \n",
       "\n",
       "       value_money_rating  wifi_connectivity_rating  date_published  \\\n",
       "count        77995.000000              10777.000000             0.0   \n",
       "mean             3.029207                  2.229006             NaN   \n",
       "std              1.572008                  1.503486             NaN   \n",
       "min              0.000000                  0.000000             NaN   \n",
       "25%              1.000000                  1.000000             NaN   \n",
       "50%              3.000000                  1.000000             NaN   \n",
       "75%              4.000000                  3.000000             NaN   \n",
       "max              5.000000                  5.000000             NaN   \n",
       "\n",
       "       overall_rating       counter  \n",
       "count    75336.000000  79802.000000  \n",
       "mean         5.439591  39900.500000  \n",
       "std          3.403029  23036.997428  \n",
       "min          1.000000      0.000000  \n",
       "25%          2.000000  19950.250000  \n",
       "50%          6.000000  39900.500000  \n",
       "75%          9.000000  59850.750000  \n",
       "max         10.000000  79801.000000  "
      ]
     },
     "execution_count": 9,
     "metadata": {},
     "output_type": "execute_result"
    }
   ],
   "source": [
    "airline.describe()"
   ]
  },
  {
   "cell_type": "code",
   "execution_count": 10,
   "metadata": {},
   "outputs": [
    {
     "name": "stdout",
     "output_type": "stream",
     "text": [
      "<class 'pandas.core.frame.DataFrame'>\n",
      "RangeIndex: 79802 entries, 0 to 79801\n",
      "Data columns (total 22 columns):\n",
      "aircraft                         21620 non-null object\n",
      "cabin_flown                      76777 non-null object\n",
      "cabin_staff_rating               71109 non-null float64\n",
      "date                             40976 non-null object\n",
      "food_beverages_rating            63661 non-null float64\n",
      "ground_service_rating            40912 non-null float64\n",
      "inflight_entertainment_rating    54126 non-null float64\n",
      "recommended                      79802 non-null int64\n",
      "route                            41095 non-null object\n",
      "seat_comfort_rating              71165 non-null float64\n",
      "type_traveller                   41129 non-null object\n",
      "value_money_rating               77995 non-null float64\n",
      "wifi_connectivity_rating         10777 non-null float64\n",
      "airline_name                     79802 non-null object\n",
      "author                           79802 non-null object\n",
      "author_country                   1 non-null object\n",
      "content                          79802 non-null object\n",
      "date_published                   0 non-null float64\n",
      "link                             79802 non-null object\n",
      "overall_rating                   75336 non-null float64\n",
      "title                            79802 non-null object\n",
      "counter                          79802 non-null int64\n",
      "dtypes: float64(9), int64(2), object(11)\n",
      "memory usage: 13.4+ MB\n"
     ]
    }
   ],
   "source": [
    "airline.info()"
   ]
  },
  {
   "cell_type": "raw",
   "metadata": {},
   "source": [
    "There appears to be a good amount of data missing. Fortunately all of the recommendations are there and all of the records have comments (['content']) with one exception. "
   ]
  },
  {
   "cell_type": "code",
   "execution_count": 11,
   "metadata": {},
   "outputs": [
    {
     "data": {
      "text/plain": [
       "count                                                 79802\n",
       "unique                                                78932\n",
       "top       und trip Myrtle Beach to Boston. Flight in was...\n",
       "freq                                                      3\n",
       "Name: content, dtype: object"
      ]
     },
     "execution_count": 11,
     "metadata": {},
     "output_type": "execute_result"
    }
   ],
   "source": [
    "airline.content.describe()"
   ]
  },
  {
   "cell_type": "code",
   "execution_count": 12,
   "metadata": {},
   "outputs": [],
   "source": [
    "error_content = airline.content.describe().top"
   ]
  },
  {
   "cell_type": "code",
   "execution_count": 13,
   "metadata": {},
   "outputs": [
    {
     "data": {
      "text/html": [
       "<div>\n",
       "<style scoped>\n",
       "    .dataframe tbody tr th:only-of-type {\n",
       "        vertical-align: middle;\n",
       "    }\n",
       "\n",
       "    .dataframe tbody tr th {\n",
       "        vertical-align: top;\n",
       "    }\n",
       "\n",
       "    .dataframe thead th {\n",
       "        text-align: right;\n",
       "    }\n",
       "</style>\n",
       "<table border=\"1\" class=\"dataframe\">\n",
       "  <thead>\n",
       "    <tr style=\"text-align: right;\">\n",
       "      <th></th>\n",
       "      <th>aircraft</th>\n",
       "      <th>cabin_flown</th>\n",
       "      <th>cabin_staff_rating</th>\n",
       "      <th>date</th>\n",
       "      <th>food_beverages_rating</th>\n",
       "      <th>ground_service_rating</th>\n",
       "      <th>inflight_entertainment_rating</th>\n",
       "      <th>recommended</th>\n",
       "      <th>route</th>\n",
       "      <th>seat_comfort_rating</th>\n",
       "      <th>...</th>\n",
       "      <th>wifi_connectivity_rating</th>\n",
       "      <th>airline_name</th>\n",
       "      <th>author</th>\n",
       "      <th>author_country</th>\n",
       "      <th>content</th>\n",
       "      <th>date_published</th>\n",
       "      <th>link</th>\n",
       "      <th>overall_rating</th>\n",
       "      <th>title</th>\n",
       "      <th>counter</th>\n",
       "    </tr>\n",
       "  </thead>\n",
       "  <tbody>\n",
       "    <tr>\n",
       "      <th>63870</th>\n",
       "      <td>NaN</td>\n",
       "      <td>NaN</td>\n",
       "      <td>1.0</td>\n",
       "      <td>NaN</td>\n",
       "      <td>1.0</td>\n",
       "      <td>NaN</td>\n",
       "      <td>1.0</td>\n",
       "      <td>0</td>\n",
       "      <td>NaN</td>\n",
       "      <td>1.0</td>\n",
       "      <td>...</td>\n",
       "      <td>NaN</td>\n",
       "      <td>Spirit Airlines</td>\n",
       "      <td>E Murray</td>\n",
       "      <td>NaN</td>\n",
       "      <td>und trip Myrtle Beach to Boston. Flight in was...</td>\n",
       "      <td>NaN</td>\n",
       "      <td>http://www.airlinequality.com/airline-reviews/...</td>\n",
       "      <td>1.0</td>\n",
       "      <td>Spirit Airlines customer review</td>\n",
       "      <td>63870</td>\n",
       "    </tr>\n",
       "    <tr>\n",
       "      <th>63879</th>\n",
       "      <td>NaN</td>\n",
       "      <td>NaN</td>\n",
       "      <td>1.0</td>\n",
       "      <td>NaN</td>\n",
       "      <td>1.0</td>\n",
       "      <td>NaN</td>\n",
       "      <td>1.0</td>\n",
       "      <td>0</td>\n",
       "      <td>NaN</td>\n",
       "      <td>1.0</td>\n",
       "      <td>...</td>\n",
       "      <td>NaN</td>\n",
       "      <td>Spirit Airlines</td>\n",
       "      <td>E Murray</td>\n",
       "      <td>NaN</td>\n",
       "      <td>und trip Myrtle Beach to Boston. Flight in was...</td>\n",
       "      <td>NaN</td>\n",
       "      <td>http://www.airlinequality.com/airline-reviews/...</td>\n",
       "      <td>1.0</td>\n",
       "      <td>Spirit Airlines customer review</td>\n",
       "      <td>63879</td>\n",
       "    </tr>\n",
       "    <tr>\n",
       "      <th>63884</th>\n",
       "      <td>NaN</td>\n",
       "      <td>NaN</td>\n",
       "      <td>1.0</td>\n",
       "      <td>NaN</td>\n",
       "      <td>1.0</td>\n",
       "      <td>NaN</td>\n",
       "      <td>1.0</td>\n",
       "      <td>0</td>\n",
       "      <td>NaN</td>\n",
       "      <td>1.0</td>\n",
       "      <td>...</td>\n",
       "      <td>NaN</td>\n",
       "      <td>Spirit Airlines</td>\n",
       "      <td>E Murray</td>\n",
       "      <td>NaN</td>\n",
       "      <td>und trip Myrtle Beach to Boston. Flight in was...</td>\n",
       "      <td>NaN</td>\n",
       "      <td>http://www.airlinequality.com/airline-reviews/...</td>\n",
       "      <td>1.0</td>\n",
       "      <td>Spirit Airlines customer review</td>\n",
       "      <td>63884</td>\n",
       "    </tr>\n",
       "  </tbody>\n",
       "</table>\n",
       "<p>3 rows × 22 columns</p>\n",
       "</div>"
      ],
      "text/plain": [
       "      aircraft cabin_flown  cabin_staff_rating date  food_beverages_rating  \\\n",
       "63870      NaN         NaN                 1.0  NaN                    1.0   \n",
       "63879      NaN         NaN                 1.0  NaN                    1.0   \n",
       "63884      NaN         NaN                 1.0  NaN                    1.0   \n",
       "\n",
       "       ground_service_rating  inflight_entertainment_rating  recommended  \\\n",
       "63870                    NaN                            1.0            0   \n",
       "63879                    NaN                            1.0            0   \n",
       "63884                    NaN                            1.0            0   \n",
       "\n",
       "      route  seat_comfort_rating   ...    wifi_connectivity_rating  \\\n",
       "63870   NaN                  1.0   ...                         NaN   \n",
       "63879   NaN                  1.0   ...                         NaN   \n",
       "63884   NaN                  1.0   ...                         NaN   \n",
       "\n",
       "          airline_name    author author_country  \\\n",
       "63870  Spirit Airlines  E Murray            NaN   \n",
       "63879  Spirit Airlines  E Murray            NaN   \n",
       "63884  Spirit Airlines  E Murray            NaN   \n",
       "\n",
       "                                                 content date_published  \\\n",
       "63870  und trip Myrtle Beach to Boston. Flight in was...            NaN   \n",
       "63879  und trip Myrtle Beach to Boston. Flight in was...            NaN   \n",
       "63884  und trip Myrtle Beach to Boston. Flight in was...            NaN   \n",
       "\n",
       "                                                    link  overall_rating  \\\n",
       "63870  http://www.airlinequality.com/airline-reviews/...             1.0   \n",
       "63879  http://www.airlinequality.com/airline-reviews/...             1.0   \n",
       "63884  http://www.airlinequality.com/airline-reviews/...             1.0   \n",
       "\n",
       "                                 title  counter  \n",
       "63870  Spirit Airlines customer review    63870  \n",
       "63879  Spirit Airlines customer review    63879  \n",
       "63884  Spirit Airlines customer review    63884  \n",
       "\n",
       "[3 rows x 22 columns]"
      ]
     },
     "execution_count": 13,
     "metadata": {},
     "output_type": "execute_result"
    }
   ],
   "source": [
    "airline.loc[airline['content'] == error_content]"
   ]
  },
  {
   "cell_type": "raw",
   "metadata": {},
   "source": [
    "These repeating comments are also missing significant other data so they will likely be ignored or auto populated. This will be addressed once data starts to be cleaned up. "
   ]
  },
  {
   "cell_type": "code",
   "execution_count": 14,
   "metadata": {},
   "outputs": [
    {
     "data": {
      "text/plain": [
       "0.4975689832335029"
      ]
     },
     "execution_count": 14,
     "metadata": {},
     "output_type": "execute_result"
    }
   ],
   "source": [
    "# 53% of reviewers recommended the airline providing a fairly even distribution of responses\n",
    "np.average(airline.recommended) "
   ]
  },
  {
   "cell_type": "code",
   "execution_count": 15,
   "metadata": {},
   "outputs": [
    {
     "data": {
      "text/html": [
       "<div>\n",
       "<style scoped>\n",
       "    .dataframe tbody tr th:only-of-type {\n",
       "        vertical-align: middle;\n",
       "    }\n",
       "\n",
       "    .dataframe tbody tr th {\n",
       "        vertical-align: top;\n",
       "    }\n",
       "\n",
       "    .dataframe thead th {\n",
       "        text-align: right;\n",
       "    }\n",
       "</style>\n",
       "<table border=\"1\" class=\"dataframe\">\n",
       "  <thead>\n",
       "    <tr style=\"text-align: right;\">\n",
       "      <th></th>\n",
       "      <th>aircraft</th>\n",
       "      <th>cabin_flown</th>\n",
       "      <th>cabin_staff_rating</th>\n",
       "      <th>date</th>\n",
       "      <th>food_beverages_rating</th>\n",
       "      <th>ground_service_rating</th>\n",
       "      <th>inflight_entertainment_rating</th>\n",
       "      <th>recommended</th>\n",
       "      <th>route</th>\n",
       "      <th>seat_comfort_rating</th>\n",
       "      <th>...</th>\n",
       "      <th>airline_name</th>\n",
       "      <th>author</th>\n",
       "      <th>author_country</th>\n",
       "      <th>content</th>\n",
       "      <th>date_published</th>\n",
       "      <th>link</th>\n",
       "      <th>overall_rating</th>\n",
       "      <th>title</th>\n",
       "      <th>counter</th>\n",
       "      <th>text_len</th>\n",
       "    </tr>\n",
       "  </thead>\n",
       "  <tbody>\n",
       "    <tr>\n",
       "      <th>0</th>\n",
       "      <td>NaN</td>\n",
       "      <td>Economy Class</td>\n",
       "      <td>3.0</td>\n",
       "      <td>May 2018</td>\n",
       "      <td>NaN</td>\n",
       "      <td>3.0</td>\n",
       "      <td>NaN</td>\n",
       "      <td>0</td>\n",
       "      <td>Paris to Skopje via Ljubljana</td>\n",
       "      <td>3.0</td>\n",
       "      <td>...</td>\n",
       "      <td>Adria Airways</td>\n",
       "      <td>Loic Jouan</td>\n",
       "      <td>NaN</td>\n",
       "      <td>We were traveling from Paris to Skopje on May ...</td>\n",
       "      <td>NaN</td>\n",
       "      <td>http://www.airlinequality.com/airline-reviews/...</td>\n",
       "      <td>2.0</td>\n",
       "      <td>\"overall very poor\"</td>\n",
       "      <td>0</td>\n",
       "      <td>967</td>\n",
       "    </tr>\n",
       "    <tr>\n",
       "      <th>1</th>\n",
       "      <td>NaN</td>\n",
       "      <td>Economy Class</td>\n",
       "      <td>2.0</td>\n",
       "      <td>June 2018</td>\n",
       "      <td>2.0</td>\n",
       "      <td>2.0</td>\n",
       "      <td>NaN</td>\n",
       "      <td>0</td>\n",
       "      <td>Ljubljana to Munich</td>\n",
       "      <td>1.0</td>\n",
       "      <td>...</td>\n",
       "      <td>Adria Airways</td>\n",
       "      <td>P Gamirj</td>\n",
       "      <td>NaN</td>\n",
       "      <td>Ljubljana to Munich. Adria's checkin system is...</td>\n",
       "      <td>NaN</td>\n",
       "      <td>http://www.airlinequality.com/airline-reviews/...</td>\n",
       "      <td>2.0</td>\n",
       "      <td>\"Would not fly again\"</td>\n",
       "      <td>1</td>\n",
       "      <td>1021</td>\n",
       "    </tr>\n",
       "    <tr>\n",
       "      <th>2</th>\n",
       "      <td>A319</td>\n",
       "      <td>Economy Class</td>\n",
       "      <td>3.0</td>\n",
       "      <td>June 2018</td>\n",
       "      <td>NaN</td>\n",
       "      <td>1.0</td>\n",
       "      <td>NaN</td>\n",
       "      <td>0</td>\n",
       "      <td>Ljubljana to Prague</td>\n",
       "      <td>3.0</td>\n",
       "      <td>...</td>\n",
       "      <td>Adria Airways</td>\n",
       "      <td>B Haruz</td>\n",
       "      <td>NaN</td>\n",
       "      <td>A very unpleasant experience for my family. We...</td>\n",
       "      <td>NaN</td>\n",
       "      <td>http://www.airlinequality.com/airline-reviews/...</td>\n",
       "      <td>3.0</td>\n",
       "      <td>\"very unpleasant experience\"</td>\n",
       "      <td>2</td>\n",
       "      <td>1693</td>\n",
       "    </tr>\n",
       "    <tr>\n",
       "      <th>3</th>\n",
       "      <td>NaN</td>\n",
       "      <td>Economy Class</td>\n",
       "      <td>5.0</td>\n",
       "      <td>April 2018</td>\n",
       "      <td>5.0</td>\n",
       "      <td>5.0</td>\n",
       "      <td>NaN</td>\n",
       "      <td>1</td>\n",
       "      <td>Frankfurt to Ljubljana</td>\n",
       "      <td>5.0</td>\n",
       "      <td>...</td>\n",
       "      <td>Adria Airways</td>\n",
       "      <td>Michel Zombra</td>\n",
       "      <td>NaN</td>\n",
       "      <td>Frankfurt to Ljubljana. Flight was very comfor...</td>\n",
       "      <td>NaN</td>\n",
       "      <td>http://www.airlinequality.com/airline-reviews/...</td>\n",
       "      <td>10.0</td>\n",
       "      <td>\"Flight was very comfortable\"</td>\n",
       "      <td>3</td>\n",
       "      <td>189</td>\n",
       "    </tr>\n",
       "    <tr>\n",
       "      <th>4</th>\n",
       "      <td>NaN</td>\n",
       "      <td>Economy Class</td>\n",
       "      <td>1.0</td>\n",
       "      <td>March 2018</td>\n",
       "      <td>1.0</td>\n",
       "      <td>1.0</td>\n",
       "      <td>1.0</td>\n",
       "      <td>0</td>\n",
       "      <td>Ljubljana to Frankfurt</td>\n",
       "      <td>2.0</td>\n",
       "      <td>...</td>\n",
       "      <td>Adria Airways</td>\n",
       "      <td>S Hanarosic</td>\n",
       "      <td>NaN</td>\n",
       "      <td>Ljubljana to Frankfurt. Flight delayed for mor...</td>\n",
       "      <td>NaN</td>\n",
       "      <td>http://www.airlinequality.com/airline-reviews/...</td>\n",
       "      <td>1.0</td>\n",
       "      <td>\"delayed for more than 2 hours\"</td>\n",
       "      <td>4</td>\n",
       "      <td>495</td>\n",
       "    </tr>\n",
       "  </tbody>\n",
       "</table>\n",
       "<p>5 rows × 23 columns</p>\n",
       "</div>"
      ],
      "text/plain": [
       "  aircraft    cabin_flown  cabin_staff_rating        date  \\\n",
       "0      NaN  Economy Class                 3.0    May 2018   \n",
       "1      NaN  Economy Class                 2.0   June 2018   \n",
       "2     A319  Economy Class                 3.0   June 2018   \n",
       "3      NaN  Economy Class                 5.0  April 2018   \n",
       "4      NaN  Economy Class                 1.0  March 2018   \n",
       "\n",
       "   food_beverages_rating  ground_service_rating  \\\n",
       "0                    NaN                    3.0   \n",
       "1                    2.0                    2.0   \n",
       "2                    NaN                    1.0   \n",
       "3                    5.0                    5.0   \n",
       "4                    1.0                    1.0   \n",
       "\n",
       "   inflight_entertainment_rating  recommended                          route  \\\n",
       "0                            NaN            0  Paris to Skopje via Ljubljana   \n",
       "1                            NaN            0            Ljubljana to Munich   \n",
       "2                            NaN            0            Ljubljana to Prague   \n",
       "3                            NaN            1         Frankfurt to Ljubljana   \n",
       "4                            1.0            0         Ljubljana to Frankfurt   \n",
       "\n",
       "   seat_comfort_rating    ...      airline_name         author  \\\n",
       "0                  3.0    ...     Adria Airways     Loic Jouan   \n",
       "1                  1.0    ...     Adria Airways       P Gamirj   \n",
       "2                  3.0    ...     Adria Airways        B Haruz   \n",
       "3                  5.0    ...     Adria Airways  Michel Zombra   \n",
       "4                  2.0    ...     Adria Airways    S Hanarosic   \n",
       "\n",
       "   author_country                                            content  \\\n",
       "0             NaN  We were traveling from Paris to Skopje on May ...   \n",
       "1             NaN  Ljubljana to Munich. Adria's checkin system is...   \n",
       "2             NaN  A very unpleasant experience for my family. We...   \n",
       "3             NaN  Frankfurt to Ljubljana. Flight was very comfor...   \n",
       "4             NaN  Ljubljana to Frankfurt. Flight delayed for mor...   \n",
       "\n",
       "  date_published                                               link  \\\n",
       "0            NaN  http://www.airlinequality.com/airline-reviews/...   \n",
       "1            NaN  http://www.airlinequality.com/airline-reviews/...   \n",
       "2            NaN  http://www.airlinequality.com/airline-reviews/...   \n",
       "3            NaN  http://www.airlinequality.com/airline-reviews/...   \n",
       "4            NaN  http://www.airlinequality.com/airline-reviews/...   \n",
       "\n",
       "  overall_rating                            title counter  text_len  \n",
       "0            2.0              \"overall very poor\"       0       967  \n",
       "1            2.0            \"Would not fly again\"       1      1021  \n",
       "2            3.0     \"very unpleasant experience\"       2      1693  \n",
       "3           10.0    \"Flight was very comfortable\"       3       189  \n",
       "4            1.0  \"delayed for more than 2 hours\"       4       495  \n",
       "\n",
       "[5 rows x 23 columns]"
      ]
     },
     "execution_count": 15,
     "metadata": {},
     "output_type": "execute_result"
    }
   ],
   "source": [
    "# Add on a text length as an extra data point - https://medium.com/tensorist/classifying-yelp-reviews-using-nltk-and-scikit-learn-c58e71e962d9\n",
    "airline[\"text_len\"] = airline.content.apply(len)\n",
    "\n",
    "airline.head()"
   ]
  },
  {
   "cell_type": "code",
   "execution_count": 16,
   "metadata": {},
   "outputs": [
    {
     "data": {
      "text/plain": [
       "<seaborn.axisgrid.FacetGrid at 0x22031f0d518>"
      ]
     },
     "execution_count": 16,
     "metadata": {},
     "output_type": "execute_result"
    },
    {
     "data": {
      "image/png": "[encoded data removed]",
      "text/plain": [
       "<Figure size 432x216 with 2 Axes>"
      ]
     },
     "metadata": {},
     "output_type": "display_data"
    }
   ],
   "source": [
    "# visualize how words compare with recommended\n",
    "\n",
    "g = sns.FacetGrid(data=airline, col='recommended')\n",
    "g.map(plt.hist, 'text_len', bins=50)"
   ]
  },
  {
   "cell_type": "raw",
   "metadata": {},
   "source": [
    "There does not appear to but much of a pattern here although 0 recommended content appears to tend to be slightly longer. "
   ]
  },
  {
   "cell_type": "code",
   "execution_count": 17,
   "metadata": {},
   "outputs": [
    {
     "data": {
      "text/plain": [
       "<seaborn.axisgrid.FacetGrid at 0x22031f96710>"
      ]
     },
     "execution_count": 17,
     "metadata": {},
     "output_type": "execute_result"
    },
    {
     "data": {
      "image/png": "[encoded data removed]",
      "text/plain": [
       "<Figure size 2160x216 with 10 Axes>"
      ]
     },
     "metadata": {},
     "output_type": "display_data"
    }
   ],
   "source": [
    "# visualize how words compare with recommended overall_rating\n",
    "\n",
    "g = sns.FacetGrid(data=airline, col='overall_rating')\n",
    "g.map(plt.hist, 'text_len', bins=50)"
   ]
  },
  {
   "cell_type": "raw",
   "metadata": {},
   "source": [
    "Ratings at the extremes of the scale tend to have longer content with positive reviews seeing more of this trend. "
   ]
  },
  {
   "cell_type": "code",
   "execution_count": 18,
   "metadata": {},
   "outputs": [
    {
     "data": {
      "text/plain": [
       "<matplotlib.axes._subplots.AxesSubplot at 0x2203abd31d0>"
      ]
     },
     "execution_count": 18,
     "metadata": {},
     "output_type": "execute_result"
    },
    {
     "data": {
      "image/png": "[encoded data removed]",
      "text/plain": [
       "<Figure size 432x288 with 1 Axes>"
      ]
     },
     "metadata": {},
     "output_type": "display_data"
    }
   ],
   "source": [
    "# A further look at both of these\n",
    "sns.boxplot(x='recommended', y='text_len', data=airline)"
   ]
  },
  {
   "cell_type": "code",
   "execution_count": 19,
   "metadata": {},
   "outputs": [
    {
     "data": {
      "text/plain": [
       "<matplotlib.axes._subplots.AxesSubplot at 0x22038424b38>"
      ]
     },
     "execution_count": 19,
     "metadata": {},
     "output_type": "execute_result"
    },
    {
     "data": {
      "image/png": "[encoded data removed]",
      "text/plain": [
       "<Figure size 432x288 with 1 Axes>"
      ]
     },
     "metadata": {},
     "output_type": "display_data"
    }
   ],
   "source": [
    "# A further look at both of these\n",
    "sns.boxplot(x='overall_rating', y='text_len', data=airline)"
   ]
  },
  {
   "cell_type": "code",
   "execution_count": 20,
   "metadata": {},
   "outputs": [
    {
     "data": {
      "text/html": [
       "<div>\n",
       "<style scoped>\n",
       "    .dataframe tbody tr th:only-of-type {\n",
       "        vertical-align: middle;\n",
       "    }\n",
       "\n",
       "    .dataframe tbody tr th {\n",
       "        vertical-align: top;\n",
       "    }\n",
       "\n",
       "    .dataframe thead th {\n",
       "        text-align: right;\n",
       "    }\n",
       "</style>\n",
       "<table border=\"1\" class=\"dataframe\">\n",
       "  <thead>\n",
       "    <tr style=\"text-align: right;\">\n",
       "      <th></th>\n",
       "      <th>cabin_staff_rating</th>\n",
       "      <th>food_beverages_rating</th>\n",
       "      <th>ground_service_rating</th>\n",
       "      <th>inflight_entertainment_rating</th>\n",
       "      <th>recommended</th>\n",
       "      <th>seat_comfort_rating</th>\n",
       "      <th>value_money_rating</th>\n",
       "      <th>wifi_connectivity_rating</th>\n",
       "      <th>date_published</th>\n",
       "      <th>counter</th>\n",
       "      <th>text_len</th>\n",
       "    </tr>\n",
       "  </thead>\n",
       "  <tbody>\n",
       "    <tr>\n",
       "      <th>cabin_staff_rating</th>\n",
       "      <td>1.000000</td>\n",
       "      <td>0.994334</td>\n",
       "      <td>0.997625</td>\n",
       "      <td>0.991635</td>\n",
       "      <td>0.954333</td>\n",
       "      <td>0.997583</td>\n",
       "      <td>0.994633</td>\n",
       "      <td>0.978564</td>\n",
       "      <td>NaN</td>\n",
       "      <td>-0.550785</td>\n",
       "      <td>-0.984574</td>\n",
       "    </tr>\n",
       "    <tr>\n",
       "      <th>food_beverages_rating</th>\n",
       "      <td>0.994334</td>\n",
       "      <td>1.000000</td>\n",
       "      <td>0.991280</td>\n",
       "      <td>0.996393</td>\n",
       "      <td>0.941664</td>\n",
       "      <td>0.995810</td>\n",
       "      <td>0.979712</td>\n",
       "      <td>0.992173</td>\n",
       "      <td>NaN</td>\n",
       "      <td>-0.485055</td>\n",
       "      <td>-0.989248</td>\n",
       "    </tr>\n",
       "    <tr>\n",
       "      <th>ground_service_rating</th>\n",
       "      <td>0.997625</td>\n",
       "      <td>0.991280</td>\n",
       "      <td>1.000000</td>\n",
       "      <td>0.992820</td>\n",
       "      <td>0.943178</td>\n",
       "      <td>0.997731</td>\n",
       "      <td>0.995471</td>\n",
       "      <td>0.980469</td>\n",
       "      <td>NaN</td>\n",
       "      <td>-0.552365</td>\n",
       "      <td>-0.985184</td>\n",
       "    </tr>\n",
       "    <tr>\n",
       "      <th>inflight_entertainment_rating</th>\n",
       "      <td>0.991635</td>\n",
       "      <td>0.996393</td>\n",
       "      <td>0.992820</td>\n",
       "      <td>1.000000</td>\n",
       "      <td>0.919693</td>\n",
       "      <td>0.997601</td>\n",
       "      <td>0.979014</td>\n",
       "      <td>0.996039</td>\n",
       "      <td>NaN</td>\n",
       "      <td>-0.516516</td>\n",
       "      <td>-0.993144</td>\n",
       "    </tr>\n",
       "    <tr>\n",
       "      <th>recommended</th>\n",
       "      <td>0.954333</td>\n",
       "      <td>0.941664</td>\n",
       "      <td>0.943178</td>\n",
       "      <td>0.919693</td>\n",
       "      <td>1.000000</td>\n",
       "      <td>0.934366</td>\n",
       "      <td>0.959212</td>\n",
       "      <td>0.900416</td>\n",
       "      <td>NaN</td>\n",
       "      <td>-0.433995</td>\n",
       "      <td>-0.906161</td>\n",
       "    </tr>\n",
       "    <tr>\n",
       "      <th>seat_comfort_rating</th>\n",
       "      <td>0.997583</td>\n",
       "      <td>0.995810</td>\n",
       "      <td>0.997731</td>\n",
       "      <td>0.997601</td>\n",
       "      <td>0.934366</td>\n",
       "      <td>1.000000</td>\n",
       "      <td>0.989472</td>\n",
       "      <td>0.988331</td>\n",
       "      <td>NaN</td>\n",
       "      <td>-0.551684</td>\n",
       "      <td>-0.991176</td>\n",
       "    </tr>\n",
       "    <tr>\n",
       "      <th>value_money_rating</th>\n",
       "      <td>0.994633</td>\n",
       "      <td>0.979712</td>\n",
       "      <td>0.995471</td>\n",
       "      <td>0.979014</td>\n",
       "      <td>0.959212</td>\n",
       "      <td>0.989472</td>\n",
       "      <td>1.000000</td>\n",
       "      <td>0.959735</td>\n",
       "      <td>NaN</td>\n",
       "      <td>-0.580640</td>\n",
       "      <td>-0.971441</td>\n",
       "    </tr>\n",
       "    <tr>\n",
       "      <th>wifi_connectivity_rating</th>\n",
       "      <td>0.978564</td>\n",
       "      <td>0.992173</td>\n",
       "      <td>0.980469</td>\n",
       "      <td>0.996039</td>\n",
       "      <td>0.900416</td>\n",
       "      <td>0.988331</td>\n",
       "      <td>0.959735</td>\n",
       "      <td>1.000000</td>\n",
       "      <td>NaN</td>\n",
       "      <td>-0.458866</td>\n",
       "      <td>-0.989239</td>\n",
       "    </tr>\n",
       "    <tr>\n",
       "      <th>date_published</th>\n",
       "      <td>NaN</td>\n",
       "      <td>NaN</td>\n",
       "      <td>NaN</td>\n",
       "      <td>NaN</td>\n",
       "      <td>NaN</td>\n",
       "      <td>NaN</td>\n",
       "      <td>NaN</td>\n",
       "      <td>NaN</td>\n",
       "      <td>NaN</td>\n",
       "      <td>NaN</td>\n",
       "      <td>NaN</td>\n",
       "    </tr>\n",
       "    <tr>\n",
       "      <th>counter</th>\n",
       "      <td>-0.550785</td>\n",
       "      <td>-0.485055</td>\n",
       "      <td>-0.552365</td>\n",
       "      <td>-0.516516</td>\n",
       "      <td>-0.433995</td>\n",
       "      <td>-0.551684</td>\n",
       "      <td>-0.580640</td>\n",
       "      <td>-0.458866</td>\n",
       "      <td>NaN</td>\n",
       "      <td>1.000000</td>\n",
       "      <td>0.515037</td>\n",
       "    </tr>\n",
       "    <tr>\n",
       "      <th>text_len</th>\n",
       "      <td>-0.984574</td>\n",
       "      <td>-0.989248</td>\n",
       "      <td>-0.985184</td>\n",
       "      <td>-0.993144</td>\n",
       "      <td>-0.906161</td>\n",
       "      <td>-0.991176</td>\n",
       "      <td>-0.971441</td>\n",
       "      <td>-0.989239</td>\n",
       "      <td>NaN</td>\n",
       "      <td>0.515037</td>\n",
       "      <td>1.000000</td>\n",
       "    </tr>\n",
       "  </tbody>\n",
       "</table>\n",
       "</div>"
      ],
      "text/plain": [
       "                               cabin_staff_rating  food_beverages_rating  \\\n",
       "cabin_staff_rating                       1.000000               0.994334   \n",
       "food_beverages_rating                    0.994334               1.000000   \n",
       "ground_service_rating                    0.997625               0.991280   \n",
       "inflight_entertainment_rating            0.991635               0.996393   \n",
       "recommended                              0.954333               0.941664   \n",
       "seat_comfort_rating                      0.997583               0.995810   \n",
       "value_money_rating                       0.994633               0.979712   \n",
       "wifi_connectivity_rating                 0.978564               0.992173   \n",
       "date_published                                NaN                    NaN   \n",
       "counter                                 -0.550785              -0.485055   \n",
       "text_len                                -0.984574              -0.989248   \n",
       "\n",
       "                               ground_service_rating  \\\n",
       "cabin_staff_rating                          0.997625   \n",
       "food_beverages_rating                       0.991280   \n",
       "ground_service_rating                       1.000000   \n",
       "inflight_entertainment_rating               0.992820   \n",
       "recommended                                 0.943178   \n",
       "seat_comfort_rating                         0.997731   \n",
       "value_money_rating                          0.995471   \n",
       "wifi_connectivity_rating                    0.980469   \n",
       "date_published                                   NaN   \n",
       "counter                                    -0.552365   \n",
       "text_len                                   -0.985184   \n",
       "\n",
       "                               inflight_entertainment_rating  recommended  \\\n",
       "cabin_staff_rating                                  0.991635     0.954333   \n",
       "food_beverages_rating                               0.996393     0.941664   \n",
       "ground_service_rating                               0.992820     0.943178   \n",
       "inflight_entertainment_rating                       1.000000     0.919693   \n",
       "recommended                                         0.919693     1.000000   \n",
       "seat_comfort_rating                                 0.997601     0.934366   \n",
       "value_money_rating                                  0.979014     0.959212   \n",
       "wifi_connectivity_rating                            0.996039     0.900416   \n",
       "date_published                                           NaN          NaN   \n",
       "counter                                            -0.516516    -0.433995   \n",
       "text_len                                           -0.993144    -0.906161   \n",
       "\n",
       "                               seat_comfort_rating  value_money_rating  \\\n",
       "cabin_staff_rating                        0.997583            0.994633   \n",
       "food_beverages_rating                     0.995810            0.979712   \n",
       "ground_service_rating                     0.997731            0.995471   \n",
       "inflight_entertainment_rating             0.997601            0.979014   \n",
       "recommended                               0.934366            0.959212   \n",
       "seat_comfort_rating                       1.000000            0.989472   \n",
       "value_money_rating                        0.989472            1.000000   \n",
       "wifi_connectivity_rating                  0.988331            0.959735   \n",
       "date_published                                 NaN                 NaN   \n",
       "counter                                  -0.551684           -0.580640   \n",
       "text_len                                 -0.991176           -0.971441   \n",
       "\n",
       "                               wifi_connectivity_rating  date_published  \\\n",
       "cabin_staff_rating                             0.978564             NaN   \n",
       "food_beverages_rating                          0.992173             NaN   \n",
       "ground_service_rating                          0.980469             NaN   \n",
       "inflight_entertainment_rating                  0.996039             NaN   \n",
       "recommended                                    0.900416             NaN   \n",
       "seat_comfort_rating                            0.988331             NaN   \n",
       "value_money_rating                             0.959735             NaN   \n",
       "wifi_connectivity_rating                       1.000000             NaN   \n",
       "date_published                                      NaN             NaN   \n",
       "counter                                       -0.458866             NaN   \n",
       "text_len                                      -0.989239             NaN   \n",
       "\n",
       "                                counter  text_len  \n",
       "cabin_staff_rating            -0.550785 -0.984574  \n",
       "food_beverages_rating         -0.485055 -0.989248  \n",
       "ground_service_rating         -0.552365 -0.985184  \n",
       "inflight_entertainment_rating -0.516516 -0.993144  \n",
       "recommended                   -0.433995 -0.906161  \n",
       "seat_comfort_rating           -0.551684 -0.991176  \n",
       "value_money_rating            -0.580640 -0.971441  \n",
       "wifi_connectivity_rating      -0.458866 -0.989239  \n",
       "date_published                      NaN       NaN  \n",
       "counter                        1.000000  0.515037  \n",
       "text_len                       0.515037  1.000000  "
      ]
     },
     "execution_count": 20,
     "metadata": {},
     "output_type": "execute_result"
    }
   ],
   "source": [
    "rating = airline.groupby('overall_rating').mean()\n",
    "rating.corr()"
   ]
  },
  {
   "cell_type": "raw",
   "metadata": {},
   "source": [
    "Most of the data is highly correlated. "
   ]
  },
  {
   "cell_type": "code",
   "execution_count": 21,
   "metadata": {},
   "outputs": [
    {
     "data": {
      "text/plain": [
       "<matplotlib.axes._subplots.AxesSubplot at 0x22039e8e0b8>"
      ]
     },
     "execution_count": 21,
     "metadata": {},
     "output_type": "execute_result"
    },
    {
     "data": {
      "image/png": "[encoded data removed]",
      "text/plain": [
       "<Figure size 432x288 with 2 Axes>"
      ]
     },
     "metadata": {},
     "output_type": "display_data"
    }
   ],
   "source": [
    "sns.heatmap(data=rating.corr(), annot=False)"
   ]
  },
  {
   "cell_type": "code",
   "execution_count": 22,
   "metadata": {},
   "outputs": [
    {
     "data": {
      "text/plain": [
       "<matplotlib.axes._subplots.AxesSubplot at 0x22039fb0f98>"
      ]
     },
     "execution_count": 22,
     "metadata": {},
     "output_type": "execute_result"
    },
    {
     "data": {
      "image/png": "[encoded data removed]",
      "text/plain": [
       "<Figure size 432x288 with 1 Axes>"
      ]
     },
     "metadata": {},
     "output_type": "display_data"
    }
   ],
   "source": [
    "sns.violinplot(airline.recommended, airline.overall_rating)"
   ]
  },
  {
   "cell_type": "markdown",
   "metadata": {},
   "source": [
    "10, 9, and 8 are almost exclusively recommended while 7, 6, and 5 are sometimes recommended sometimes not recommended.Scores 4 and lower are almost never recommended. "
   ]
  },
  {
   "cell_type": "code",
   "execution_count": null,
   "metadata": {},
   "outputs": [],
   "source": []
  }
 ],
 "metadata": {
  "kernelspec": {
   "display_name": "mlg_2",
   "language": "python",
   "name": "mlg_2"
  },
  "language_info": {
   "codemirror_mode": {
    "name": "ipython",
    "version": 3
   },
   "file_extension": ".py",
   "mimetype": "text/x-python",
   "name": "python",
   "nbconvert_exporter": "python",
   "pygments_lexer": "ipython3",
   "version": "3.5.5"
  }
 },
 "nbformat": 4,
 "nbformat_minor": 2
}
