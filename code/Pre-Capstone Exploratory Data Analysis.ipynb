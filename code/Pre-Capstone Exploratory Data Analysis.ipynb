{
 "cells": [
  {
   "cell_type": "code",
   "execution_count": 2,
   "metadata": {},
   "outputs": [],
   "source": [
    "import pandas as pd"
   ]
  },
  {
   "cell_type": "code",
   "execution_count": 6,
   "metadata": {},
   "outputs": [],
   "source": [
    "airline = pd.read_csv(\"https://raw.githubusercontent.com/quankiquanki/skytrax-reviews-dataset/master/data/airline.csv\")\n",
    "airport = pd.read_csv(\"https://raw.githubusercontent.com/quankiquanki/skytrax-reviews-dataset/master/data/airport.csv\")\n",
    "lounge = pd.read_csv(\"https://raw.githubusercontent.com/quankiquanki/skytrax-reviews-dataset/master/data/lounge.csv\")\n",
    "seat = pd.read_csv(\"https://raw.githubusercontent.com/quankiquanki/skytrax-reviews-dataset/master/data/seat.csv\")"
   ]
  },
  {
   "cell_type": "code",
   "execution_count": 8,
   "metadata": {},
   "outputs": [
    {
     "data": {
      "text/plain": [
       "Index(['airline_name', 'link', 'title', 'author', 'author_country', 'date',\n",
       "       'content', 'aircraft', 'seat_layout', 'date_flown', 'cabin_flown',\n",
       "       'type_traveller', 'overall_rating', 'seat_legroom_rating',\n",
       "       'seat_recline_rating', 'seat_width_rating', 'aisle_space_rating',\n",
       "       'viewing_tv_rating', 'power_supply_rating', 'seat_storage_rating',\n",
       "       'recommended'],\n",
       "      dtype='object')"
      ]
     },
     "execution_count": 8,
     "metadata": {},
     "output_type": "execute_result"
    }
   ],
   "source": [
    "seat.columns"
   ]
  },
  {
   "cell_type": "code",
   "execution_count": 9,
   "metadata": {},
   "outputs": [],
   "source": [
    "dk_df = pd.read_csv(\"https://raw.githubusercontent.com/rogerfitz/tutorials/master/draft-kings-history-scrape/salaries2014-2016.csv\")"
   ]
  },
  {
   "cell_type": "code",
   "execution_count": 9,
   "metadata": {},
   "outputs": [],
   "source": [
    "airline.to_csv('airline.csv')\n",
    "airport.to_csv('airport.csv')\n",
    "lounge.to_csv('lounge.csv')\n",
    "seat.to_csv('seat.csv')"
   ]
  },
  {
   "cell_type": "code",
   "execution_count": 11,
   "metadata": {},
   "outputs": [
    {
     "data": {
      "text/html": [
       "<div>\n",
       "<style scoped>\n",
       "    .dataframe tbody tr th:only-of-type {\n",
       "        vertical-align: middle;\n",
       "    }\n",
       "\n",
       "    .dataframe tbody tr th {\n",
       "        vertical-align: top;\n",
       "    }\n",
       "\n",
       "    .dataframe thead th {\n",
       "        text-align: right;\n",
       "    }\n",
       "</style>\n",
       "<table border=\"1\" class=\"dataframe\">\n",
       "  <thead>\n",
       "    <tr style=\"text-align: right;\">\n",
       "      <th></th>\n",
       "      <th>DK points</th>\n",
       "      <th>DK salary</th>\n",
       "    </tr>\n",
       "  </thead>\n",
       "  <tbody>\n",
       "    <tr>\n",
       "      <th>DK points</th>\n",
       "      <td>1.000000</td>\n",
       "      <td>0.581386</td>\n",
       "    </tr>\n",
       "    <tr>\n",
       "      <th>DK salary</th>\n",
       "      <td>0.581386</td>\n",
       "      <td>1.000000</td>\n",
       "    </tr>\n",
       "  </tbody>\n",
       "</table>\n",
       "</div>"
      ],
      "text/plain": [
       "           DK points  DK salary\n",
       "DK points   1.000000   0.581386\n",
       "DK salary   0.581386   1.000000"
      ]
     },
     "execution_count": 11,
     "metadata": {},
     "output_type": "execute_result"
    }
   ],
   "source": [
    "dk_df[['DK points', 'DK salary']].corr()"
   ]
  },
  {
   "cell_type": "code",
   "execution_count": null,
   "metadata": {},
   "outputs": [],
   "source": []
  }
 ],
 "metadata": {
  "kernelspec": {
   "display_name": "mlg_2",
   "language": "python",
   "name": "mlg_2"
  },
  "language_info": {
   "codemirror_mode": {
    "name": "ipython",
    "version": 3
   },
   "file_extension": ".py",
   "mimetype": "text/x-python",
   "name": "python",
   "nbconvert_exporter": "python",
   "pygments_lexer": "ipython3",
   "version": "3.5.5"
  }
 },
 "nbformat": 4,
 "nbformat_minor": 2
}
