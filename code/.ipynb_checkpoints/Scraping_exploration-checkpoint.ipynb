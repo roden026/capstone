{
 "cells": [
  {
   "cell_type": "code",
   "execution_count": 1,
   "metadata": {},
   "outputs": [],
   "source": [
    "# function and script for getting refreshed data from airline quality/skytrax\n",
    "# The focus will be on getting recent data however this could be updated to scrape all data"
   ]
  },
  {
   "cell_type": "code",
   "execution_count": 2,
   "metadata": {},
   "outputs": [],
   "source": [
    "import re #Regular expressions\n",
    "from bs4 import BeautifulSoup # a python HTML parser\n",
    "import requests\n",
    "import string\n",
    "import pandas as pd"
   ]
  },
  {
   "cell_type": "code",
   "execution_count": 3,
   "metadata": {},
   "outputs": [],
   "source": [
    "# The first step will be to get a list of all the airlines using the a-z airlines reviews page\n",
    "url = \"http://www.airlinequality.com/review-pages/a-z-airline-reviews/\""
   ]
  },
  {
   "cell_type": "code",
   "execution_count": 4,
   "metadata": {},
   "outputs": [
    {
     "data": {
      "text/plain": [
       "200"
      ]
     },
     "execution_count": 4,
     "metadata": {},
     "output_type": "execute_result"
    }
   ],
   "source": [
    "r = requests.get(url)\n",
    "r.status_code"
   ]
  },
  {
   "cell_type": "markdown",
   "metadata": {},
   "source": [
    "200 status means successful. So far so good. "
   ]
  },
  {
   "cell_type": "code",
   "execution_count": 5,
   "metadata": {},
   "outputs": [],
   "source": [
    "# Now use beautiful soup to pull in data (make soup)\n",
    "soup = BeautifulSoup(r.content, 'html.parser')"
   ]
  },
  {
   "cell_type": "code",
   "execution_count": 6,
   "metadata": {},
   "outputs": [],
   "source": [
    "# find the IDs we are interested in - this will just be the \"A\" airlines so will need to build loop but let's take a look at A to start\n",
    "col_groups = soup.find(id=\"a2z-ldr-B\")"
   ]
  },
  {
   "cell_type": "code",
   "execution_count": 8,
   "metadata": {},
   "outputs": [
    {
     "data": {
      "text/plain": [
       "'<div class=\"content \" id=\"a2z-ldr-B\">\\n <div class=\"a_z_col_group\">\\n  <ul class=\"items\">\\n   <li>\\n    <a href=\"/airline-reviews/ba-cityflyer\">\\n     BA CityFlyer\\n    </a>\\n   </li>\\n   <li>\\n    <a href=\"/airline-reviews/badr-airlines\">\\n     Badr Airlines\\n    </a>\\n   </li>\\n   <li>\\n    <a href=\"/airline-reviews/bahamasair\">\\n     Bahamasair\\n    </a>\\n   </li>\\n   <li>\\n    <a href=\"/airline-reviews/bangkok-airways\">\\n     Bangkok Airways\\n    </a>\\n   </li>\\n   <li>\\n    <a href=\"/airline-reviews/bassaka-air\">\\n     Bassaka Air\\n    </a>\\n   </li>\\n   <li>\\n    <a href=\"/airline-reviews/batik-air\">\\n     Batik Air\\n    </a>\\n   </li>\\n   <li>\\n    <a href=\"/airline-reviews/beijing-capital-airlines\">\\n     Beijing Capital Airlines\\n    </a>\\n   </li>\\n   <li>\\n    <a href=\"/airline-reviews/belavia\">\\n     Belavia\\n    </a>\\n   </li>\\n   <li>\\n    <a href=\"/airline-reviews/berjaya-air\">\\n     Berjaya Air\\n    </a>\\n   </li>\\n  </ul>\\n  <ul class=\"items\">\\n   <li>\\n    <a href=\"/airline-reviews/bh-airlines\">\\n     BH Air\\n    </a>\\n   </li>\\n   <li>\\n    <a href=\"/airline-reviews/bhutan-airlines\">\\n     Bhutan Airlines\\n    </a>\\n   </li>\\n   <li>\\n    <a href=\"/airline-reviews/biman-bangladesh\">\\n     Biman Bangladesh Airlines\\n    </a>\\n   </li>\\n   <li>\\n    <a href=\"/airline-reviews/binter-canarias\">\\n     Binter Canarias\\n    </a>\\n   </li>\\n   <li>\\n    <a href=\"/airline-reviews/bluexpress\">\\n     Blu-express\\n    </a>\\n   </li>\\n   <li>\\n    <a href=\"/airline-reviews/blue-air\">\\n     Blue Air\\n    </a>\\n   </li>\\n  </ul>\\n </div>\\n <div class=\"a_z_col_group\">\\n  <ul class=\"items\">\\n   <li>\\n    <a href=\"/airline-reviews/blue-islands\">\\n     Blue Islands\\n    </a>\\n   </li>\\n   <li>\\n    <a href=\"/airline-reviews/blue-panorama-airlines\">\\n     Blue Panorama Airlines\\n    </a>\\n   </li>\\n   <li>\\n    <a href=\"/airline-reviews/blue1\">\\n     Blue1\\n    </a>\\n   </li>\\n   <li>\\n    <a href=\"/airline-reviews/bmi-regional\">\\n     bmi Regional\\n    </a>\\n   </li>\\n   <li>\\n    <a href=\"/airline-reviews/boliviana-de-aviacin\">\\n     Boliviana de Aviacion\\n    </a>\\n   </li>\\n   <li>\\n    <a href=\"/airline-reviews/borajet\">\\n     BoraJet\\n    </a>\\n   </li>\\n  </ul>\\n  <ul class=\"items\">\\n   <li>\\n    <a href=\"/airline-reviews/boutique-air\">\\n     Boutique Air\\n    </a>\\n   </li>\\n   <li>\\n    <a href=\"/airline-reviews/british-airways\">\\n     British Airways\\n    </a>\\n   </li>\\n   <li>\\n    <a href=\"/airline-reviews/brussels-airlines\">\\n     Brussels Airlines\\n    </a>\\n   </li>\\n   <li>\\n    <a href=\"/airline-reviews/buddha-air\">\\n     Buddha Air\\n    </a>\\n   </li>\\n   <li>\\n    <a href=\"/airline-reviews/bulgaria-air\">\\n     Bulgaria Air\\n    </a>\\n   </li>\\n   <li>\\n    <a href=\"/airline-reviews/buraq\">\\n     Buraq Air\\n    </a>\\n   </li>\\n  </ul>\\n </div>\\n</div>\\n'"
      ]
     },
     "execution_count": 8,
     "metadata": {},
     "output_type": "execute_result"
    }
   ],
   "source": [
    "col_groups.prettify()"
   ]
  },
  {
   "cell_type": "markdown",
   "metadata": {},
   "source": [
    "This pulls a lot more than we need, but gets everything we're looking for from Aa to Az. Now we just need to extract the website extension which is stored as href=\"/airline-reviews/airline-name\""
   ]
  },
  {
   "cell_type": "code",
   "execution_count": 9,
   "metadata": {},
   "outputs": [
    {
     "name": "stdout",
     "output_type": "stream",
     "text": [
      "/airline-reviews/ba-cityflyer\n",
      "BA CityFlyer\n",
      "/airline-reviews/badr-airlines\n",
      "Badr Airlines\n",
      "/airline-reviews/bahamasair\n",
      "Bahamasair\n",
      "/airline-reviews/bangkok-airways\n",
      "Bangkok Airways\n",
      "/airline-reviews/bassaka-air\n",
      "Bassaka Air\n",
      "/airline-reviews/batik-air\n",
      "Batik Air\n",
      "/airline-reviews/beijing-capital-airlines\n",
      "Beijing Capital Airlines\n",
      "/airline-reviews/belavia\n",
      "Belavia\n",
      "/airline-reviews/berjaya-air\n",
      "Berjaya Air\n",
      "/airline-reviews/bh-airlines\n",
      "BH Air\n",
      "/airline-reviews/bhutan-airlines\n",
      "Bhutan Airlines\n",
      "/airline-reviews/biman-bangladesh\n",
      "Biman Bangladesh Airlines\n",
      "/airline-reviews/binter-canarias\n",
      "Binter Canarias\n",
      "/airline-reviews/bluexpress\n",
      "Blu-express\n",
      "/airline-reviews/blue-air\n",
      "Blue Air\n",
      "/airline-reviews/blue-islands\n",
      "Blue Islands\n",
      "/airline-reviews/blue-panorama-airlines\n",
      "Blue Panorama Airlines\n",
      "/airline-reviews/blue1\n",
      "Blue1\n",
      "/airline-reviews/bmi-regional\n",
      "bmi Regional\n",
      "/airline-reviews/boliviana-de-aviacin\n",
      "Boliviana de Aviacion\n",
      "/airline-reviews/borajet\n",
      "BoraJet\n",
      "/airline-reviews/boutique-air\n",
      "Boutique Air\n",
      "/airline-reviews/british-airways\n",
      "British Airways\n",
      "/airline-reviews/brussels-airlines\n",
      "Brussels Airlines\n",
      "/airline-reviews/buddha-air\n",
      "Buddha Air\n",
      "/airline-reviews/bulgaria-air\n",
      "Bulgaria Air\n",
      "/airline-reviews/buraq\n",
      "Buraq Air\n"
     ]
    }
   ],
   "source": [
    "# all A value href data\n",
    "for a in col_groups.find_all('a', href=True):\n",
    "    print(a['href'])\n",
    "    print(a.get_text())"
   ]
  },
  {
   "cell_type": "code",
   "execution_count": 9,
   "metadata": {},
   "outputs": [],
   "source": [
    "'''\n",
    "Function to loop through the alphabet and return a list of all airline references. \n",
    "The function is pretty rigid to start. May revist to add some additional flexibility\n",
    "'''\n",
    "\n",
    "import re #Regular expressions\n",
    "from bs4 import BeautifulSoup # a python HTML parser\n",
    "import requests\n",
    "import string\n",
    "\n",
    "def get_airlines():\n",
    "    \n",
    "    # set url to airline reviews a-z review page\n",
    "    url = \"http://www.airlinequality.com/review-pages/a-z-airline-reviews/\"\n",
    "    \n",
    "    # request the url\n",
    "    r = requests.get(url)\n",
    "    \n",
    "    hrefs = []\n",
    "    airlines = []\n",
    "    \n",
    "    # 200 status code indicates success\n",
    "    if(r.status_code == 200):\n",
    "        \n",
    "        # Now use beautiful soup to pull in data (make soup)\n",
    "        soup = BeautifulSoup(r.content, 'html.parser')\n",
    "        \n",
    "        # loop through all uppercase letters (A-Y, no Z airline reviews)\n",
    "        for letter in list(string.ascii_uppercase[:25]):\n",
    "            \n",
    "            # add letter to id name determined above\n",
    "            id_letter = \"a2z-ldr-\" + letter\n",
    "            col_groups = soup.find(id=id_letter)\n",
    "            \n",
    "            # loop through all a elements to find the href data\n",
    "            for a in col_groups.find_all('a', href=True):\n",
    "                hrefs.append(a['href'])\n",
    "                airlines.append(a.get_text())\n",
    "                \n",
    "    return hrefs, airlines"
   ]
  },
  {
   "cell_type": "code",
   "execution_count": 10,
   "metadata": {},
   "outputs": [],
   "source": [
    "airlines = get_airlines()"
   ]
  },
  {
   "cell_type": "code",
   "execution_count": 11,
   "metadata": {},
   "outputs": [
    {
     "name": "stdout",
     "output_type": "stream",
     "text": [
      "/airline-reviews/adria-airways\n",
      "Adria Airways\n"
     ]
    }
   ],
   "source": [
    "print(airlines[0][0])\n",
    "print(airlines[1][0])"
   ]
  },
  {
   "cell_type": "code",
   "execution_count": 13,
   "metadata": {},
   "outputs": [
    {
     "name": "stdout",
     "output_type": "stream",
     "text": [
      "468\n",
      "468\n"
     ]
    }
   ],
   "source": [
    "print(len(airlines[0]))\n",
    "print(len(airlines[1]))"
   ]
  },
  {
   "cell_type": "code",
   "execution_count": 14,
   "metadata": {},
   "outputs": [],
   "source": [
    "'''\n",
    "The next step will be to iterate through each href/hyperlink \n",
    "'''\n",
    "sample_url = \"http://www.airlinequality.com/airline-reviews/ba-cityflyer/page/1/\" "
   ]
  },
  {
   "cell_type": "code",
   "execution_count": 15,
   "metadata": {},
   "outputs": [
    {
     "data": {
      "text/plain": [
       "200"
      ]
     },
     "execution_count": 15,
     "metadata": {},
     "output_type": "execute_result"
    }
   ],
   "source": [
    "r = requests.get(sample_url)\n",
    "r.status_code"
   ]
  },
  {
   "cell_type": "code",
   "execution_count": 16,
   "metadata": {},
   "outputs": [
    {
     "data": {
      "text/plain": [
       "200"
      ]
     },
     "execution_count": 16,
     "metadata": {},
     "output_type": "execute_result"
    }
   ],
   "source": [
    "'''\n",
    "We will be looping through pages for each airline and rather than look for how many pages \n",
    "each airline has, let's check what status is returned for an out of range page number\n",
    "'''\n",
    "\n",
    "error_url = \"http://www.airlinequality.com/airline-reviews/ba-cityflyer/page/10/\" \n",
    "\n",
    "r = requests.get(error_url)\n",
    "r.status_code"
   ]
  },
  {
   "cell_type": "markdown",
   "metadata": {},
   "source": [
    "No error status is thrown when index is out of range. This means another check will need to be made to determine when to stop pulling reviews. This will be revisited below. "
   ]
  },
  {
   "cell_type": "code",
   "execution_count": 17,
   "metadata": {},
   "outputs": [],
   "source": [
    "# Now use beautiful soup to pull in data (make soup)\n",
    "r = requests.get(sample_url)\n",
    "soup = BeautifulSoup(r.content, 'html.parser')"
   ]
  },
  {
   "cell_type": "code",
   "execution_count": 18,
   "metadata": {},
   "outputs": [],
   "source": [
    "# find an entire review structure\n",
    "review = soup.find(itemprop=\"review\")"
   ]
  },
  {
   "cell_type": "code",
   "execution_count": 19,
   "metadata": {},
   "outputs": [
    {
     "data": {
      "text/plain": [
       "'✅ Trip Verified |  London City to Mykonos. I usually love BA Cityflyer from LCY - really good airline, nice planes and plenty of room. This trip we flew Club Europe to Mykonos - a 3hour 45min flight. The service was atrocious. There is no BA lounge at LCY so really the only differentiation is the on-board product; they should really make an effort. The crew spend most of the flight chatting in the galley. They eventually came out after 50 minutes and gave us a drink. Food was good, but they did not provide ice-cream or desert as per the menu. The CSM dropped a salad at my feet, tomato all up my legs and on my shoes without an apology. The remnants just sat there for the rest of the flight being trodden into the carpet. No tea and coffee was offered. No hot towels. In fact, there was very little engagement with any passengers. This was not a bust flight, there was no turbulence or other reason for a lack of service. It really did just appear that the crew could not be bothered. Such a shame when a business ticket on this flight costs nearly £300 one way, On a positive note, we flew back in economy and the service was far superior! This may have just been a bad experience but come on, BA, you should be delivering what you advertise. I have complained but I guess it will fall on deaf ears.'"
      ]
     },
     "execution_count": 19,
     "metadata": {},
     "output_type": "execute_result"
    }
   ],
   "source": [
    "# find specifically the content section of the review\n",
    "content = review.find(itemprop=\"reviewBody\").get_text()\n",
    "content"
   ]
  },
  {
   "cell_type": "code",
   "execution_count": 20,
   "metadata": {},
   "outputs": [
    {
     "data": {
      "text/plain": [
       "'London City to Mykonos. I usually love BA Cityflyer from LCY - really good airline, nice planes and plenty of room. This trip we flew Club Europe to Mykonos - a 3hour 45min flight. The service was atrocious. There is no BA lounge at LCY so really the only differentiation is the on-board product; they should really make an effort. The crew spend most of the flight chatting in the galley. They eventually came out after 50 minutes and gave us a drink. Food was good, but they did not provide ice-cream or desert as per the menu. The CSM dropped a salad at my feet, tomato all up my legs and on my shoes without an apology. The remnants just sat there for the rest of the flight being trodden into the carpet. No tea and coffee was offered. No hot towels. In fact, there was very little engagement with any passengers. This was not a bust flight, there was no turbulence or other reason for a lack of service. It really did just appear that the crew could not be bothered. Such a shame when a business ticket on this flight costs nearly £300 one way, On a positive note, we flew back in economy and the service was far superior! This may have just been a bad experience but come on, BA, you should be delivering what you advertise. I have complained but I guess it will fall on deaf ears.'"
      ]
     },
     "execution_count": 20,
     "metadata": {},
     "output_type": "execute_result"
    }
   ],
   "source": [
    "content[(content.find('| ')+3):] #formatting"
   ]
  },
  {
   "cell_type": "code",
   "execution_count": 21,
   "metadata": {},
   "outputs": [],
   "source": [
    "# other fields that we are interested in are stored separately in a reviews table\n",
    "\n",
    "# list to store data - this will be appended to a larger list/dataframe which will have values from all reviews\n",
    "record = []\n",
    "\n",
    "# within a review, find the ratings table\n",
    "table = review.find('table', attrs={'class':'review-ratings'})\n",
    "\n",
    "# grab all records in the table and loop through the rows\n",
    "for item in table.findAll(\"tr\"):\n",
    "    pair = item.findAll(\"td\")\n",
    "    \n",
    "    record.append({pair[0].get_text():pair[1].get_text()})\n",
    "    # pair[0] # identifier\n",
    "    # pair[1] # value"
   ]
  },
  {
   "cell_type": "code",
   "execution_count": 22,
   "metadata": {},
   "outputs": [
    {
     "data": {
      "text/plain": [
       "[{'Aircraft': 'E190'},\n",
       " {'Type Of Traveller': 'Couple Leisure'},\n",
       " {'Cabin Flown': 'Business Class'},\n",
       " {'Route': 'London City to Mykonos'},\n",
       " {'Date Flown': 'June 2018'},\n",
       " {'Seat Comfort': '12345'},\n",
       " {'Cabin Staff Service': '12345'},\n",
       " {'Food & Beverages': '12345'},\n",
       " {'Ground Service': '12345'},\n",
       " {'Value For Money': '12345'},\n",
       " {'Recommended': 'no'}]"
      ]
     },
     "execution_count": 22,
     "metadata": {},
     "output_type": "execute_result"
    }
   ],
   "source": [
    "record"
   ]
  },
  {
   "cell_type": "markdown",
   "metadata": {},
   "source": [
    "This is close to being a complete way record but Seat Comfort - Value for Money are coming in oddly. This is because these data items are structured differently."
   ]
  },
  {
   "cell_type": "code",
   "execution_count": 23,
   "metadata": {},
   "outputs": [
    {
     "data": {
      "text/plain": [
       "<td class=\"review-rating-stars stars\"><span class=\"star fill\">1</span><span class=\"star fill\">2</span><span class=\"star fill\">3</span><span class=\"star fill\">4</span><span class=\"star\">5</span></td>"
      ]
     },
     "execution_count": 23,
     "metadata": {},
     "output_type": "execute_result"
    }
   ],
   "source": [
    "'''\n",
    "Will need to look at where class = review_star.... and count where it's class is filled. \n",
    "'''\n",
    "\n",
    "# within a review, find the ratings table\n",
    "table = review.find('table', attrs={'class':'review-ratings'})\n",
    "\n",
    "# grab all records in the table and loop through the rows\n",
    "item = table.find(\"td\", {\"class\": \"review-rating-stars stars\"})\n",
    "\n",
    "item"
   ]
  },
  {
   "cell_type": "code",
   "execution_count": 24,
   "metadata": {},
   "outputs": [
    {
     "data": {
      "text/plain": [
       "[<span class=\"star fill\">1</span>,\n",
       " <span class=\"star fill\">2</span>,\n",
       " <span class=\"star fill\">3</span>,\n",
       " <span class=\"star fill\">4</span>]"
      ]
     },
     "execution_count": 24,
     "metadata": {},
     "output_type": "execute_result"
    }
   ],
   "source": [
    "item.find_all(\"span\", {'class': \"star fill\"})"
   ]
  },
  {
   "cell_type": "code",
   "execution_count": 25,
   "metadata": {},
   "outputs": [
    {
     "data": {
      "text/plain": [
       "4"
      ]
     },
     "execution_count": 25,
     "metadata": {},
     "output_type": "execute_result"
    }
   ],
   "source": [
    "len(item.find_all(\"span\", {'class': \"star fill\"}))"
   ]
  },
  {
   "cell_type": "markdown",
   "metadata": {},
   "source": [
    "So this gets us our correct rating"
   ]
  },
  {
   "cell_type": "code",
   "execution_count": 26,
   "metadata": {},
   "outputs": [],
   "source": [
    "'''\n",
    "update this code and expand to make into a useful function\n",
    "'''\n",
    "\n",
    "# other fields that we are interested in are stored separately in a reviews table\n",
    "\n",
    "# list to store data - this will be appended to a larger list/dataframe which will have values from all reviews\n",
    "record = []\n",
    "\n",
    "# within a review, find the ratings table\n",
    "table = review.find('table', attrs={'class':'review-ratings'})\n",
    "\n",
    "# grab all records in the table and loop through the rows\n",
    "for item in table.findAll('tr'):\n",
    "    pair = item.findAll('td')\n",
    "    if item.find('td', {'class': 'review-rating-stars stars'}) is None:\n",
    "        record.append({pair[0].get_text():pair[1].get_text()})\n",
    "        \n",
    "    else:\n",
    "        record.append({pair[0].get_text(): len(pair[1].find_all('span', {'class': 'star fill'}))})\n",
    "        \n"
   ]
  },
  {
   "cell_type": "code",
   "execution_count": 27,
   "metadata": {},
   "outputs": [
    {
     "data": {
      "text/plain": [
       "[{'Aircraft': 'E190'},\n",
       " {'Type Of Traveller': 'Couple Leisure'},\n",
       " {'Cabin Flown': 'Business Class'},\n",
       " {'Route': 'London City to Mykonos'},\n",
       " {'Date Flown': 'June 2018'},\n",
       " {'Seat Comfort': 4},\n",
       " {'Cabin Staff Service': 1},\n",
       " {'Food & Beverages': 3},\n",
       " {'Ground Service': 4},\n",
       " {'Value For Money': 1},\n",
       " {'Recommended': 'no'}]"
      ]
     },
     "execution_count": 27,
     "metadata": {},
     "output_type": "execute_result"
    }
   ],
   "source": [
    "record"
   ]
  },
  {
   "cell_type": "markdown",
   "metadata": {},
   "source": [
    "Now I have a list of all the airlines, I know the page structure, and can read in a review. Next I will build the function that will take in the list of airlines and will loop through all pages and all reviews for all airlines. "
   ]
  },
  {
   "cell_type": "code",
   "execution_count": 30,
   "metadata": {},
   "outputs": [],
   "source": [
    "'''\n",
    "Get Data: Takes in a list of airlines and scrapes all reviews for that list of airlines\n",
    "Possible new features - include getting complete list of airlines - get only the most recent x results\n",
    "'''\n",
    "\n",
    "\n",
    "# add import calls in this cell\n",
    "import re #Regular expressions\n",
    "from bs4 import BeautifulSoup # a python HTML parser\n",
    "import requests\n",
    "import string\n",
    "import pandas as pd\n",
    "\n",
    "# airlines should be a list formatted as the get_airlines function returns meaning [0] is href and [1] is plain text name\n",
    "def get_data(airlines):\n",
    "    \n",
    "    # URL structure of a reviews page\n",
    "    # http://www.airlinequality.com/airline-reviews/ba-cityflyer/page/1/\n",
    "    \n",
    "    url_start = \"http://www.airlinequality.com\"\n",
    "    url_end = \"/page/\"\n",
    "    \n",
    "    # Now we have a list of the urls (with out the page numbers)\n",
    "    urls = [url_start + link + url_end for link in airlines[0]]\n",
    "    names = airlines[1]\n",
    "    \n",
    "    # data - list of dictionaries where each dictionary will be a record\n",
    "    out_data = []\n",
    "    \n",
    "    # for each airline\n",
    "    for i in range(len(urls)-1):\n",
    "        \n",
    "        \n",
    "        print(urls[i])\n",
    "        \n",
    "        # The next loop will need to be conditional since we don't know how many review pages each airline has\n",
    "        valid_page = True\n",
    "        page_num = 1\n",
    "        # x = 1\n",
    "        \n",
    "        while valid_page:\n",
    "            \n",
    "            # print(\"airline {}\".format(urls[i]))\n",
    "            \n",
    "            # form new url, if none type returned on request, end loop, else get content \n",
    "            url_page = str(urls[i] +str(page_num) + \"/\")\n",
    "            \n",
    "            r = requests.get(url_page)\n",
    "            soup = BeautifulSoup(r.content, 'html.parser')\n",
    "            \n",
    "            # find all reviews on the page\n",
    "            reviews = soup.find_all(itemprop=\"review\")\n",
    "\n",
    "            # if no reviews are found then we have exceeded the page limit\n",
    "            if len(reviews) > 0 or reviews is not None:\n",
    "            \n",
    "                # print(\"page {}\".format(page_num))\n",
    "                               \n",
    "                # loop through reviews\n",
    "                for review in reviews:\n",
    "                    \n",
    "                    # list to store data - this will be appended to a larger list/dataframe which will have values from all reviews\n",
    "                    record = {\"airline\": names[i], 'link': urls[i]}\n",
    "\n",
    "                    # find specifically the content section of the review\n",
    "                    content = review.find(itemprop=\"reviewBody\").get_text()\n",
    "                    content = content[(content.find('| ')+3):] #formatting\n",
    "\n",
    "                    record.update({\"content\": content})\n",
    "\n",
    "                    # within a review, find the ratings table\n",
    "                    table = review.find('table', attrs={'class':'review-ratings'})\n",
    "\n",
    "                    # grab all records in the table and loop through the rows\n",
    "                    for item in table.findAll('tr'):\n",
    "                        pair = item.findAll('td')\n",
    "                        if item.find('td', {'class': 'review-rating-stars stars'}) is None:\n",
    "                            record.update({pair[0].get_text():pair[1].get_text()})\n",
    "\n",
    "                        else:\n",
    "                            record.update({pair[0].get_text(): len(pair[1].find_all('span', {'class': 'star fill'}))})\n",
    "\n",
    "                    out_data.append(record)\n",
    "                    # print('review {}'.format(x))\n",
    "                    # x += 1\n",
    "\n",
    "                page_num += 1\n",
    "            \n",
    "            else:\n",
    "                valid_page = False\n",
    "                \n",
    "    out_data_df = pd.DataFrame(out_data)\n",
    "        \n",
    "    return out_data_df\n",
    "    \n",
    "    "
   ]
  },
  {
   "cell_type": "code",
   "execution_count": null,
   "metadata": {},
   "outputs": [
    {
     "name": "stdout",
     "output_type": "stream",
     "text": [
      "http://www.airlinequality.com/airline-reviews/adria-airways/page/\n"
     ]
    }
   ],
   "source": [
    "airlines = get_airlines()\n",
    "\n",
    "'''\n",
    "href = [\"/airline-reviews/ba-cityflyer\"]\n",
    "city = [\"BA CityFlyer\"]\n",
    "\n",
    "airlines = []\n",
    "airlines.append(href)\n",
    "airlines.append(city)\n",
    "airlines\n",
    "'''\n",
    "\n",
    "results = get_data(airlines)"
   ]
  },
  {
   "cell_type": "code",
   "execution_count": null,
   "metadata": {},
   "outputs": [],
   "source": [
    "# start at 8:40\n",
    "\n",
    "from time import gmtime, strftime\n",
    "strftime(\"%Y-%m-%d %H:%M:%S\", gmtime())"
   ]
  },
  {
   "cell_type": "code",
   "execution_count": null,
   "metadata": {},
   "outputs": [],
   "source": [
    "results.head()\n",
    "\n",
    "results.to_csv('self_gen_airlines.csv')"
   ]
  },
  {
   "cell_type": "code",
   "execution_count": null,
   "metadata": {},
   "outputs": [],
   "source": []
  }
 ],
 "metadata": {
  "kernelspec": {
   "display_name": "mlg_2",
   "language": "python",
   "name": "mlg_2"
  },
  "language_info": {
   "codemirror_mode": {
    "name": "ipython",
    "version": 3
   },
   "file_extension": ".py",
   "mimetype": "text/x-python",
   "name": "python",
   "nbconvert_exporter": "python",
   "pygments_lexer": "ipython3",
   "version": "3.5.5"
  }
 },
 "nbformat": 4,
 "nbformat_minor": 2
}
