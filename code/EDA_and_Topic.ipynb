{
 "cells": [
  {
   "cell_type": "code",
   "execution_count": 30,
   "metadata": {},
   "outputs": [
    {
     "name": "stderr",
     "output_type": "stream",
     "text": [
      "C:\\Users\\erroden\\AppData\\Local\\Continuum\\anaconda3\\envs\\mlg_2\\lib\\site-packages\\sklearn\\cross_validation.py:41: DeprecationWarning: This module was deprecated in version 0.18 in favor of the model_selection module into which all the refactored classes and functions are moved. Also note that the interface of the new CV iterators are different from that of this module. This module will be removed in 0.20.\n",
      "  \"This module will be removed in 0.20.\", DeprecationWarning)\n",
      "C:\\Users\\erroden\\AppData\\Local\\Continuum\\anaconda3\\envs\\mlg_2\\lib\\site-packages\\sklearn\\grid_search.py:42: DeprecationWarning: This module was deprecated in version 0.18 in favor of the model_selection module into which all the refactored classes and functions are moved. This module will be removed in 0.20.\n",
      "  DeprecationWarning)\n"
     ]
    }
   ],
   "source": [
    "# Imports\n",
    "import pandas as pd\n",
    "import seaborn as sns\n",
    "import numpy as np\n",
    "import os\n",
    "import matplotlib.pyplot as plt\n",
    "import nltk\n",
    "from nltk.corpus import stopwords\n",
    "import re\n",
    "\n",
    "# knn with SC scores. May want to try other classification approaches but starting here. \n",
    "\n",
    "from sklearn.cross_validation import cross_val_score\n",
    "from sklearn.grid_search import GridSearchCV\n",
    "from sklearn import metrics\n",
    "from sklearn.cluster import KMeans\n",
    "from sklearn.metrics import silhouette_score, make_scorer"
   ]
  },
  {
   "cell_type": "code",
   "execution_count": 2,
   "metadata": {},
   "outputs": [
    {
     "data": {
      "text/plain": [
       "'\\nairline = pd.read_csv(\"https://raw.githubusercontent.com/quankiquanki/skytrax-reviews-dataset/master/data/airline.csv\")\\nairport = pd.read_csv(\"https://raw.githubusercontent.com/quankiquanki/skytrax-reviews-dataset/master/data/airport.csv\")\\nlounge = pd.read_csv(\"https://raw.githubusercontent.com/quankiquanki/skytrax-reviews-dataset/master/data/lounge.csv\")\\nseat = pd.read_csv(\"https://raw.githubusercontent.com/quankiquanki/skytrax-reviews-dataset/master/data/seat.csv\")\\n'"
      ]
     },
     "execution_count": 2,
     "metadata": {},
     "output_type": "execute_result"
    }
   ],
   "source": [
    "# Original Sources\n",
    "'''\n",
    "airline = pd.read_csv(\"https://raw.githubusercontent.com/quankiquanki/skytrax-reviews-dataset/master/data/airline.csv\")\n",
    "airport = pd.read_csv(\"https://raw.githubusercontent.com/quankiquanki/skytrax-reviews-dataset/master/data/airport.csv\")\n",
    "lounge = pd.read_csv(\"https://raw.githubusercontent.com/quankiquanki/skytrax-reviews-dataset/master/data/lounge.csv\")\n",
    "seat = pd.read_csv(\"https://raw.githubusercontent.com/quankiquanki/skytrax-reviews-dataset/master/data/seat.csv\")\n",
    "'''"
   ]
  },
  {
   "cell_type": "code",
   "execution_count": 3,
   "metadata": {},
   "outputs": [],
   "source": [
    "# Set up file read/folder structure\n",
    "os.chdir(\"C:\\\\Users\\\\erroden\\\\Desktop\\\\ML_Guild\\\\mlg_02_us\\\\Capstone\")\n",
    "\n",
    "# Local Sources\n",
    "# Initial focus will be on the airline data set but others may be stitched on to enrich the data\n",
    "airline = pd.read_csv(\"data\\\\airline.csv\")\n",
    "\n",
    "airport = pd.read_csv(\"data\\\\airport.csv\")\n",
    "lounge = pd.read_csv(\"data\\\\lounge.csv\")\n",
    "seat = pd.read_csv(\"data\\\\seat.csv\")"
   ]
  },
  {
   "cell_type": "code",
   "execution_count": 4,
   "metadata": {},
   "outputs": [],
   "source": [
    "# Print some summary numbers to get a feel for the data"
   ]
  },
  {
   "cell_type": "code",
   "execution_count": 5,
   "metadata": {},
   "outputs": [
    {
     "data": {
      "text/plain": [
       "['airline_name',\n",
       " 'link',\n",
       " 'title',\n",
       " 'author',\n",
       " 'author_country',\n",
       " 'date',\n",
       " 'content',\n",
       " 'aircraft',\n",
       " 'type_traveller',\n",
       " 'cabin_flown',\n",
       " 'route',\n",
       " 'overall_rating',\n",
       " 'seat_comfort_rating',\n",
       " 'cabin_staff_rating',\n",
       " 'food_beverages_rating',\n",
       " 'inflight_entertainment_rating',\n",
       " 'ground_service_rating',\n",
       " 'wifi_connectivity_rating',\n",
       " 'value_money_rating',\n",
       " 'recommended']"
      ]
     },
     "execution_count": 5,
     "metadata": {},
     "output_type": "execute_result"
    }
   ],
   "source": [
    "list(airline)"
   ]
  },
  {
   "cell_type": "code",
   "execution_count": 6,
   "metadata": {},
   "outputs": [
    {
     "data": {
      "text/plain": [
       "41396"
      ]
     },
     "execution_count": 6,
     "metadata": {},
     "output_type": "execute_result"
    }
   ],
   "source": [
    "len(airline)"
   ]
  },
  {
   "cell_type": "code",
   "execution_count": 7,
   "metadata": {},
   "outputs": [
    {
     "data": {
      "text/html": [
       "<div>\n",
       "<style scoped>\n",
       "    .dataframe tbody tr th:only-of-type {\n",
       "        vertical-align: middle;\n",
       "    }\n",
       "\n",
       "    .dataframe tbody tr th {\n",
       "        vertical-align: top;\n",
       "    }\n",
       "\n",
       "    .dataframe thead th {\n",
       "        text-align: right;\n",
       "    }\n",
       "</style>\n",
       "<table border=\"1\" class=\"dataframe\">\n",
       "  <thead>\n",
       "    <tr style=\"text-align: right;\">\n",
       "      <th></th>\n",
       "      <th>overall_rating</th>\n",
       "      <th>seat_comfort_rating</th>\n",
       "      <th>cabin_staff_rating</th>\n",
       "      <th>food_beverages_rating</th>\n",
       "      <th>inflight_entertainment_rating</th>\n",
       "      <th>ground_service_rating</th>\n",
       "      <th>wifi_connectivity_rating</th>\n",
       "      <th>value_money_rating</th>\n",
       "      <th>recommended</th>\n",
       "    </tr>\n",
       "  </thead>\n",
       "  <tbody>\n",
       "    <tr>\n",
       "      <th>count</th>\n",
       "      <td>36861.000000</td>\n",
       "      <td>33706.000000</td>\n",
       "      <td>33708.000000</td>\n",
       "      <td>33264.000000</td>\n",
       "      <td>31114.000000</td>\n",
       "      <td>2203.000000</td>\n",
       "      <td>565.000000</td>\n",
       "      <td>39723.000000</td>\n",
       "      <td>41396.000000</td>\n",
       "    </tr>\n",
       "    <tr>\n",
       "      <th>mean</th>\n",
       "      <td>6.039527</td>\n",
       "      <td>3.094612</td>\n",
       "      <td>3.319212</td>\n",
       "      <td>2.805886</td>\n",
       "      <td>2.392364</td>\n",
       "      <td>2.736723</td>\n",
       "      <td>2.249558</td>\n",
       "      <td>3.164111</td>\n",
       "      <td>0.533820</td>\n",
       "    </tr>\n",
       "    <tr>\n",
       "      <th>std</th>\n",
       "      <td>3.214680</td>\n",
       "      <td>1.405515</td>\n",
       "      <td>1.541307</td>\n",
       "      <td>1.580246</td>\n",
       "      <td>1.704753</td>\n",
       "      <td>1.569073</td>\n",
       "      <td>1.541283</td>\n",
       "      <td>1.523486</td>\n",
       "      <td>0.498861</td>\n",
       "    </tr>\n",
       "    <tr>\n",
       "      <th>min</th>\n",
       "      <td>1.000000</td>\n",
       "      <td>0.000000</td>\n",
       "      <td>0.000000</td>\n",
       "      <td>0.000000</td>\n",
       "      <td>0.000000</td>\n",
       "      <td>1.000000</td>\n",
       "      <td>1.000000</td>\n",
       "      <td>0.000000</td>\n",
       "      <td>0.000000</td>\n",
       "    </tr>\n",
       "    <tr>\n",
       "      <th>25%</th>\n",
       "      <td>3.000000</td>\n",
       "      <td>2.000000</td>\n",
       "      <td>2.000000</td>\n",
       "      <td>1.000000</td>\n",
       "      <td>1.000000</td>\n",
       "      <td>1.000000</td>\n",
       "      <td>1.000000</td>\n",
       "      <td>2.000000</td>\n",
       "      <td>0.000000</td>\n",
       "    </tr>\n",
       "    <tr>\n",
       "      <th>50%</th>\n",
       "      <td>7.000000</td>\n",
       "      <td>3.000000</td>\n",
       "      <td>4.000000</td>\n",
       "      <td>3.000000</td>\n",
       "      <td>2.000000</td>\n",
       "      <td>3.000000</td>\n",
       "      <td>1.000000</td>\n",
       "      <td>4.000000</td>\n",
       "      <td>1.000000</td>\n",
       "    </tr>\n",
       "    <tr>\n",
       "      <th>75%</th>\n",
       "      <td>9.000000</td>\n",
       "      <td>4.000000</td>\n",
       "      <td>5.000000</td>\n",
       "      <td>4.000000</td>\n",
       "      <td>4.000000</td>\n",
       "      <td>4.000000</td>\n",
       "      <td>4.000000</td>\n",
       "      <td>4.000000</td>\n",
       "      <td>1.000000</td>\n",
       "    </tr>\n",
       "    <tr>\n",
       "      <th>max</th>\n",
       "      <td>10.000000</td>\n",
       "      <td>5.000000</td>\n",
       "      <td>5.000000</td>\n",
       "      <td>5.000000</td>\n",
       "      <td>5.000000</td>\n",
       "      <td>5.000000</td>\n",
       "      <td>5.000000</td>\n",
       "      <td>5.000000</td>\n",
       "      <td>1.000000</td>\n",
       "    </tr>\n",
       "  </tbody>\n",
       "</table>\n",
       "</div>"
      ],
      "text/plain": [
       "       overall_rating  seat_comfort_rating  cabin_staff_rating  \\\n",
       "count    36861.000000         33706.000000        33708.000000   \n",
       "mean         6.039527             3.094612            3.319212   \n",
       "std          3.214680             1.405515            1.541307   \n",
       "min          1.000000             0.000000            0.000000   \n",
       "25%          3.000000             2.000000            2.000000   \n",
       "50%          7.000000             3.000000            4.000000   \n",
       "75%          9.000000             4.000000            5.000000   \n",
       "max         10.000000             5.000000            5.000000   \n",
       "\n",
       "       food_beverages_rating  inflight_entertainment_rating  \\\n",
       "count           33264.000000                   31114.000000   \n",
       "mean                2.805886                       2.392364   \n",
       "std                 1.580246                       1.704753   \n",
       "min                 0.000000                       0.000000   \n",
       "25%                 1.000000                       1.000000   \n",
       "50%                 3.000000                       2.000000   \n",
       "75%                 4.000000                       4.000000   \n",
       "max                 5.000000                       5.000000   \n",
       "\n",
       "       ground_service_rating  wifi_connectivity_rating  value_money_rating  \\\n",
       "count            2203.000000                565.000000        39723.000000   \n",
       "mean                2.736723                  2.249558            3.164111   \n",
       "std                 1.569073                  1.541283            1.523486   \n",
       "min                 1.000000                  1.000000            0.000000   \n",
       "25%                 1.000000                  1.000000            2.000000   \n",
       "50%                 3.000000                  1.000000            4.000000   \n",
       "75%                 4.000000                  4.000000            4.000000   \n",
       "max                 5.000000                  5.000000            5.000000   \n",
       "\n",
       "        recommended  \n",
       "count  41396.000000  \n",
       "mean       0.533820  \n",
       "std        0.498861  \n",
       "min        0.000000  \n",
       "25%        0.000000  \n",
       "50%        1.000000  \n",
       "75%        1.000000  \n",
       "max        1.000000  "
      ]
     },
     "execution_count": 7,
     "metadata": {},
     "output_type": "execute_result"
    }
   ],
   "source": [
    "airline.describe()"
   ]
  },
  {
   "cell_type": "code",
   "execution_count": 8,
   "metadata": {},
   "outputs": [
    {
     "name": "stdout",
     "output_type": "stream",
     "text": [
      "<class 'pandas.core.frame.DataFrame'>\n",
      "RangeIndex: 41396 entries, 0 to 41395\n",
      "Data columns (total 20 columns):\n",
      "airline_name                     41396 non-null object\n",
      "link                             41396 non-null object\n",
      "title                            41396 non-null object\n",
      "author                           41396 non-null object\n",
      "author_country                   39805 non-null object\n",
      "date                             41396 non-null object\n",
      "content                          41396 non-null object\n",
      "aircraft                         1278 non-null object\n",
      "type_traveller                   2378 non-null object\n",
      "cabin_flown                      38520 non-null object\n",
      "route                            2341 non-null object\n",
      "overall_rating                   36861 non-null float64\n",
      "seat_comfort_rating              33706 non-null float64\n",
      "cabin_staff_rating               33708 non-null float64\n",
      "food_beverages_rating            33264 non-null float64\n",
      "inflight_entertainment_rating    31114 non-null float64\n",
      "ground_service_rating            2203 non-null float64\n",
      "wifi_connectivity_rating         565 non-null float64\n",
      "value_money_rating               39723 non-null float64\n",
      "recommended                      41396 non-null int64\n",
      "dtypes: float64(8), int64(1), object(11)\n",
      "memory usage: 6.3+ MB\n"
     ]
    }
   ],
   "source": [
    "airline.info()"
   ]
  },
  {
   "cell_type": "raw",
   "metadata": {},
   "source": [
    "There appears to be a good amount of data missing. Fortunately all of the recommendations are there and all of the records have comments (['content']) with one exception. "
   ]
  },
  {
   "cell_type": "code",
   "execution_count": 9,
   "metadata": {},
   "outputs": [
    {
     "data": {
      "text/plain": [
       "count                                                 41396\n",
       "unique                                                41362\n",
       "top       If you experience any problems submitting comm...\n",
       "freq                                                      5\n",
       "Name: content, dtype: object"
      ]
     },
     "execution_count": 9,
     "metadata": {},
     "output_type": "execute_result"
    }
   ],
   "source": [
    "airline.content.describe()"
   ]
  },
  {
   "cell_type": "code",
   "execution_count": 10,
   "metadata": {},
   "outputs": [],
   "source": [
    "error_content = airline.content.describe().top"
   ]
  },
  {
   "cell_type": "code",
   "execution_count": 11,
   "metadata": {},
   "outputs": [
    {
     "data": {
      "text/html": [
       "<div>\n",
       "<style scoped>\n",
       "    .dataframe tbody tr th:only-of-type {\n",
       "        vertical-align: middle;\n",
       "    }\n",
       "\n",
       "    .dataframe tbody tr th {\n",
       "        vertical-align: top;\n",
       "    }\n",
       "\n",
       "    .dataframe thead th {\n",
       "        text-align: right;\n",
       "    }\n",
       "</style>\n",
       "<table border=\"1\" class=\"dataframe\">\n",
       "  <thead>\n",
       "    <tr style=\"text-align: right;\">\n",
       "      <th></th>\n",
       "      <th>airline_name</th>\n",
       "      <th>link</th>\n",
       "      <th>title</th>\n",
       "      <th>author</th>\n",
       "      <th>author_country</th>\n",
       "      <th>date</th>\n",
       "      <th>content</th>\n",
       "      <th>aircraft</th>\n",
       "      <th>type_traveller</th>\n",
       "      <th>cabin_flown</th>\n",
       "      <th>route</th>\n",
       "      <th>overall_rating</th>\n",
       "      <th>seat_comfort_rating</th>\n",
       "      <th>cabin_staff_rating</th>\n",
       "      <th>food_beverages_rating</th>\n",
       "      <th>inflight_entertainment_rating</th>\n",
       "      <th>ground_service_rating</th>\n",
       "      <th>wifi_connectivity_rating</th>\n",
       "      <th>value_money_rating</th>\n",
       "      <th>recommended</th>\n",
       "    </tr>\n",
       "  </thead>\n",
       "  <tbody>\n",
       "    <tr>\n",
       "      <th>13122</th>\n",
       "      <td>corendon-airlines</td>\n",
       "      <td>/airline-reviews/corendon-airlines</td>\n",
       "      <td>Corendon Airlines customer review</td>\n",
       "      <td>A Voorsluijs</td>\n",
       "      <td>NaN</td>\n",
       "      <td>5/7/2008</td>\n",
       "      <td>If you experience any problems submitting comm...</td>\n",
       "      <td>NaN</td>\n",
       "      <td>NaN</td>\n",
       "      <td>NaN</td>\n",
       "      <td>NaN</td>\n",
       "      <td>NaN</td>\n",
       "      <td>NaN</td>\n",
       "      <td>NaN</td>\n",
       "      <td>NaN</td>\n",
       "      <td>NaN</td>\n",
       "      <td>NaN</td>\n",
       "      <td>NaN</td>\n",
       "      <td>NaN</td>\n",
       "      <td>0</td>\n",
       "    </tr>\n",
       "    <tr>\n",
       "      <th>21087</th>\n",
       "      <td>jetairfly</td>\n",
       "      <td>/airline-reviews/jetairfly</td>\n",
       "      <td>Jetairfly customer review</td>\n",
       "      <td>Patrice Cleeren</td>\n",
       "      <td>NaN</td>\n",
       "      <td>9/14/2008</td>\n",
       "      <td>If you experience any problems submitting comm...</td>\n",
       "      <td>NaN</td>\n",
       "      <td>NaN</td>\n",
       "      <td>NaN</td>\n",
       "      <td>NaN</td>\n",
       "      <td>4.0</td>\n",
       "      <td>NaN</td>\n",
       "      <td>NaN</td>\n",
       "      <td>NaN</td>\n",
       "      <td>NaN</td>\n",
       "      <td>NaN</td>\n",
       "      <td>NaN</td>\n",
       "      <td>NaN</td>\n",
       "      <td>0</td>\n",
       "    </tr>\n",
       "    <tr>\n",
       "      <th>23848</th>\n",
       "      <td>loch-lomond-seaplanes</td>\n",
       "      <td>/airline-reviews/loch-lomond-seaplanes</td>\n",
       "      <td>Loch Lomond Seaplanes customer review</td>\n",
       "      <td>T Jeans</td>\n",
       "      <td>NaN</td>\n",
       "      <td>8/18/2008</td>\n",
       "      <td>If you experience any problems submitting comm...</td>\n",
       "      <td>NaN</td>\n",
       "      <td>NaN</td>\n",
       "      <td>NaN</td>\n",
       "      <td>NaN</td>\n",
       "      <td>NaN</td>\n",
       "      <td>NaN</td>\n",
       "      <td>NaN</td>\n",
       "      <td>NaN</td>\n",
       "      <td>NaN</td>\n",
       "      <td>NaN</td>\n",
       "      <td>NaN</td>\n",
       "      <td>NaN</td>\n",
       "      <td>0</td>\n",
       "    </tr>\n",
       "    <tr>\n",
       "      <th>26564</th>\n",
       "      <td>pal-express</td>\n",
       "      <td>/airline-reviews/pal-express</td>\n",
       "      <td>PAL Express customer review</td>\n",
       "      <td>A Mariner</td>\n",
       "      <td>NaN</td>\n",
       "      <td>5/31/2009</td>\n",
       "      <td>If you experience any problems submitting comm...</td>\n",
       "      <td>NaN</td>\n",
       "      <td>NaN</td>\n",
       "      <td>NaN</td>\n",
       "      <td>NaN</td>\n",
       "      <td>3.0</td>\n",
       "      <td>NaN</td>\n",
       "      <td>NaN</td>\n",
       "      <td>NaN</td>\n",
       "      <td>NaN</td>\n",
       "      <td>NaN</td>\n",
       "      <td>NaN</td>\n",
       "      <td>NaN</td>\n",
       "      <td>0</td>\n",
       "    </tr>\n",
       "    <tr>\n",
       "      <th>41105</th>\n",
       "      <td>yangon-airways</td>\n",
       "      <td>/airline-reviews/yangon-airways</td>\n",
       "      <td>Yangon Airways customer review</td>\n",
       "      <td>James Halley</td>\n",
       "      <td>Australia</td>\n",
       "      <td>2/2/2009</td>\n",
       "      <td>If you experience any problems submitting comm...</td>\n",
       "      <td>NaN</td>\n",
       "      <td>NaN</td>\n",
       "      <td>Economy</td>\n",
       "      <td>NaN</td>\n",
       "      <td>8.0</td>\n",
       "      <td>NaN</td>\n",
       "      <td>NaN</td>\n",
       "      <td>NaN</td>\n",
       "      <td>NaN</td>\n",
       "      <td>NaN</td>\n",
       "      <td>NaN</td>\n",
       "      <td>4.0</td>\n",
       "      <td>1</td>\n",
       "    </tr>\n",
       "  </tbody>\n",
       "</table>\n",
       "</div>"
      ],
      "text/plain": [
       "                airline_name                                    link  \\\n",
       "13122      corendon-airlines      /airline-reviews/corendon-airlines   \n",
       "21087              jetairfly              /airline-reviews/jetairfly   \n",
       "23848  loch-lomond-seaplanes  /airline-reviews/loch-lomond-seaplanes   \n",
       "26564            pal-express            /airline-reviews/pal-express   \n",
       "41105         yangon-airways         /airline-reviews/yangon-airways   \n",
       "\n",
       "                                       title           author author_country  \\\n",
       "13122      Corendon Airlines customer review     A Voorsluijs            NaN   \n",
       "21087              Jetairfly customer review  Patrice Cleeren            NaN   \n",
       "23848  Loch Lomond Seaplanes customer review          T Jeans            NaN   \n",
       "26564            PAL Express customer review        A Mariner            NaN   \n",
       "41105         Yangon Airways customer review     James Halley      Australia   \n",
       "\n",
       "            date                                            content aircraft  \\\n",
       "13122   5/7/2008  If you experience any problems submitting comm...      NaN   \n",
       "21087  9/14/2008  If you experience any problems submitting comm...      NaN   \n",
       "23848  8/18/2008  If you experience any problems submitting comm...      NaN   \n",
       "26564  5/31/2009  If you experience any problems submitting comm...      NaN   \n",
       "41105   2/2/2009  If you experience any problems submitting comm...      NaN   \n",
       "\n",
       "      type_traveller cabin_flown route  overall_rating  seat_comfort_rating  \\\n",
       "13122            NaN         NaN   NaN             NaN                  NaN   \n",
       "21087            NaN         NaN   NaN             4.0                  NaN   \n",
       "23848            NaN         NaN   NaN             NaN                  NaN   \n",
       "26564            NaN         NaN   NaN             3.0                  NaN   \n",
       "41105            NaN     Economy   NaN             8.0                  NaN   \n",
       "\n",
       "       cabin_staff_rating  food_beverages_rating  \\\n",
       "13122                 NaN                    NaN   \n",
       "21087                 NaN                    NaN   \n",
       "23848                 NaN                    NaN   \n",
       "26564                 NaN                    NaN   \n",
       "41105                 NaN                    NaN   \n",
       "\n",
       "       inflight_entertainment_rating  ground_service_rating  \\\n",
       "13122                            NaN                    NaN   \n",
       "21087                            NaN                    NaN   \n",
       "23848                            NaN                    NaN   \n",
       "26564                            NaN                    NaN   \n",
       "41105                            NaN                    NaN   \n",
       "\n",
       "       wifi_connectivity_rating  value_money_rating  recommended  \n",
       "13122                       NaN                 NaN            0  \n",
       "21087                       NaN                 NaN            0  \n",
       "23848                       NaN                 NaN            0  \n",
       "26564                       NaN                 NaN            0  \n",
       "41105                       NaN                 4.0            1  "
      ]
     },
     "execution_count": 11,
     "metadata": {},
     "output_type": "execute_result"
    }
   ],
   "source": [
    "airline.loc[airline['content'] == error_content]"
   ]
  },
  {
   "cell_type": "raw",
   "metadata": {},
   "source": [
    "These repeating comments are also missing significant other data so they will likely be ignored or auto populated. This will be addressed once data starts to be cleaned up. "
   ]
  },
  {
   "cell_type": "code",
   "execution_count": 12,
   "metadata": {},
   "outputs": [
    {
     "data": {
      "text/plain": [
       "0.5338196927239347"
      ]
     },
     "execution_count": 12,
     "metadata": {},
     "output_type": "execute_result"
    }
   ],
   "source": [
    "# 53% of reviewers recommended the airline providing a fairly even distribution of responses\n",
    "np.average(airline.recommended) "
   ]
  },
  {
   "cell_type": "code",
   "execution_count": 13,
   "metadata": {},
   "outputs": [
    {
     "data": {
      "text/html": [
       "<div>\n",
       "<style scoped>\n",
       "    .dataframe tbody tr th:only-of-type {\n",
       "        vertical-align: middle;\n",
       "    }\n",
       "\n",
       "    .dataframe tbody tr th {\n",
       "        vertical-align: top;\n",
       "    }\n",
       "\n",
       "    .dataframe thead th {\n",
       "        text-align: right;\n",
       "    }\n",
       "</style>\n",
       "<table border=\"1\" class=\"dataframe\">\n",
       "  <thead>\n",
       "    <tr style=\"text-align: right;\">\n",
       "      <th></th>\n",
       "      <th>airline_name</th>\n",
       "      <th>link</th>\n",
       "      <th>title</th>\n",
       "      <th>author</th>\n",
       "      <th>author_country</th>\n",
       "      <th>date</th>\n",
       "      <th>content</th>\n",
       "      <th>aircraft</th>\n",
       "      <th>type_traveller</th>\n",
       "      <th>cabin_flown</th>\n",
       "      <th>...</th>\n",
       "      <th>overall_rating</th>\n",
       "      <th>seat_comfort_rating</th>\n",
       "      <th>cabin_staff_rating</th>\n",
       "      <th>food_beverages_rating</th>\n",
       "      <th>inflight_entertainment_rating</th>\n",
       "      <th>ground_service_rating</th>\n",
       "      <th>wifi_connectivity_rating</th>\n",
       "      <th>value_money_rating</th>\n",
       "      <th>recommended</th>\n",
       "      <th>text_len</th>\n",
       "    </tr>\n",
       "  </thead>\n",
       "  <tbody>\n",
       "    <tr>\n",
       "      <th>0</th>\n",
       "      <td>adria-airways</td>\n",
       "      <td>/airline-reviews/adria-airways</td>\n",
       "      <td>Adria Airways customer review</td>\n",
       "      <td>D Ito</td>\n",
       "      <td>Germany</td>\n",
       "      <td>4/10/2015</td>\n",
       "      <td>Outbound flight FRA/PRN A319. 2 hours 10 min f...</td>\n",
       "      <td>NaN</td>\n",
       "      <td>NaN</td>\n",
       "      <td>Economy</td>\n",
       "      <td>...</td>\n",
       "      <td>7.0</td>\n",
       "      <td>4.0</td>\n",
       "      <td>4.0</td>\n",
       "      <td>4.0</td>\n",
       "      <td>0.0</td>\n",
       "      <td>NaN</td>\n",
       "      <td>NaN</td>\n",
       "      <td>4.0</td>\n",
       "      <td>1</td>\n",
       "      <td>424</td>\n",
       "    </tr>\n",
       "    <tr>\n",
       "      <th>1</th>\n",
       "      <td>adria-airways</td>\n",
       "      <td>/airline-reviews/adria-airways</td>\n",
       "      <td>Adria Airways customer review</td>\n",
       "      <td>Ron Kuhlmann</td>\n",
       "      <td>United States</td>\n",
       "      <td>1/5/2015</td>\n",
       "      <td>Two short hops ZRH-LJU and LJU-VIE. Very fast ...</td>\n",
       "      <td>NaN</td>\n",
       "      <td>NaN</td>\n",
       "      <td>Business Class</td>\n",
       "      <td>...</td>\n",
       "      <td>10.0</td>\n",
       "      <td>4.0</td>\n",
       "      <td>5.0</td>\n",
       "      <td>4.0</td>\n",
       "      <td>1.0</td>\n",
       "      <td>NaN</td>\n",
       "      <td>NaN</td>\n",
       "      <td>5.0</td>\n",
       "      <td>1</td>\n",
       "      <td>141</td>\n",
       "    </tr>\n",
       "    <tr>\n",
       "      <th>2</th>\n",
       "      <td>adria-airways</td>\n",
       "      <td>/airline-reviews/adria-airways</td>\n",
       "      <td>Adria Airways customer review</td>\n",
       "      <td>E Albin</td>\n",
       "      <td>Switzerland</td>\n",
       "      <td>9/14/2014</td>\n",
       "      <td>Flew Zurich-Ljubljana on JP365 newish CRJ900. ...</td>\n",
       "      <td>NaN</td>\n",
       "      <td>NaN</td>\n",
       "      <td>Economy</td>\n",
       "      <td>...</td>\n",
       "      <td>9.0</td>\n",
       "      <td>5.0</td>\n",
       "      <td>5.0</td>\n",
       "      <td>4.0</td>\n",
       "      <td>0.0</td>\n",
       "      <td>NaN</td>\n",
       "      <td>NaN</td>\n",
       "      <td>5.0</td>\n",
       "      <td>1</td>\n",
       "      <td>249</td>\n",
       "    </tr>\n",
       "    <tr>\n",
       "      <th>3</th>\n",
       "      <td>adria-airways</td>\n",
       "      <td>/airline-reviews/adria-airways</td>\n",
       "      <td>Adria Airways customer review</td>\n",
       "      <td>Tercon Bojan</td>\n",
       "      <td>Singapore</td>\n",
       "      <td>9/6/2014</td>\n",
       "      <td>Adria serves this 100 min flight from Ljubljan...</td>\n",
       "      <td>NaN</td>\n",
       "      <td>NaN</td>\n",
       "      <td>Business Class</td>\n",
       "      <td>...</td>\n",
       "      <td>8.0</td>\n",
       "      <td>4.0</td>\n",
       "      <td>4.0</td>\n",
       "      <td>3.0</td>\n",
       "      <td>1.0</td>\n",
       "      <td>NaN</td>\n",
       "      <td>NaN</td>\n",
       "      <td>4.0</td>\n",
       "      <td>1</td>\n",
       "      <td>439</td>\n",
       "    </tr>\n",
       "    <tr>\n",
       "      <th>4</th>\n",
       "      <td>adria-airways</td>\n",
       "      <td>/airline-reviews/adria-airways</td>\n",
       "      <td>Adria Airways customer review</td>\n",
       "      <td>L James</td>\n",
       "      <td>Poland</td>\n",
       "      <td>6/16/2014</td>\n",
       "      <td>WAW-SKJ Economy. No free snacks or drinks on t...</td>\n",
       "      <td>NaN</td>\n",
       "      <td>NaN</td>\n",
       "      <td>Economy</td>\n",
       "      <td>...</td>\n",
       "      <td>4.0</td>\n",
       "      <td>4.0</td>\n",
       "      <td>2.0</td>\n",
       "      <td>1.0</td>\n",
       "      <td>2.0</td>\n",
       "      <td>NaN</td>\n",
       "      <td>NaN</td>\n",
       "      <td>2.0</td>\n",
       "      <td>0</td>\n",
       "      <td>675</td>\n",
       "    </tr>\n",
       "  </tbody>\n",
       "</table>\n",
       "<p>5 rows × 21 columns</p>\n",
       "</div>"
      ],
      "text/plain": [
       "    airline_name                            link  \\\n",
       "0  adria-airways  /airline-reviews/adria-airways   \n",
       "1  adria-airways  /airline-reviews/adria-airways   \n",
       "2  adria-airways  /airline-reviews/adria-airways   \n",
       "3  adria-airways  /airline-reviews/adria-airways   \n",
       "4  adria-airways  /airline-reviews/adria-airways   \n",
       "\n",
       "                           title        author author_country       date  \\\n",
       "0  Adria Airways customer review         D Ito        Germany  4/10/2015   \n",
       "1  Adria Airways customer review  Ron Kuhlmann  United States   1/5/2015   \n",
       "2  Adria Airways customer review       E Albin    Switzerland  9/14/2014   \n",
       "3  Adria Airways customer review  Tercon Bojan      Singapore   9/6/2014   \n",
       "4  Adria Airways customer review       L James         Poland  6/16/2014   \n",
       "\n",
       "                                             content aircraft type_traveller  \\\n",
       "0  Outbound flight FRA/PRN A319. 2 hours 10 min f...      NaN            NaN   \n",
       "1  Two short hops ZRH-LJU and LJU-VIE. Very fast ...      NaN            NaN   \n",
       "2  Flew Zurich-Ljubljana on JP365 newish CRJ900. ...      NaN            NaN   \n",
       "3  Adria serves this 100 min flight from Ljubljan...      NaN            NaN   \n",
       "4  WAW-SKJ Economy. No free snacks or drinks on t...      NaN            NaN   \n",
       "\n",
       "      cabin_flown    ...    overall_rating  seat_comfort_rating  \\\n",
       "0         Economy    ...               7.0                  4.0   \n",
       "1  Business Class    ...              10.0                  4.0   \n",
       "2         Economy    ...               9.0                  5.0   \n",
       "3  Business Class    ...               8.0                  4.0   \n",
       "4         Economy    ...               4.0                  4.0   \n",
       "\n",
       "   cabin_staff_rating  food_beverages_rating  inflight_entertainment_rating  \\\n",
       "0                 4.0                    4.0                            0.0   \n",
       "1                 5.0                    4.0                            1.0   \n",
       "2                 5.0                    4.0                            0.0   \n",
       "3                 4.0                    3.0                            1.0   \n",
       "4                 2.0                    1.0                            2.0   \n",
       "\n",
       "   ground_service_rating  wifi_connectivity_rating  value_money_rating  \\\n",
       "0                    NaN                       NaN                 4.0   \n",
       "1                    NaN                       NaN                 5.0   \n",
       "2                    NaN                       NaN                 5.0   \n",
       "3                    NaN                       NaN                 4.0   \n",
       "4                    NaN                       NaN                 2.0   \n",
       "\n",
       "   recommended  text_len  \n",
       "0            1       424  \n",
       "1            1       141  \n",
       "2            1       249  \n",
       "3            1       439  \n",
       "4            0       675  \n",
       "\n",
       "[5 rows x 21 columns]"
      ]
     },
     "execution_count": 13,
     "metadata": {},
     "output_type": "execute_result"
    }
   ],
   "source": [
    "# Add on text length as an extra data point - https://medium.com/tensorist/classifying-yelp-reviews-using-nltk-and-scikit-learn-c58e71e962d9\n",
    "airline[\"text_len\"] = airline.content.apply(len)\n",
    "\n",
    "airline.head()"
   ]
  },
  {
   "cell_type": "code",
   "execution_count": 14,
   "metadata": {},
   "outputs": [
    {
     "data": {
      "text/plain": [
       "<seaborn.axisgrid.FacetGrid at 0x12cd8336d30>"
      ]
     },
     "execution_count": 14,
     "metadata": {},
     "output_type": "execute_result"
    },
    {
     "data": {
      "image/png": "[encoded data removed]",
      "text/plain": [
       "<Figure size 432x216 with 2 Axes>"
      ]
     },
     "metadata": {},
     "output_type": "display_data"
    }
   ],
   "source": [
    "# visualize how words compare with recommended\n",
    "\n",
    "g = sns.FacetGrid(data=airline, col='recommended')\n",
    "g.map(plt.hist, 'text_len', bins=50)"
   ]
  },
  {
   "cell_type": "raw",
   "metadata": {},
   "source": [
    "There does not appear to but much of a pattern here although 0 recommended content appears to tend to be slightly longer. "
   ]
  },
  {
   "cell_type": "code",
   "execution_count": 15,
   "metadata": {},
   "outputs": [
    {
     "data": {
      "text/plain": [
       "<seaborn.axisgrid.FacetGrid at 0x12cd84e8be0>"
      ]
     },
     "execution_count": 15,
     "metadata": {},
     "output_type": "execute_result"
    },
    {
     "data": {
      "image/png": "[encoded data removed]",
      "text/plain": [
       "<Figure size 2160x216 with 10 Axes>"
      ]
     },
     "metadata": {},
     "output_type": "display_data"
    }
   ],
   "source": [
    "# visualize how words compare with recommended overall_rating\n",
    "\n",
    "g = sns.FacetGrid(data=airline, col='overall_rating')\n",
    "g.map(plt.hist, 'text_len', bins=50)"
   ]
  },
  {
   "cell_type": "raw",
   "metadata": {},
   "source": [
    "Ratings at the extremes of the scale tend to have longer content with positive reviews seeing more of this trend. "
   ]
  },
  {
   "cell_type": "code",
   "execution_count": 16,
   "metadata": {},
   "outputs": [
    {
     "data": {
      "text/plain": [
       "<matplotlib.axes._subplots.AxesSubplot at 0x12cd8e54160>"
      ]
     },
     "execution_count": 16,
     "metadata": {},
     "output_type": "execute_result"
    },
    {
     "data": {
      "image/png": "[encoded data removed]",
      "text/plain": [
       "<Figure size 432x288 with 1 Axes>"
      ]
     },
     "metadata": {},
     "output_type": "display_data"
    }
   ],
   "source": [
    "# A further look at both of these\n",
    "sns.boxplot(x='recommended', y='text_len', data=airline)"
   ]
  },
  {
   "cell_type": "code",
   "execution_count": 17,
   "metadata": {},
   "outputs": [
    {
     "data": {
      "text/plain": [
       "<matplotlib.axes._subplots.AxesSubplot at 0x12cda4beeb8>"
      ]
     },
     "execution_count": 17,
     "metadata": {},
     "output_type": "execute_result"
    },
    {
     "data": {
      "image/png": "[encoded data removed]",
      "text/plain": [
       "<Figure size 432x288 with 1 Axes>"
      ]
     },
     "metadata": {},
     "output_type": "display_data"
    }
   ],
   "source": [
    "# A further look at both of these\n",
    "sns.boxplot(x='overall_rating', y='text_len', data=airline)"
   ]
  },
  {
   "cell_type": "code",
   "execution_count": 18,
   "metadata": {},
   "outputs": [
    {
     "data": {
      "text/html": [
       "<div>\n",
       "<style scoped>\n",
       "    .dataframe tbody tr th:only-of-type {\n",
       "        vertical-align: middle;\n",
       "    }\n",
       "\n",
       "    .dataframe tbody tr th {\n",
       "        vertical-align: top;\n",
       "    }\n",
       "\n",
       "    .dataframe thead th {\n",
       "        text-align: right;\n",
       "    }\n",
       "</style>\n",
       "<table border=\"1\" class=\"dataframe\">\n",
       "  <thead>\n",
       "    <tr style=\"text-align: right;\">\n",
       "      <th></th>\n",
       "      <th>seat_comfort_rating</th>\n",
       "      <th>cabin_staff_rating</th>\n",
       "      <th>food_beverages_rating</th>\n",
       "      <th>inflight_entertainment_rating</th>\n",
       "      <th>ground_service_rating</th>\n",
       "      <th>wifi_connectivity_rating</th>\n",
       "      <th>value_money_rating</th>\n",
       "      <th>recommended</th>\n",
       "      <th>text_len</th>\n",
       "    </tr>\n",
       "  </thead>\n",
       "  <tbody>\n",
       "    <tr>\n",
       "      <th>seat_comfort_rating</th>\n",
       "      <td>1.000000</td>\n",
       "      <td>0.997597</td>\n",
       "      <td>0.996969</td>\n",
       "      <td>0.996780</td>\n",
       "      <td>0.997527</td>\n",
       "      <td>0.961589</td>\n",
       "      <td>0.991270</td>\n",
       "      <td>0.937704</td>\n",
       "      <td>-0.978575</td>\n",
       "    </tr>\n",
       "    <tr>\n",
       "      <th>cabin_staff_rating</th>\n",
       "      <td>0.997597</td>\n",
       "      <td>1.000000</td>\n",
       "      <td>0.996104</td>\n",
       "      <td>0.990635</td>\n",
       "      <td>0.996503</td>\n",
       "      <td>0.948365</td>\n",
       "      <td>0.996565</td>\n",
       "      <td>0.955958</td>\n",
       "      <td>-0.967315</td>\n",
       "    </tr>\n",
       "    <tr>\n",
       "      <th>food_beverages_rating</th>\n",
       "      <td>0.996969</td>\n",
       "      <td>0.996104</td>\n",
       "      <td>1.000000</td>\n",
       "      <td>0.995369</td>\n",
       "      <td>0.993302</td>\n",
       "      <td>0.955733</td>\n",
       "      <td>0.985736</td>\n",
       "      <td>0.946341</td>\n",
       "      <td>-0.980754</td>\n",
       "    </tr>\n",
       "    <tr>\n",
       "      <th>inflight_entertainment_rating</th>\n",
       "      <td>0.996780</td>\n",
       "      <td>0.990635</td>\n",
       "      <td>0.995369</td>\n",
       "      <td>1.000000</td>\n",
       "      <td>0.993315</td>\n",
       "      <td>0.967993</td>\n",
       "      <td>0.979918</td>\n",
       "      <td>0.919952</td>\n",
       "      <td>-0.984685</td>\n",
       "    </tr>\n",
       "    <tr>\n",
       "      <th>ground_service_rating</th>\n",
       "      <td>0.997527</td>\n",
       "      <td>0.996503</td>\n",
       "      <td>0.993302</td>\n",
       "      <td>0.993315</td>\n",
       "      <td>1.000000</td>\n",
       "      <td>0.954546</td>\n",
       "      <td>0.992987</td>\n",
       "      <td>0.938415</td>\n",
       "      <td>-0.971808</td>\n",
       "    </tr>\n",
       "    <tr>\n",
       "      <th>wifi_connectivity_rating</th>\n",
       "      <td>0.961589</td>\n",
       "      <td>0.948365</td>\n",
       "      <td>0.955733</td>\n",
       "      <td>0.967993</td>\n",
       "      <td>0.954546</td>\n",
       "      <td>1.000000</td>\n",
       "      <td>0.933682</td>\n",
       "      <td>0.883214</td>\n",
       "      <td>-0.956189</td>\n",
       "    </tr>\n",
       "    <tr>\n",
       "      <th>value_money_rating</th>\n",
       "      <td>0.991270</td>\n",
       "      <td>0.996565</td>\n",
       "      <td>0.985736</td>\n",
       "      <td>0.979918</td>\n",
       "      <td>0.992987</td>\n",
       "      <td>0.933682</td>\n",
       "      <td>1.000000</td>\n",
       "      <td>0.959069</td>\n",
       "      <td>-0.949256</td>\n",
       "    </tr>\n",
       "    <tr>\n",
       "      <th>recommended</th>\n",
       "      <td>0.937704</td>\n",
       "      <td>0.955958</td>\n",
       "      <td>0.946341</td>\n",
       "      <td>0.919952</td>\n",
       "      <td>0.938415</td>\n",
       "      <td>0.883214</td>\n",
       "      <td>0.959069</td>\n",
       "      <td>1.000000</td>\n",
       "      <td>-0.882804</td>\n",
       "    </tr>\n",
       "    <tr>\n",
       "      <th>text_len</th>\n",
       "      <td>-0.978575</td>\n",
       "      <td>-0.967315</td>\n",
       "      <td>-0.980754</td>\n",
       "      <td>-0.984685</td>\n",
       "      <td>-0.971808</td>\n",
       "      <td>-0.956189</td>\n",
       "      <td>-0.949256</td>\n",
       "      <td>-0.882804</td>\n",
       "      <td>1.000000</td>\n",
       "    </tr>\n",
       "  </tbody>\n",
       "</table>\n",
       "</div>"
      ],
      "text/plain": [
       "                               seat_comfort_rating  cabin_staff_rating  \\\n",
       "seat_comfort_rating                       1.000000            0.997597   \n",
       "cabin_staff_rating                        0.997597            1.000000   \n",
       "food_beverages_rating                     0.996969            0.996104   \n",
       "inflight_entertainment_rating             0.996780            0.990635   \n",
       "ground_service_rating                     0.997527            0.996503   \n",
       "wifi_connectivity_rating                  0.961589            0.948365   \n",
       "value_money_rating                        0.991270            0.996565   \n",
       "recommended                               0.937704            0.955958   \n",
       "text_len                                 -0.978575           -0.967315   \n",
       "\n",
       "                               food_beverages_rating  \\\n",
       "seat_comfort_rating                         0.996969   \n",
       "cabin_staff_rating                          0.996104   \n",
       "food_beverages_rating                       1.000000   \n",
       "inflight_entertainment_rating               0.995369   \n",
       "ground_service_rating                       0.993302   \n",
       "wifi_connectivity_rating                    0.955733   \n",
       "value_money_rating                          0.985736   \n",
       "recommended                                 0.946341   \n",
       "text_len                                   -0.980754   \n",
       "\n",
       "                               inflight_entertainment_rating  \\\n",
       "seat_comfort_rating                                 0.996780   \n",
       "cabin_staff_rating                                  0.990635   \n",
       "food_beverages_rating                               0.995369   \n",
       "inflight_entertainment_rating                       1.000000   \n",
       "ground_service_rating                               0.993315   \n",
       "wifi_connectivity_rating                            0.967993   \n",
       "value_money_rating                                  0.979918   \n",
       "recommended                                         0.919952   \n",
       "text_len                                           -0.984685   \n",
       "\n",
       "                               ground_service_rating  \\\n",
       "seat_comfort_rating                         0.997527   \n",
       "cabin_staff_rating                          0.996503   \n",
       "food_beverages_rating                       0.993302   \n",
       "inflight_entertainment_rating               0.993315   \n",
       "ground_service_rating                       1.000000   \n",
       "wifi_connectivity_rating                    0.954546   \n",
       "value_money_rating                          0.992987   \n",
       "recommended                                 0.938415   \n",
       "text_len                                   -0.971808   \n",
       "\n",
       "                               wifi_connectivity_rating  value_money_rating  \\\n",
       "seat_comfort_rating                            0.961589            0.991270   \n",
       "cabin_staff_rating                             0.948365            0.996565   \n",
       "food_beverages_rating                          0.955733            0.985736   \n",
       "inflight_entertainment_rating                  0.967993            0.979918   \n",
       "ground_service_rating                          0.954546            0.992987   \n",
       "wifi_connectivity_rating                       1.000000            0.933682   \n",
       "value_money_rating                             0.933682            1.000000   \n",
       "recommended                                    0.883214            0.959069   \n",
       "text_len                                      -0.956189           -0.949256   \n",
       "\n",
       "                               recommended  text_len  \n",
       "seat_comfort_rating               0.937704 -0.978575  \n",
       "cabin_staff_rating                0.955958 -0.967315  \n",
       "food_beverages_rating             0.946341 -0.980754  \n",
       "inflight_entertainment_rating     0.919952 -0.984685  \n",
       "ground_service_rating             0.938415 -0.971808  \n",
       "wifi_connectivity_rating          0.883214 -0.956189  \n",
       "value_money_rating                0.959069 -0.949256  \n",
       "recommended                       1.000000 -0.882804  \n",
       "text_len                         -0.882804  1.000000  "
      ]
     },
     "execution_count": 18,
     "metadata": {},
     "output_type": "execute_result"
    }
   ],
   "source": [
    "rating = airline.groupby('overall_rating').mean()\n",
    "rating.corr()"
   ]
  },
  {
   "cell_type": "raw",
   "metadata": {},
   "source": [
    "Most of the data is highly correlated. "
   ]
  },
  {
   "cell_type": "code",
   "execution_count": 19,
   "metadata": {},
   "outputs": [
    {
     "data": {
      "text/plain": [
       "<matplotlib.axes._subplots.AxesSubplot at 0x12cda7cc518>"
      ]
     },
     "execution_count": 19,
     "metadata": {},
     "output_type": "execute_result"
    },
    {
     "data": {
      "image/png": "[encoded data removed]",
      "text/plain": [
       "<Figure size 432x288 with 2 Axes>"
      ]
     },
     "metadata": {},
     "output_type": "display_data"
    }
   ],
   "source": [
    "sns.heatmap(data=rating.corr(), annot=False)"
   ]
  },
  {
   "cell_type": "code",
   "execution_count": 20,
   "metadata": {},
   "outputs": [
    {
     "data": {
      "text/plain": [
       "' *** This looks a bit odd. Not sure if this correlation is working as expected ***'"
      ]
     },
     "execution_count": 20,
     "metadata": {},
     "output_type": "execute_result"
    }
   ],
   "source": [
    "''' *** This looks a bit odd. Not sure if this correlation is working as expected ***'''"
   ]
  },
  {
   "cell_type": "markdown",
   "metadata": {},
   "source": [
    "**From here the idea would be to start topic modeling and sensitivity analysis. \n",
    "\n",
    "Outstanding Questions\n",
    "* For sensitivity analysis does it makes sense to just train on recommend or not or would the overall rating be better since it isn't the prediction variable? Could use all 1 ratings and all 10 ratings as negative and positive samples. \n",
    "* What would be the best way to address the null values throughout? \n",
    "* Would it be better to try to add extra data now or should I use the airline data to get a baseline and then look to add data? \n",
    "* Are there other data prep considerations?"
   ]
  },
  {
   "cell_type": "code",
   "execution_count": 21,
   "metadata": {},
   "outputs": [
    {
     "data": {
      "text/plain": [
       "0    [Outbound, flight, FRA/PRN, A319., 2, hours, 1...\n",
       "1    [Two, short, hops, ZRH-LJU, and, LJU-VIE., Ver...\n",
       "2    [Flew, Zurich-Ljubljana, on, JP365, newish, CR...\n",
       "3    [Adria, serves, this, 100, min, flight, from, ...\n",
       "4    [WAW-SKJ, Economy., No, free, snacks, or, drin...\n",
       "Name: tokens, dtype: object"
      ]
     },
     "execution_count": 21,
     "metadata": {},
     "output_type": "execute_result"
    }
   ],
   "source": [
    "# generate tokens\n",
    "airline['tokens'] = airline.content.apply(lambda x: x.split(\" \"))\n",
    "\n",
    "airline['tokens'].head()"
   ]
  },
  {
   "cell_type": "raw",
   "metadata": {},
   "source": [
    "Looks like it's off to a good start. One thing I may want to consider is pulling out specific airports too especially the three letter call signs since these should be easy to identify within the lists of tokens. "
   ]
  },
  {
   "cell_type": "code",
   "execution_count": 22,
   "metadata": {},
   "outputs": [],
   "source": [
    "stops = set(stopwords.words('english'))"
   ]
  },
  {
   "cell_type": "code",
   "execution_count": 23,
   "metadata": {},
   "outputs": [],
   "source": [
    "airline['clean'] = airline['tokens'].apply(lambda x: [word for word in x if word not in stops])"
   ]
  },
  {
   "cell_type": "code",
   "execution_count": 24,
   "metadata": {},
   "outputs": [],
   "source": [
    "airline['clean'] = airline['clean'].apply(lambda x: [word for word in x if re.search('^[a-zA-Z]+', word)])"
   ]
  },
  {
   "cell_type": "code",
   "execution_count": 25,
   "metadata": {},
   "outputs": [],
   "source": [
    "# Lemmatizer \n",
    "lemmatizer = nltk.WordNetLemmatizer()\n",
    "\n",
    "airline['clean'] = airline['clean'].apply(lambda x: [lemmatizer.lemmatize(word) for word in x])"
   ]
  },
  {
   "cell_type": "code",
   "execution_count": 26,
   "metadata": {},
   "outputs": [],
   "source": [
    "airline['ready'] =  airline['clean'].apply(lambda x: ' '.join(x))"
   ]
  },
  {
   "cell_type": "code",
   "execution_count": 27,
   "metadata": {},
   "outputs": [
    {
     "data": {
      "text/html": [
       "<div>\n",
       "<style scoped>\n",
       "    .dataframe tbody tr th:only-of-type {\n",
       "        vertical-align: middle;\n",
       "    }\n",
       "\n",
       "    .dataframe tbody tr th {\n",
       "        vertical-align: top;\n",
       "    }\n",
       "\n",
       "    .dataframe thead th {\n",
       "        text-align: right;\n",
       "    }\n",
       "</style>\n",
       "<table border=\"1\" class=\"dataframe\">\n",
       "  <thead>\n",
       "    <tr style=\"text-align: right;\">\n",
       "      <th></th>\n",
       "      <th>airline_name</th>\n",
       "      <th>link</th>\n",
       "      <th>title</th>\n",
       "      <th>author</th>\n",
       "      <th>author_country</th>\n",
       "      <th>date</th>\n",
       "      <th>content</th>\n",
       "      <th>aircraft</th>\n",
       "      <th>type_traveller</th>\n",
       "      <th>cabin_flown</th>\n",
       "      <th>...</th>\n",
       "      <th>food_beverages_rating</th>\n",
       "      <th>inflight_entertainment_rating</th>\n",
       "      <th>ground_service_rating</th>\n",
       "      <th>wifi_connectivity_rating</th>\n",
       "      <th>value_money_rating</th>\n",
       "      <th>recommended</th>\n",
       "      <th>text_len</th>\n",
       "      <th>tokens</th>\n",
       "      <th>clean</th>\n",
       "      <th>ready</th>\n",
       "    </tr>\n",
       "  </thead>\n",
       "  <tbody>\n",
       "    <tr>\n",
       "      <th>0</th>\n",
       "      <td>adria-airways</td>\n",
       "      <td>/airline-reviews/adria-airways</td>\n",
       "      <td>Adria Airways customer review</td>\n",
       "      <td>D Ito</td>\n",
       "      <td>Germany</td>\n",
       "      <td>4/10/2015</td>\n",
       "      <td>Outbound flight FRA/PRN A319. 2 hours 10 min f...</td>\n",
       "      <td>NaN</td>\n",
       "      <td>NaN</td>\n",
       "      <td>Economy</td>\n",
       "      <td>...</td>\n",
       "      <td>4.0</td>\n",
       "      <td>0.0</td>\n",
       "      <td>NaN</td>\n",
       "      <td>NaN</td>\n",
       "      <td>4.0</td>\n",
       "      <td>1</td>\n",
       "      <td>424</td>\n",
       "      <td>[Outbound, flight, FRA/PRN, A319., 2, hours, 1...</td>\n",
       "      <td>[Outbound, flight, FRA/PRN, A319., hour, min, ...</td>\n",
       "      <td>Outbound flight FRA/PRN A319. hour min flight....</td>\n",
       "    </tr>\n",
       "    <tr>\n",
       "      <th>1</th>\n",
       "      <td>adria-airways</td>\n",
       "      <td>/airline-reviews/adria-airways</td>\n",
       "      <td>Adria Airways customer review</td>\n",
       "      <td>Ron Kuhlmann</td>\n",
       "      <td>United States</td>\n",
       "      <td>1/5/2015</td>\n",
       "      <td>Two short hops ZRH-LJU and LJU-VIE. Very fast ...</td>\n",
       "      <td>NaN</td>\n",
       "      <td>NaN</td>\n",
       "      <td>Business Class</td>\n",
       "      <td>...</td>\n",
       "      <td>4.0</td>\n",
       "      <td>1.0</td>\n",
       "      <td>NaN</td>\n",
       "      <td>NaN</td>\n",
       "      <td>5.0</td>\n",
       "      <td>1</td>\n",
       "      <td>141</td>\n",
       "      <td>[Two, short, hops, ZRH-LJU, and, LJU-VIE., Ver...</td>\n",
       "      <td>[Two, short, hop, ZRH-LJU, LJU-VIE., Very, fas...</td>\n",
       "      <td>Two short hop ZRH-LJU LJU-VIE. Very fast CRJ S...</td>\n",
       "    </tr>\n",
       "    <tr>\n",
       "      <th>2</th>\n",
       "      <td>adria-airways</td>\n",
       "      <td>/airline-reviews/adria-airways</td>\n",
       "      <td>Adria Airways customer review</td>\n",
       "      <td>E Albin</td>\n",
       "      <td>Switzerland</td>\n",
       "      <td>9/14/2014</td>\n",
       "      <td>Flew Zurich-Ljubljana on JP365 newish CRJ900. ...</td>\n",
       "      <td>NaN</td>\n",
       "      <td>NaN</td>\n",
       "      <td>Economy</td>\n",
       "      <td>...</td>\n",
       "      <td>4.0</td>\n",
       "      <td>0.0</td>\n",
       "      <td>NaN</td>\n",
       "      <td>NaN</td>\n",
       "      <td>5.0</td>\n",
       "      <td>1</td>\n",
       "      <td>249</td>\n",
       "      <td>[Flew, Zurich-Ljubljana, on, JP365, newish, CR...</td>\n",
       "      <td>[Flew, Zurich-Ljubljana, JP365, newish, CRJ900...</td>\n",
       "      <td>Flew Zurich-Ljubljana JP365 newish CRJ900. Fli...</td>\n",
       "    </tr>\n",
       "    <tr>\n",
       "      <th>3</th>\n",
       "      <td>adria-airways</td>\n",
       "      <td>/airline-reviews/adria-airways</td>\n",
       "      <td>Adria Airways customer review</td>\n",
       "      <td>Tercon Bojan</td>\n",
       "      <td>Singapore</td>\n",
       "      <td>9/6/2014</td>\n",
       "      <td>Adria serves this 100 min flight from Ljubljan...</td>\n",
       "      <td>NaN</td>\n",
       "      <td>NaN</td>\n",
       "      <td>Business Class</td>\n",
       "      <td>...</td>\n",
       "      <td>3.0</td>\n",
       "      <td>1.0</td>\n",
       "      <td>NaN</td>\n",
       "      <td>NaN</td>\n",
       "      <td>4.0</td>\n",
       "      <td>1</td>\n",
       "      <td>439</td>\n",
       "      <td>[Adria, serves, this, 100, min, flight, from, ...</td>\n",
       "      <td>[Adria, serf, min, flight, Ljubljana, Amsterda...</td>\n",
       "      <td>Adria serf min flight Ljubljana Amsterdam bran...</td>\n",
       "    </tr>\n",
       "    <tr>\n",
       "      <th>4</th>\n",
       "      <td>adria-airways</td>\n",
       "      <td>/airline-reviews/adria-airways</td>\n",
       "      <td>Adria Airways customer review</td>\n",
       "      <td>L James</td>\n",
       "      <td>Poland</td>\n",
       "      <td>6/16/2014</td>\n",
       "      <td>WAW-SKJ Economy. No free snacks or drinks on t...</td>\n",
       "      <td>NaN</td>\n",
       "      <td>NaN</td>\n",
       "      <td>Economy</td>\n",
       "      <td>...</td>\n",
       "      <td>1.0</td>\n",
       "      <td>2.0</td>\n",
       "      <td>NaN</td>\n",
       "      <td>NaN</td>\n",
       "      <td>2.0</td>\n",
       "      <td>0</td>\n",
       "      <td>675</td>\n",
       "      <td>[WAW-SKJ, Economy., No, free, snacks, or, drin...</td>\n",
       "      <td>[WAW-SKJ, Economy., No, free, snack, drink, St...</td>\n",
       "      <td>WAW-SKJ Economy. No free snack drink Star Alli...</td>\n",
       "    </tr>\n",
       "  </tbody>\n",
       "</table>\n",
       "<p>5 rows × 24 columns</p>\n",
       "</div>"
      ],
      "text/plain": [
       "    airline_name                            link  \\\n",
       "0  adria-airways  /airline-reviews/adria-airways   \n",
       "1  adria-airways  /airline-reviews/adria-airways   \n",
       "2  adria-airways  /airline-reviews/adria-airways   \n",
       "3  adria-airways  /airline-reviews/adria-airways   \n",
       "4  adria-airways  /airline-reviews/adria-airways   \n",
       "\n",
       "                           title        author author_country       date  \\\n",
       "0  Adria Airways customer review         D Ito        Germany  4/10/2015   \n",
       "1  Adria Airways customer review  Ron Kuhlmann  United States   1/5/2015   \n",
       "2  Adria Airways customer review       E Albin    Switzerland  9/14/2014   \n",
       "3  Adria Airways customer review  Tercon Bojan      Singapore   9/6/2014   \n",
       "4  Adria Airways customer review       L James         Poland  6/16/2014   \n",
       "\n",
       "                                             content aircraft type_traveller  \\\n",
       "0  Outbound flight FRA/PRN A319. 2 hours 10 min f...      NaN            NaN   \n",
       "1  Two short hops ZRH-LJU and LJU-VIE. Very fast ...      NaN            NaN   \n",
       "2  Flew Zurich-Ljubljana on JP365 newish CRJ900. ...      NaN            NaN   \n",
       "3  Adria serves this 100 min flight from Ljubljan...      NaN            NaN   \n",
       "4  WAW-SKJ Economy. No free snacks or drinks on t...      NaN            NaN   \n",
       "\n",
       "      cabin_flown                        ...                          \\\n",
       "0         Economy                        ...                           \n",
       "1  Business Class                        ...                           \n",
       "2         Economy                        ...                           \n",
       "3  Business Class                        ...                           \n",
       "4         Economy                        ...                           \n",
       "\n",
       "  food_beverages_rating  inflight_entertainment_rating  ground_service_rating  \\\n",
       "0                   4.0                            0.0                    NaN   \n",
       "1                   4.0                            1.0                    NaN   \n",
       "2                   4.0                            0.0                    NaN   \n",
       "3                   3.0                            1.0                    NaN   \n",
       "4                   1.0                            2.0                    NaN   \n",
       "\n",
       "   wifi_connectivity_rating  value_money_rating  recommended  text_len  \\\n",
       "0                       NaN                 4.0            1       424   \n",
       "1                       NaN                 5.0            1       141   \n",
       "2                       NaN                 5.0            1       249   \n",
       "3                       NaN                 4.0            1       439   \n",
       "4                       NaN                 2.0            0       675   \n",
       "\n",
       "                                              tokens  \\\n",
       "0  [Outbound, flight, FRA/PRN, A319., 2, hours, 1...   \n",
       "1  [Two, short, hops, ZRH-LJU, and, LJU-VIE., Ver...   \n",
       "2  [Flew, Zurich-Ljubljana, on, JP365, newish, CR...   \n",
       "3  [Adria, serves, this, 100, min, flight, from, ...   \n",
       "4  [WAW-SKJ, Economy., No, free, snacks, or, drin...   \n",
       "\n",
       "                                               clean  \\\n",
       "0  [Outbound, flight, FRA/PRN, A319., hour, min, ...   \n",
       "1  [Two, short, hop, ZRH-LJU, LJU-VIE., Very, fas...   \n",
       "2  [Flew, Zurich-Ljubljana, JP365, newish, CRJ900...   \n",
       "3  [Adria, serf, min, flight, Ljubljana, Amsterda...   \n",
       "4  [WAW-SKJ, Economy., No, free, snack, drink, St...   \n",
       "\n",
       "                                               ready  \n",
       "0  Outbound flight FRA/PRN A319. hour min flight....  \n",
       "1  Two short hop ZRH-LJU LJU-VIE. Very fast CRJ S...  \n",
       "2  Flew Zurich-Ljubljana JP365 newish CRJ900. Fli...  \n",
       "3  Adria serf min flight Ljubljana Amsterdam bran...  \n",
       "4  WAW-SKJ Economy. No free snack drink Star Alli...  \n",
       "\n",
       "[5 rows x 24 columns]"
      ]
     },
     "execution_count": 27,
     "metadata": {},
     "output_type": "execute_result"
    }
   ],
   "source": [
    "airline.head()"
   ]
  },
  {
   "cell_type": "code",
   "execution_count": 40,
   "metadata": {},
   "outputs": [],
   "source": [
    "# Vectorize and fit the model\n",
    "\n",
    "from sklearn.feature_extraction.text import TfidfVectorizer\n",
    "\n",
    "# parameters set to try to reduce features space to something that won't crash my computer\n",
    "tfidf = TfidfVectorizer(max_df = .7, min_df=.1)\n",
    "\n",
    "# running on portion of population to try to get results to work\n",
    "X = tfidf.fit_transform(airline['ready'].sample(frac=.3))"
   ]
  },
  {
   "cell_type": "code",
   "execution_count": 41,
   "metadata": {},
   "outputs": [
    {
     "data": {
      "text/plain": [
       "(12419, 76)"
      ]
     },
     "execution_count": 41,
     "metadata": {},
     "output_type": "execute_result"
    }
   ],
   "source": [
    "X.shape # figure out how many words are left in the matrix"
   ]
  },
  {
   "cell_type": "code",
   "execution_count": 45,
   "metadata": {},
   "outputs": [
    {
     "name": "stdout",
     "output_type": "stream",
     "text": [
      "2 completed\n",
      "3 completed\n",
      "4 completed\n",
      "5 completed\n",
      "6 completed\n",
      "7 completed\n",
      "8 completed\n",
      "9 completed\n",
      "10 completed\n",
      "11 completed\n",
      "12 completed\n",
      "13 completed\n",
      "14 completed\n",
      "15 completed\n",
      "16 completed\n",
      "17 completed\n",
      "18 completed\n",
      "19 completed\n",
      "20 completed\n",
      "21 completed\n",
      "22 completed\n",
      "23 completed\n",
      "24 completed\n",
      "25 completed\n",
      "26 completed\n",
      "27 completed\n",
      "28 completed\n",
      "29 completed\n",
      "30 completed\n",
      "31 completed\n",
      "32 completed\n",
      "33 completed\n",
      "34 completed\n",
      "35 completed\n",
      "36 completed\n",
      "37 completed\n",
      "38 completed\n",
      "39 completed\n",
      "40 completed\n"
     ]
    }
   ],
   "source": [
    "# calculate SC for K=2 through K=40\n",
    "k_range = range(2, 41,1)\n",
    "scores = []\n",
    "for k in k_range:\n",
    "    km = KMeans(n_clusters=k, random_state=1, n_jobs=-1, algorithm=\"auto\", n_init=5, )\n",
    "    km.fit(X)\n",
    "    scores.append(metrics.silhouette_score(X, km.labels_))\n",
    "    print(\"{} completed\".format((k)))"
   ]
  },
  {
   "cell_type": "code",
   "execution_count": 46,
   "metadata": {},
   "outputs": [
    {
     "data": {
      "image/png": "[encoded data removed]",
      "text/plain": [
       "<Figure size 432x288 with 1 Axes>"
      ]
     },
     "metadata": {},
     "output_type": "display_data"
    }
   ],
   "source": [
    "plt.plot(k_range, scores)\n",
    "plt.xlabel('Number of clusters')\n",
    "plt.ylabel('Silhouette Coefficient')\n",
    "plt.grid(True)"
   ]
  }
 ],
 "metadata": {
  "kernelspec": {
   "display_name": "mlg_2",
   "language": "python",
   "name": "mlg_2"
  },
  "language_info": {
   "codemirror_mode": {
    "name": "ipython",
    "version": 3
   },
   "file_extension": ".py",
   "mimetype": "text/x-python",
   "name": "python",
   "nbconvert_exporter": "python",
   "pygments_lexer": "ipython3",
   "version": "3.5.5"
  }
 },
 "nbformat": 4,
 "nbformat_minor": 2
}
