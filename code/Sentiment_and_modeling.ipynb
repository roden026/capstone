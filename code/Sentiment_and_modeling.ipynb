{
 "cells": [
  {
   "cell_type": "code",
   "execution_count": 152,
   "metadata": {},
   "outputs": [
    {
     "data": {
      "text/plain": [
       "'\\nhttp://scikit-learn.org/stable/modules/ensemble.html#voting-classifier\\n\\nCheck this out as a possible solution if recommended can be fairly well predicted by multiple models\\n'"
      ]
     },
     "execution_count": 152,
     "metadata": {},
     "output_type": "execute_result"
    }
   ],
   "source": [
    "# Imports\n",
    "import pandas as pd\n",
    "import seaborn as sns\n",
    "import numpy as np\n",
    "import os\n",
    "import matplotlib.pyplot as plt\n",
    "import nltk\n",
    "from nltk.corpus import stopwords\n",
    "import re\n",
    "\n",
    "from sklearn.cross_validation import cross_val_score\n",
    "from sklearn.cross_validation import train_test_split\n",
    "from sklearn.linear_model import LogisticRegression\n",
    "from sklearn import metrics\n",
    "from sklearn.naive_bayes import MultinomialNB\n",
    "from sklearn.feature_extraction.text import TfidfVectorizer\n",
    "from sklearn import tree\n",
    "from sklearn.ensemble import RandomForestClassifier\n",
    "from sklearn.preprocessing import MinMaxScaler\n",
    "from sklearn.svm import LinearSVC\n",
    "from sklearn.linear_model import PassiveAggressiveClassifier\n",
    "from sklearn.ensemble import AdaBoostClassifier\n",
    "from sklearn.ensemble import GradientBoostingClassifier\n",
    "\n",
    "\n",
    "'''\n",
    "http://scikit-learn.org/stable/modules/ensemble.html#voting-classifier\n",
    "\n",
    "Check this out as a possible solution if recommended can be fairly well predicted by multiple models\n",
    "'''"
   ]
  },
  {
   "cell_type": "code",
   "execution_count": 229,
   "metadata": {},
   "outputs": [
    {
     "name": "stderr",
     "output_type": "stream",
     "text": [
      "C:\\Users\\erroden\\AppData\\Local\\Continuum\\anaconda3\\envs\\mlg_2\\lib\\site-packages\\IPython\\core\\interactiveshell.py:2728: DtypeWarning: Columns (16) have mixed types. Specify dtype option on import or set low_memory=False.\n",
      "  interactivity=interactivity, compiler=compiler, result=result)\n"
     ]
    }
   ],
   "source": [
    "# Set up file read/folder structure\n",
    "os.chdir(\"C:\\\\Users\\\\erroden\\\\Desktop\\\\Capstone\\\\\")\n",
    "\n",
    "# Local Sources\n",
    "# Initial focus will be on the airline data set but others may be stitched on to enrich the data\n",
    "airline = pd.read_csv(\"data\\\\airline_2.csv\")\n",
    "\n",
    "airport = pd.read_csv(\"data\\\\airport.csv\")\n",
    "lounge = pd.read_csv(\"data\\\\lounge.csv\")\n",
    "seat = pd.read_csv(\"data\\\\seat.csv\")"
   ]
  },
  {
   "cell_type": "code",
   "execution_count": 230,
   "metadata": {},
   "outputs": [],
   "source": [
    "# Add on text length as an extra data point - https://medium.com/tensorist/classifying-yelp-reviews-using-nltk-and-scikit-learn-c58e71e962d9\n",
    "airline[\"text_len\"] = airline.content.apply(len)"
   ]
  },
  {
   "cell_type": "code",
   "execution_count": 231,
   "metadata": {},
   "outputs": [],
   "source": [
    "airline.drop(airline.columns[0], axis=1, inplace=True) # drop index column"
   ]
  },
  {
   "cell_type": "code",
   "execution_count": 232,
   "metadata": {},
   "outputs": [
    {
     "data": {
      "text/plain": [
       "Index(['aircraft', 'cabin_flown', 'cabin_staff_rating', 'date',\n",
       "       'food_beverages_rating', 'ground_service_rating',\n",
       "       'inflight_entertainment_rating', 'recommended', 'route',\n",
       "       'seat_comfort_rating', 'type_traveller', 'value_money_rating',\n",
       "       'wifi_connectivity_rating', 'airline_name', 'author', 'author_country',\n",
       "       'content', 'date_published', 'link', 'overall_rating', 'title',\n",
       "       'text_len'],\n",
       "      dtype='object')"
      ]
     },
     "execution_count": 232,
     "metadata": {},
     "output_type": "execute_result"
    }
   ],
   "source": [
    "airline.columns"
   ]
  },
  {
   "cell_type": "code",
   "execution_count": 233,
   "metadata": {},
   "outputs": [
    {
     "data": {
      "text/plain": [
       "<seaborn.axisgrid.FacetGrid at 0x1208219abe0>"
      ]
     },
     "execution_count": 233,
     "metadata": {},
     "output_type": "execute_result"
    },
    {
     "data": {
      "image/png": "[encoded data removed]",
      "text/plain": [
       "<Figure size 432x216 with 2 Axes>"
      ]
     },
     "metadata": {},
     "output_type": "display_data"
    }
   ],
   "source": [
    "# visualize how words compare with recommended\n",
    "\n",
    "g = sns.FacetGrid(data=airline, col='recommended')\n",
    "g.map(plt.hist, 'text_len', bins=50)"
   ]
  },
  {
   "cell_type": "code",
   "execution_count": 234,
   "metadata": {},
   "outputs": [
    {
     "data": {
      "text/plain": [
       "<seaborn.axisgrid.FacetGrid at 0x120819d54a8>"
      ]
     },
     "execution_count": 234,
     "metadata": {},
     "output_type": "execute_result"
    },
    {
     "data": {
      "image/png": "[encoded data removed]",
      "text/plain": [
       "<Figure size 2160x216 with 10 Axes>"
      ]
     },
     "metadata": {},
     "output_type": "display_data"
    }
   ],
   "source": [
    "# visualize how words compare with recommended overall_rating\n",
    "\n",
    "g = sns.FacetGrid(data=airline, col='overall_rating')\n",
    "g.map(plt.hist, 'text_len', bins=50)"
   ]
  },
  {
   "cell_type": "code",
   "execution_count": 235,
   "metadata": {},
   "outputs": [
    {
     "data": {
      "text/plain": [
       "0    [We, were, traveling, from, Paris, to, Skopje,...\n",
       "1    [Ljubljana, to, Munich., Adria's, checkin, sys...\n",
       "2    [A, very, unpleasant, experience, for, my, fam...\n",
       "3    [Frankfurt, to, Ljubljana., Flight, was, very,...\n",
       "4    [Ljubljana, to, Frankfurt., Flight, delayed, f...\n",
       "Name: tokens, dtype: object"
      ]
     },
     "execution_count": 235,
     "metadata": {},
     "output_type": "execute_result"
    }
   ],
   "source": [
    "# generate tokens\n",
    "airline['tokens'] = airline.content.apply(lambda x: x.split(\" \"))\n",
    "\n",
    "airline['tokens'].head()"
   ]
  },
  {
   "cell_type": "markdown",
   "metadata": {},
   "source": [
    "Looks like it's off to a good start. "
   ]
  },
  {
   "cell_type": "code",
   "execution_count": 164,
   "metadata": {},
   "outputs": [],
   "source": [
    "stops = set(stopwords.words('english'))"
   ]
  },
  {
   "cell_type": "code",
   "execution_count": 165,
   "metadata": {},
   "outputs": [],
   "source": [
    "airline['clean'] = airline['tokens'].apply(lambda x: [word for word in x if word not in stops])"
   ]
  },
  {
   "cell_type": "code",
   "execution_count": 166,
   "metadata": {},
   "outputs": [],
   "source": [
    "airline['clean'] = airline['clean'].apply(lambda x: [word for word in x if re.search('^[a-zA-Z]+', word)])"
   ]
  },
  {
   "cell_type": "code",
   "execution_count": 167,
   "metadata": {},
   "outputs": [],
   "source": [
    "# Lemmatizer \n",
    "lemmatizer = nltk.WordNetLemmatizer()\n",
    "\n",
    "airline['clean'] = airline['clean'].apply(lambda x: [lemmatizer.lemmatize(word) for word in x])"
   ]
  },
  {
   "cell_type": "code",
   "execution_count": 168,
   "metadata": {},
   "outputs": [],
   "source": [
    "airline['ready'] =  airline['clean'].apply(lambda x: ' '.join(x))"
   ]
  },
  {
   "cell_type": "code",
   "execution_count": 169,
   "metadata": {},
   "outputs": [],
   "source": [
    "# Vectorize and fit the model\n",
    "\n",
    "from sklearn.feature_extraction.text import TfidfVectorizer\n",
    "\n",
    "# parameters set to try to reduce features space to something that won't crash my computer\n",
    "tfidf = TfidfVectorizer(max_df = .9, min_df=.05)\n",
    "\n",
    "# running on portion of population to try to get results to work\n",
    "X = tfidf.fit_transform(airline['ready'])"
   ]
  },
  {
   "cell_type": "code",
   "execution_count": 170,
   "metadata": {},
   "outputs": [
    {
     "data": {
      "text/plain": [
       "(79802, 235)"
      ]
     },
     "execution_count": 170,
     "metadata": {},
     "output_type": "execute_result"
    }
   ],
   "source": [
    "X.shape # records x tokens"
   ]
  },
  {
   "cell_type": "code",
   "execution_count": 171,
   "metadata": {},
   "outputs": [],
   "source": [
    "# Classification using tfidf and recommendation as output variable\n",
    "\n",
    "y = airline.recommended"
   ]
  },
  {
   "cell_type": "code",
   "execution_count": 172,
   "metadata": {},
   "outputs": [
    {
     "data": {
      "text/plain": [
       "0.9286898953759015"
      ]
     },
     "execution_count": 172,
     "metadata": {},
     "output_type": "execute_result"
    }
   ],
   "source": [
    "# logistic regression\n",
    "\n",
    "logreg = LogisticRegression()\n",
    "cross_val_score(logreg, X, y, cv=5, scoring='roc_auc').mean()"
   ]
  },
  {
   "cell_type": "code",
   "execution_count": 173,
   "metadata": {},
   "outputs": [
    {
     "data": {
      "text/plain": [
       "Text(0,0.5,'True Positive Rate (Sensitivity)')"
      ]
     },
     "execution_count": 173,
     "metadata": {},
     "output_type": "execute_result"
    },
    {
     "data": {
      "image/png": "[encoded data removed]",
      "text/plain": [
       "<Figure size 432x288 with 1 Axes>"
      ]
     },
     "metadata": {},
     "output_type": "display_data"
    }
   ],
   "source": [
    "X_train, X_test, y_train, y_test = train_test_split(X, y, random_state=1)\n",
    "\n",
    "logreg.fit(X_train, y_train)\n",
    "\n",
    "\n",
    "fpr, tpr, thresholds = metrics.roc_curve(y, logreg.predict_proba(X)[:, 1])\n",
    "plt.plot(fpr, tpr)\n",
    "plt.xlim([0.0, 1.0])\n",
    "plt.ylim([0.0, 1.0])\n",
    "plt.xlabel('False Positive Rate (1 - Specificity)')\n",
    "plt.ylabel('True Positive Rate (Sensitivity)')"
   ]
  },
  {
   "cell_type": "code",
   "execution_count": 174,
   "metadata": {},
   "outputs": [],
   "source": [
    "# Now add in sentiment\n",
    "\n",
    "from textblob import TextBlob, Word\n",
    "\n",
    "airline['tokens'] = airline.content.apply(lambda x: x.split(\" \"))\n",
    "\n",
    "# create a text blob column \n",
    "airline['blob'] = airline.content.apply(lambda x: TextBlob(x))"
   ]
  },
  {
   "cell_type": "code",
   "execution_count": 175,
   "metadata": {},
   "outputs": [
    {
     "data": {
      "text/plain": [
       "0    (W, e,  , w, e, r, e,  , t, r, a, v, e, l, i, ...\n",
       "1    (L, j, u, b, l, j, a, n, a,  , t, o,  , M, u, ...\n",
       "2    (A,  , v, e, r, y,  , u, n, p, l, e, a, s, a, ...\n",
       "3    (F, r, a, n, k, f, u, r, t,  , t, o,  , L, j, ...\n",
       "4    (L, j, u, b, l, j, a, n, a,  , t, o,  , F, r, ...\n",
       "Name: blob, dtype: object"
      ]
     },
     "execution_count": 175,
     "metadata": {},
     "output_type": "execute_result"
    }
   ],
   "source": [
    "airline.blob.head()"
   ]
  },
  {
   "cell_type": "code",
   "execution_count": 176,
   "metadata": {},
   "outputs": [],
   "source": [
    "# get polarity scores\n",
    "\n",
    "airline['polarity'] = [sent.sentiment.polarity for sent in airline.blob]"
   ]
  },
  {
   "cell_type": "code",
   "execution_count": 177,
   "metadata": {},
   "outputs": [
    {
     "data": {
      "text/html": [
       "<div>\n",
       "<style scoped>\n",
       "    .dataframe tbody tr th:only-of-type {\n",
       "        vertical-align: middle;\n",
       "    }\n",
       "\n",
       "    .dataframe tbody tr th {\n",
       "        vertical-align: top;\n",
       "    }\n",
       "\n",
       "    .dataframe thead th {\n",
       "        text-align: right;\n",
       "    }\n",
       "</style>\n",
       "<table border=\"1\" class=\"dataframe\">\n",
       "  <thead>\n",
       "    <tr style=\"text-align: right;\">\n",
       "      <th></th>\n",
       "      <th>polarity</th>\n",
       "      <th>content</th>\n",
       "    </tr>\n",
       "  </thead>\n",
       "  <tbody>\n",
       "    <tr>\n",
       "      <th>0</th>\n",
       "      <td>-0.001667</td>\n",
       "      <td>We were traveling from Paris to Skopje on May ...</td>\n",
       "    </tr>\n",
       "    <tr>\n",
       "      <th>1</th>\n",
       "      <td>-0.007500</td>\n",
       "      <td>Ljubljana to Munich. Adria's checkin system is...</td>\n",
       "    </tr>\n",
       "    <tr>\n",
       "      <th>2</th>\n",
       "      <td>0.037111</td>\n",
       "      <td>A very unpleasant experience for my family. We...</td>\n",
       "    </tr>\n",
       "    <tr>\n",
       "      <th>3</th>\n",
       "      <td>0.206667</td>\n",
       "      <td>Frankfurt to Ljubljana. Flight was very comfor...</td>\n",
       "    </tr>\n",
       "    <tr>\n",
       "      <th>4</th>\n",
       "      <td>0.181345</td>\n",
       "      <td>Ljubljana to Frankfurt. Flight delayed for mor...</td>\n",
       "    </tr>\n",
       "  </tbody>\n",
       "</table>\n",
       "</div>"
      ],
      "text/plain": [
       "   polarity                                            content\n",
       "0 -0.001667  We were traveling from Paris to Skopje on May ...\n",
       "1 -0.007500  Ljubljana to Munich. Adria's checkin system is...\n",
       "2  0.037111  A very unpleasant experience for my family. We...\n",
       "3  0.206667  Frankfurt to Ljubljana. Flight was very comfor...\n",
       "4  0.181345  Ljubljana to Frankfurt. Flight delayed for mor..."
      ]
     },
     "execution_count": 177,
     "metadata": {},
     "output_type": "execute_result"
    }
   ],
   "source": [
    "airline.head()[['polarity', 'content']]"
   ]
  },
  {
   "cell_type": "code",
   "execution_count": 179,
   "metadata": {},
   "outputs": [
    {
     "data": {
      "text/plain": [
       "'Frankfurt to Ljubljana. Flight was very comfortable, professional crew. The monitors above passengers provide informations about flight (speed, altitude, temperature, time to landing, etc.)'"
      ]
     },
     "execution_count": 179,
     "metadata": {},
     "output_type": "execute_result"
    }
   ],
   "source": [
    "airline.content[3] # check to see if content matches sentient"
   ]
  },
  {
   "cell_type": "code",
   "execution_count": 180,
   "metadata": {},
   "outputs": [
    {
     "data": {
      "text/plain": [
       "0.8851731594453266"
      ]
     },
     "execution_count": 180,
     "metadata": {},
     "output_type": "execute_result"
    }
   ],
   "source": [
    "# logistic regression using sentiment/polarity only\n",
    "\n",
    "X = airline.polarity\n",
    "X = X.values.reshape(-1,1)\n",
    "y = airline.recommended\n",
    "\n",
    "logreg = LogisticRegression()\n",
    "cross_val_score(logreg, X, y, cv=5, scoring='roc_auc').mean()"
   ]
  },
  {
   "cell_type": "markdown",
   "metadata": {},
   "source": [
    "This performed slightly worse than using just the tfidf"
   ]
  },
  {
   "cell_type": "code",
   "execution_count": 181,
   "metadata": {},
   "outputs": [
    {
     "data": {
      "text/plain": [
       "Text(0,0.5,'True Positive Rate (Sensitivity)')"
      ]
     },
     "execution_count": 181,
     "metadata": {},
     "output_type": "execute_result"
    },
    {
     "data": {
      "image/png": "[encoded data removed]",
      "text/plain": [
       "<Figure size 432x288 with 1 Axes>"
      ]
     },
     "metadata": {},
     "output_type": "display_data"
    }
   ],
   "source": [
    "X_train, X_test, y_train, y_test = train_test_split(X, y, random_state=1)\n",
    "\n",
    "logreg.fit(X_train, y_train)\n",
    "\n",
    "\n",
    "fpr, tpr, thresholds = metrics.roc_curve(y, logreg.predict_proba(X)[:, 1])\n",
    "plt.plot(fpr, tpr)\n",
    "plt.xlim([0.0, 1.0])\n",
    "plt.ylim([0.0, 1.0])\n",
    "plt.xlabel('False Positive Rate (1 - Specificity)')\n",
    "plt.ylabel('True Positive Rate (Sensitivity)')"
   ]
  },
  {
   "cell_type": "markdown",
   "metadata": {},
   "source": [
    "**Sentiment alone performs more poorly than using a tfidf, but not terrible performance"
   ]
  },
  {
   "cell_type": "markdown",
   "metadata": {},
   "source": [
    "*What if we use both?"
   ]
  },
  {
   "cell_type": "code",
   "execution_count": 183,
   "metadata": {},
   "outputs": [],
   "source": [
    "# parameters set to try to reduce features space to something that won't crash my computer\n",
    "tfidf = TfidfVectorizer(max_df = .9, min_df=.05)\n",
    "\n",
    "# running on portion of population to try to get results to work\n",
    "X = tfidf.fit_transform(airline['ready'])"
   ]
  },
  {
   "cell_type": "code",
   "execution_count": 184,
   "metadata": {},
   "outputs": [],
   "source": [
    "X.polarity = airline.polarity"
   ]
  },
  {
   "cell_type": "code",
   "execution_count": 185,
   "metadata": {},
   "outputs": [
    {
     "data": {
      "text/plain": [
       "0.9286898953759015"
      ]
     },
     "execution_count": 185,
     "metadata": {},
     "output_type": "execute_result"
    }
   ],
   "source": [
    "# without normalization\n",
    "logreg = LogisticRegression()\n",
    "cross_val_score(logreg, X, y, cv=5, scoring='roc_auc').mean()"
   ]
  },
  {
   "cell_type": "code",
   "execution_count": 186,
   "metadata": {},
   "outputs": [
    {
     "data": {
      "text/plain": [
       "Text(0,0.5,'True Positive Rate (Sensitivity)')"
      ]
     },
     "execution_count": 186,
     "metadata": {},
     "output_type": "execute_result"
    },
    {
     "data": {
      "image/png": "[encoded data removed]",
      "text/plain": [
       "<Figure size 432x288 with 1 Axes>"
      ]
     },
     "metadata": {},
     "output_type": "display_data"
    }
   ],
   "source": [
    "X_train, X_test, y_train, y_test = train_test_split(X, y, random_state=1)\n",
    "\n",
    "logreg.fit(X_train, y_train)\n",
    "\n",
    "\n",
    "fpr, tpr, thresholds = metrics.roc_curve(y, logreg.predict_proba(X)[:, 1])\n",
    "plt.plot(fpr, tpr)\n",
    "plt.xlim([0.0, 1.0])\n",
    "plt.ylim([0.0, 1.0])\n",
    "plt.xlabel('False Positive Rate (1 - Specificity)')\n",
    "plt.ylabel('True Positive Rate (Sensitivity)')"
   ]
  },
  {
   "cell_type": "markdown",
   "metadata": {},
   "source": [
    "Similar performance to just using the tfidf"
   ]
  },
  {
   "cell_type": "code",
   "execution_count": 193,
   "metadata": {},
   "outputs": [],
   "source": [
    "airline_no_text = airline.drop(['tokens', 'clean', 'ready', 'blob'], axis=1)"
   ]
  },
  {
   "cell_type": "code",
   "execution_count": 195,
   "metadata": {},
   "outputs": [],
   "source": [
    "X = tfidf.fit_transform(airline['ready'])\n",
    "X = pd.DataFrame(X.toarray())\n",
    "airline_printout = pd.concat([airline_no_text,X],axis=1)"
   ]
  },
  {
   "cell_type": "code",
   "execution_count": 198,
   "metadata": {},
   "outputs": [],
   "source": [
    "# save df with tfidf for later use. Column names 0-234 are the tfidf columns\n",
    "\n",
    "# Set up file read/folder structure\n",
    "import os\n",
    "os.chdir(\"C:\\\\Users\\\\erroden\\\\Desktop\\\\Capstone\\\\\")\n",
    "\n",
    "airline_printout.to_csv('data\\\\airline_with_tfidf.csv', index=False)"
   ]
  },
  {
   "cell_type": "code",
   "execution_count": 199,
   "metadata": {},
   "outputs": [
    {
     "name": "stderr",
     "output_type": "stream",
     "text": [
      "C:\\Users\\erroden\\AppData\\Local\\Continuum\\anaconda3\\envs\\mlg_2\\lib\\site-packages\\IPython\\core\\interactiveshell.py:2728: DtypeWarning: Columns (15) have mixed types. Specify dtype option on import or set low_memory=False.\n",
      "  interactivity=interactivity, compiler=compiler, result=result)\n"
     ]
    }
   ],
   "source": [
    "airline2 = pd.read_csv('data\\\\airline_with_tfidf.csv')"
   ]
  },
  {
   "cell_type": "code",
   "execution_count": 220,
   "metadata": {},
   "outputs": [],
   "source": [
    "tfidf_col_length = X.shape[1]"
   ]
  },
  {
   "cell_type": "code",
   "execution_count": 200,
   "metadata": {},
   "outputs": [
    {
     "data": {
      "text/html": [
       "<div>\n",
       "<style scoped>\n",
       "    .dataframe tbody tr th:only-of-type {\n",
       "        vertical-align: middle;\n",
       "    }\n",
       "\n",
       "    .dataframe tbody tr th {\n",
       "        vertical-align: top;\n",
       "    }\n",
       "\n",
       "    .dataframe thead th {\n",
       "        text-align: right;\n",
       "    }\n",
       "</style>\n",
       "<table border=\"1\" class=\"dataframe\">\n",
       "  <thead>\n",
       "    <tr style=\"text-align: right;\">\n",
       "      <th></th>\n",
       "      <th>aircraft</th>\n",
       "      <th>cabin_flown</th>\n",
       "      <th>cabin_staff_rating</th>\n",
       "      <th>date</th>\n",
       "      <th>food_beverages_rating</th>\n",
       "      <th>ground_service_rating</th>\n",
       "      <th>inflight_entertainment_rating</th>\n",
       "      <th>recommended</th>\n",
       "      <th>route</th>\n",
       "      <th>seat_comfort_rating</th>\n",
       "      <th>...</th>\n",
       "      <th>225</th>\n",
       "      <th>226</th>\n",
       "      <th>227</th>\n",
       "      <th>228</th>\n",
       "      <th>229</th>\n",
       "      <th>230</th>\n",
       "      <th>231</th>\n",
       "      <th>232</th>\n",
       "      <th>233</th>\n",
       "      <th>234</th>\n",
       "    </tr>\n",
       "  </thead>\n",
       "  <tbody>\n",
       "    <tr>\n",
       "      <th>0</th>\n",
       "      <td>NaN</td>\n",
       "      <td>Economy Class</td>\n",
       "      <td>3.0</td>\n",
       "      <td>May 2018</td>\n",
       "      <td>NaN</td>\n",
       "      <td>3.0</td>\n",
       "      <td>NaN</td>\n",
       "      <td>0</td>\n",
       "      <td>Paris to Skopje via Ljubljana</td>\n",
       "      <td>3.0</td>\n",
       "      <td>...</td>\n",
       "      <td>0.108964</td>\n",
       "      <td>0.0</td>\n",
       "      <td>0.0</td>\n",
       "      <td>0.000000</td>\n",
       "      <td>0.000000</td>\n",
       "      <td>0.0</td>\n",
       "      <td>0.0</td>\n",
       "      <td>0.094825</td>\n",
       "      <td>0.000000</td>\n",
       "      <td>0.0</td>\n",
       "    </tr>\n",
       "    <tr>\n",
       "      <th>1</th>\n",
       "      <td>NaN</td>\n",
       "      <td>Economy Class</td>\n",
       "      <td>2.0</td>\n",
       "      <td>June 2018</td>\n",
       "      <td>2.0</td>\n",
       "      <td>2.0</td>\n",
       "      <td>NaN</td>\n",
       "      <td>0</td>\n",
       "      <td>Ljubljana to Munich</td>\n",
       "      <td>1.0</td>\n",
       "      <td>...</td>\n",
       "      <td>0.000000</td>\n",
       "      <td>0.0</td>\n",
       "      <td>0.0</td>\n",
       "      <td>0.000000</td>\n",
       "      <td>0.169378</td>\n",
       "      <td>0.0</td>\n",
       "      <td>0.0</td>\n",
       "      <td>0.107459</td>\n",
       "      <td>0.166778</td>\n",
       "      <td>0.0</td>\n",
       "    </tr>\n",
       "    <tr>\n",
       "      <th>2</th>\n",
       "      <td>A319</td>\n",
       "      <td>Economy Class</td>\n",
       "      <td>3.0</td>\n",
       "      <td>June 2018</td>\n",
       "      <td>NaN</td>\n",
       "      <td>1.0</td>\n",
       "      <td>NaN</td>\n",
       "      <td>0</td>\n",
       "      <td>Ljubljana to Prague</td>\n",
       "      <td>3.0</td>\n",
       "      <td>...</td>\n",
       "      <td>0.067665</td>\n",
       "      <td>0.0</td>\n",
       "      <td>0.0</td>\n",
       "      <td>0.089177</td>\n",
       "      <td>0.092816</td>\n",
       "      <td>0.0</td>\n",
       "      <td>0.0</td>\n",
       "      <td>0.000000</td>\n",
       "      <td>0.000000</td>\n",
       "      <td>0.0</td>\n",
       "    </tr>\n",
       "    <tr>\n",
       "      <th>3</th>\n",
       "      <td>NaN</td>\n",
       "      <td>Economy Class</td>\n",
       "      <td>5.0</td>\n",
       "      <td>April 2018</td>\n",
       "      <td>5.0</td>\n",
       "      <td>5.0</td>\n",
       "      <td>NaN</td>\n",
       "      <td>1</td>\n",
       "      <td>Frankfurt to Ljubljana</td>\n",
       "      <td>5.0</td>\n",
       "      <td>...</td>\n",
       "      <td>0.000000</td>\n",
       "      <td>0.0</td>\n",
       "      <td>0.0</td>\n",
       "      <td>0.000000</td>\n",
       "      <td>0.000000</td>\n",
       "      <td>0.0</td>\n",
       "      <td>0.0</td>\n",
       "      <td>0.000000</td>\n",
       "      <td>0.000000</td>\n",
       "      <td>0.0</td>\n",
       "    </tr>\n",
       "    <tr>\n",
       "      <th>4</th>\n",
       "      <td>NaN</td>\n",
       "      <td>Economy Class</td>\n",
       "      <td>1.0</td>\n",
       "      <td>March 2018</td>\n",
       "      <td>1.0</td>\n",
       "      <td>1.0</td>\n",
       "      <td>1.0</td>\n",
       "      <td>0</td>\n",
       "      <td>Ljubljana to Frankfurt</td>\n",
       "      <td>2.0</td>\n",
       "      <td>...</td>\n",
       "      <td>0.183579</td>\n",
       "      <td>0.0</td>\n",
       "      <td>0.0</td>\n",
       "      <td>0.000000</td>\n",
       "      <td>0.000000</td>\n",
       "      <td>0.0</td>\n",
       "      <td>0.0</td>\n",
       "      <td>0.000000</td>\n",
       "      <td>0.000000</td>\n",
       "      <td>0.0</td>\n",
       "    </tr>\n",
       "  </tbody>\n",
       "</table>\n",
       "<p>5 rows × 258 columns</p>\n",
       "</div>"
      ],
      "text/plain": [
       "  aircraft    cabin_flown  cabin_staff_rating        date  \\\n",
       "0      NaN  Economy Class                 3.0    May 2018   \n",
       "1      NaN  Economy Class                 2.0   June 2018   \n",
       "2     A319  Economy Class                 3.0   June 2018   \n",
       "3      NaN  Economy Class                 5.0  April 2018   \n",
       "4      NaN  Economy Class                 1.0  March 2018   \n",
       "\n",
       "   food_beverages_rating  ground_service_rating  \\\n",
       "0                    NaN                    3.0   \n",
       "1                    2.0                    2.0   \n",
       "2                    NaN                    1.0   \n",
       "3                    5.0                    5.0   \n",
       "4                    1.0                    1.0   \n",
       "\n",
       "   inflight_entertainment_rating  recommended                          route  \\\n",
       "0                            NaN            0  Paris to Skopje via Ljubljana   \n",
       "1                            NaN            0            Ljubljana to Munich   \n",
       "2                            NaN            0            Ljubljana to Prague   \n",
       "3                            NaN            1         Frankfurt to Ljubljana   \n",
       "4                            1.0            0         Ljubljana to Frankfurt   \n",
       "\n",
       "   seat_comfort_rating ...        225  226  227       228       229  230  231  \\\n",
       "0                  3.0 ...   0.108964  0.0  0.0  0.000000  0.000000  0.0  0.0   \n",
       "1                  1.0 ...   0.000000  0.0  0.0  0.000000  0.169378  0.0  0.0   \n",
       "2                  3.0 ...   0.067665  0.0  0.0  0.089177  0.092816  0.0  0.0   \n",
       "3                  5.0 ...   0.000000  0.0  0.0  0.000000  0.000000  0.0  0.0   \n",
       "4                  2.0 ...   0.183579  0.0  0.0  0.000000  0.000000  0.0  0.0   \n",
       "\n",
       "        232       233  234  \n",
       "0  0.094825  0.000000  0.0  \n",
       "1  0.107459  0.166778  0.0  \n",
       "2  0.000000  0.000000  0.0  \n",
       "3  0.000000  0.000000  0.0  \n",
       "4  0.000000  0.000000  0.0  \n",
       "\n",
       "[5 rows x 258 columns]"
      ]
     },
     "execution_count": 200,
     "metadata": {},
     "output_type": "execute_result"
    }
   ],
   "source": [
    "airline2.head()"
   ]
  },
  {
   "cell_type": "code",
   "execution_count": null,
   "metadata": {},
   "outputs": [],
   "source": [
    "''' \n",
    "The next step is to try to fill in NA values where possible for additional columns\n",
    "'''"
   ]
  },
  {
   "cell_type": "markdown",
   "metadata": {},
   "source": [
    "Low-Medium Null Values - cabin_flown, cabin_staff_rating,overall rating, value_money_rating, seat_comfort_rating, food_beverages_rating\n",
    "Medium-high null values - type_traveller, inflight_entertainment_rating, ground_service_rating\n",
    "More null than not null - wifi_connectivity_rating - **Dropped**"
   ]
  },
  {
   "cell_type": "code",
   "execution_count": 135,
   "metadata": {},
   "outputs": [],
   "source": [
    "# use available data to determine the best simple classification approach to use to predict y and return the model, its accuracy\n",
    "# and the column being predicted. At that point the model can either be used to predict the missing values or ignored depending on the accuracy\n",
    "\n",
    "# y_name should be the string column name of the y. Data should contain only the input columns and y. text field should have column 'ready'\n",
    "def get_na_model(y_name, data):\n",
    "    \n",
    "    # get dataframe of where y is not null\n",
    "    data = data[data[y_name] == data[y_name]]\n",
    "    \n",
    "    # create tfidf\n",
    "    tfidf = TfidfVectorizer(max_df = .9, min_df=.05)\n",
    "    \n",
    "    # get column names and drop text column\n",
    "    cols = list(data.columns)\n",
    "    cols.remove('ready')\n",
    "    \n",
    "    # fit tfidf and add back other data\n",
    "    X = tfidf.fit_transform(data['ready'])\n",
    "    X = pd.DataFrame(X.toarray())\n",
    "    \n",
    "    # concat?\n",
    "    X.reset_index(drop=True, inplace=True)\n",
    "    subset = data[cols].reset_index(drop=True)\n",
    "\n",
    "    X = pd.concat([X, subset], axis=1)\n",
    "    \n",
    "    scaler = MinMaxScaler()\n",
    "    \n",
    "    y = X[y_name]\n",
    "    X.drop(y_name, axis=1,inplace=True)\n",
    "    \n",
    "    X = scaler.fit_transform(X)\n",
    "    \n",
    "    # initiate models\n",
    "    # model = KNeighborsClassifier(n_jobs=-1) # crashes on running\n",
    "    models = {\n",
    "        'NB': MultinomialNB(), \n",
    "        'decision tree': tree.DecisionTreeClassifier(),\n",
    "        'random forest': RandomForestClassifier(n_jobs=-1), \n",
    "        'log reg': LogisticRegression(),\n",
    "        'linear SVC': LinearSVC(), \n",
    "        'Passive Aggressive Classifier': PassiveAggressiveClassifier(),\n",
    "        'Ada Boost': AdaBoostClassifier(),\n",
    "        'Gradient Boosting': GradientBoostingClassifier()\n",
    "    }\n",
    "    \n",
    "    # add variables to track best model\n",
    "    max_acc = -.01\n",
    "    best_model = None\n",
    "\n",
    "    '''\n",
    "    Determine how to pass gridsearch through\n",
    "    '''\n",
    "    # loop through each model and track accuracy\n",
    "    for m in models:\n",
    "        print('processing {}'.format(m))\n",
    "        model = models[m]\n",
    "        acc = cross_val_score(model, X, y, cv=5, scoring='accuracy').mean()\n",
    "        print(\"{} model scored {} accuracy\".format(m, acc))\n",
    "        if acc > max_acc:\n",
    "            best_model = models[m]\n",
    "            max_acc = acc\n",
    "            \n",
    "    return y_name, max_acc, best_model"
   ]
  },
  {
   "cell_type": "code",
   "execution_count": 136,
   "metadata": {},
   "outputs": [
    {
     "name": "stdout",
     "output_type": "stream",
     "text": [
      "column: cabin_staff_rating\n",
      "processing random forest\n",
      "random forest model scored 0.5151228185800136 accuracy\n",
      "processing Gradient Boosting\n",
      "Gradient Boosting model scored 0.5689949059273761 accuracy\n",
      "processing Ada Boost\n",
      "Ada Boost model scored 0.5416701024178228 accuracy\n",
      "processing log reg\n",
      "log reg model scored 0.5493449049320824 accuracy\n",
      "processing Passive Aggressive Classifier\n"
     ]
    },
    {
     "name": "stderr",
     "output_type": "stream",
     "text": [
      "C:\\Users\\erroden\\AppData\\Local\\Continuum\\anaconda3\\envs\\mlg_2\\lib\\site-packages\\sklearn\\linear_model\\stochastic_gradient.py:128: FutureWarning: max_iter and tol parameters have been added in <class 'sklearn.linear_model.passive_aggressive.PassiveAggressiveClassifier'> in 0.19. If both are left unset, they default to max_iter=5 and tol=None. If tol is not None, max_iter defaults to max_iter=1000. From 0.21, default max_iter will be 1000, and default tol will be 1e-3.\n",
      "  \"and default tol will be 1e-3.\" % type(self), FutureWarning)\n",
      "C:\\Users\\erroden\\AppData\\Local\\Continuum\\anaconda3\\envs\\mlg_2\\lib\\site-packages\\sklearn\\linear_model\\stochastic_gradient.py:128: FutureWarning: max_iter and tol parameters have been added in <class 'sklearn.linear_model.passive_aggressive.PassiveAggressiveClassifier'> in 0.19. If both are left unset, they default to max_iter=5 and tol=None. If tol is not None, max_iter defaults to max_iter=1000. From 0.21, default max_iter will be 1000, and default tol will be 1e-3.\n",
      "  \"and default tol will be 1e-3.\" % type(self), FutureWarning)\n",
      "C:\\Users\\erroden\\AppData\\Local\\Continuum\\anaconda3\\envs\\mlg_2\\lib\\site-packages\\sklearn\\linear_model\\stochastic_gradient.py:128: FutureWarning: max_iter and tol parameters have been added in <class 'sklearn.linear_model.passive_aggressive.PassiveAggressiveClassifier'> in 0.19. If both are left unset, they default to max_iter=5 and tol=None. If tol is not None, max_iter defaults to max_iter=1000. From 0.21, default max_iter will be 1000, and default tol will be 1e-3.\n",
      "  \"and default tol will be 1e-3.\" % type(self), FutureWarning)\n",
      "C:\\Users\\erroden\\AppData\\Local\\Continuum\\anaconda3\\envs\\mlg_2\\lib\\site-packages\\sklearn\\linear_model\\stochastic_gradient.py:128: FutureWarning: max_iter and tol parameters have been added in <class 'sklearn.linear_model.passive_aggressive.PassiveAggressiveClassifier'> in 0.19. If both are left unset, they default to max_iter=5 and tol=None. If tol is not None, max_iter defaults to max_iter=1000. From 0.21, default max_iter will be 1000, and default tol will be 1e-3.\n",
      "  \"and default tol will be 1e-3.\" % type(self), FutureWarning)\n",
      "C:\\Users\\erroden\\AppData\\Local\\Continuum\\anaconda3\\envs\\mlg_2\\lib\\site-packages\\sklearn\\linear_model\\stochastic_gradient.py:128: FutureWarning: max_iter and tol parameters have been added in <class 'sklearn.linear_model.passive_aggressive.PassiveAggressiveClassifier'> in 0.19. If both are left unset, they default to max_iter=5 and tol=None. If tol is not None, max_iter defaults to max_iter=1000. From 0.21, default max_iter will be 1000, and default tol will be 1e-3.\n",
      "  \"and default tol will be 1e-3.\" % type(self), FutureWarning)\n"
     ]
    },
    {
     "name": "stdout",
     "output_type": "stream",
     "text": [
      "Passive Aggressive Classifier model scored 0.4701019571108277 accuracy\n",
      "processing linear SVC\n",
      "linear SVC model scored 0.540378467073258 accuracy\n",
      "processing NB\n",
      "NB model scored 0.4929929387270085 accuracy\n",
      "processing decision tree\n",
      "decision tree model scored 0.460722458870213 accuracy\n",
      "column: food_beverages_rating\n",
      "processing random forest\n",
      "random forest model scored 0.43837194786499517 accuracy\n",
      "processing Gradient Boosting\n",
      "Gradient Boosting model scored 0.5030067926921988 accuracy\n",
      "processing Ada Boost\n",
      "Ada Boost model scored 0.4874863594098901 accuracy\n",
      "processing log reg\n",
      "log reg model scored 0.49063351424093116 accuracy\n",
      "processing Passive Aggressive Classifier\n"
     ]
    },
    {
     "name": "stderr",
     "output_type": "stream",
     "text": [
      "C:\\Users\\erroden\\AppData\\Local\\Continuum\\anaconda3\\envs\\mlg_2\\lib\\site-packages\\sklearn\\linear_model\\stochastic_gradient.py:128: FutureWarning: max_iter and tol parameters have been added in <class 'sklearn.linear_model.passive_aggressive.PassiveAggressiveClassifier'> in 0.19. If both are left unset, they default to max_iter=5 and tol=None. If tol is not None, max_iter defaults to max_iter=1000. From 0.21, default max_iter will be 1000, and default tol will be 1e-3.\n",
      "  \"and default tol will be 1e-3.\" % type(self), FutureWarning)\n",
      "C:\\Users\\erroden\\AppData\\Local\\Continuum\\anaconda3\\envs\\mlg_2\\lib\\site-packages\\sklearn\\linear_model\\stochastic_gradient.py:128: FutureWarning: max_iter and tol parameters have been added in <class 'sklearn.linear_model.passive_aggressive.PassiveAggressiveClassifier'> in 0.19. If both are left unset, they default to max_iter=5 and tol=None. If tol is not None, max_iter defaults to max_iter=1000. From 0.21, default max_iter will be 1000, and default tol will be 1e-3.\n",
      "  \"and default tol will be 1e-3.\" % type(self), FutureWarning)\n",
      "C:\\Users\\erroden\\AppData\\Local\\Continuum\\anaconda3\\envs\\mlg_2\\lib\\site-packages\\sklearn\\linear_model\\stochastic_gradient.py:128: FutureWarning: max_iter and tol parameters have been added in <class 'sklearn.linear_model.passive_aggressive.PassiveAggressiveClassifier'> in 0.19. If both are left unset, they default to max_iter=5 and tol=None. If tol is not None, max_iter defaults to max_iter=1000. From 0.21, default max_iter will be 1000, and default tol will be 1e-3.\n",
      "  \"and default tol will be 1e-3.\" % type(self), FutureWarning)\n",
      "C:\\Users\\erroden\\AppData\\Local\\Continuum\\anaconda3\\envs\\mlg_2\\lib\\site-packages\\sklearn\\linear_model\\stochastic_gradient.py:128: FutureWarning: max_iter and tol parameters have been added in <class 'sklearn.linear_model.passive_aggressive.PassiveAggressiveClassifier'> in 0.19. If both are left unset, they default to max_iter=5 and tol=None. If tol is not None, max_iter defaults to max_iter=1000. From 0.21, default max_iter will be 1000, and default tol will be 1e-3.\n",
      "  \"and default tol will be 1e-3.\" % type(self), FutureWarning)\n",
      "C:\\Users\\erroden\\AppData\\Local\\Continuum\\anaconda3\\envs\\mlg_2\\lib\\site-packages\\sklearn\\linear_model\\stochastic_gradient.py:128: FutureWarning: max_iter and tol parameters have been added in <class 'sklearn.linear_model.passive_aggressive.PassiveAggressiveClassifier'> in 0.19. If both are left unset, they default to max_iter=5 and tol=None. If tol is not None, max_iter defaults to max_iter=1000. From 0.21, default max_iter will be 1000, and default tol will be 1e-3.\n",
      "  \"and default tol will be 1e-3.\" % type(self), FutureWarning)\n"
     ]
    },
    {
     "name": "stdout",
     "output_type": "stream",
     "text": [
      "Passive Aggressive Classifier model scored 0.4045307875763139 accuracy\n",
      "processing linear SVC\n",
      "linear SVC model scored 0.48206580588619835 accuracy\n",
      "processing NB\n",
      "NB model scored 0.4359012749545738 accuracy\n",
      "processing decision tree\n",
      "decision tree model scored 0.38762641503374196 accuracy\n",
      "column: ground_service_rating\n",
      "processing random forest\n",
      "random forest model scored 0.5657405809362963 accuracy\n",
      "processing Gradient Boosting\n",
      "Gradient Boosting model scored 0.6172671715990117 accuracy\n",
      "processing Ada Boost\n",
      "Ada Boost model scored 0.6137229998453257 accuracy\n",
      "processing log reg\n",
      "log reg model scored 0.6038965689931226 accuracy\n",
      "processing Passive Aggressive Classifier\n"
     ]
    },
    {
     "name": "stderr",
     "output_type": "stream",
     "text": [
      "C:\\Users\\erroden\\AppData\\Local\\Continuum\\anaconda3\\envs\\mlg_2\\lib\\site-packages\\sklearn\\linear_model\\stochastic_gradient.py:128: FutureWarning: max_iter and tol parameters have been added in <class 'sklearn.linear_model.passive_aggressive.PassiveAggressiveClassifier'> in 0.19. If both are left unset, they default to max_iter=5 and tol=None. If tol is not None, max_iter defaults to max_iter=1000. From 0.21, default max_iter will be 1000, and default tol will be 1e-3.\n",
      "  \"and default tol will be 1e-3.\" % type(self), FutureWarning)\n",
      "C:\\Users\\erroden\\AppData\\Local\\Continuum\\anaconda3\\envs\\mlg_2\\lib\\site-packages\\sklearn\\linear_model\\stochastic_gradient.py:128: FutureWarning: max_iter and tol parameters have been added in <class 'sklearn.linear_model.passive_aggressive.PassiveAggressiveClassifier'> in 0.19. If both are left unset, they default to max_iter=5 and tol=None. If tol is not None, max_iter defaults to max_iter=1000. From 0.21, default max_iter will be 1000, and default tol will be 1e-3.\n",
      "  \"and default tol will be 1e-3.\" % type(self), FutureWarning)\n",
      "C:\\Users\\erroden\\AppData\\Local\\Continuum\\anaconda3\\envs\\mlg_2\\lib\\site-packages\\sklearn\\linear_model\\stochastic_gradient.py:128: FutureWarning: max_iter and tol parameters have been added in <class 'sklearn.linear_model.passive_aggressive.PassiveAggressiveClassifier'> in 0.19. If both are left unset, they default to max_iter=5 and tol=None. If tol is not None, max_iter defaults to max_iter=1000. From 0.21, default max_iter will be 1000, and default tol will be 1e-3.\n",
      "  \"and default tol will be 1e-3.\" % type(self), FutureWarning)\n",
      "C:\\Users\\erroden\\AppData\\Local\\Continuum\\anaconda3\\envs\\mlg_2\\lib\\site-packages\\sklearn\\linear_model\\stochastic_gradient.py:128: FutureWarning: max_iter and tol parameters have been added in <class 'sklearn.linear_model.passive_aggressive.PassiveAggressiveClassifier'> in 0.19. If both are left unset, they default to max_iter=5 and tol=None. If tol is not None, max_iter defaults to max_iter=1000. From 0.21, default max_iter will be 1000, and default tol will be 1e-3.\n",
      "  \"and default tol will be 1e-3.\" % type(self), FutureWarning)\n",
      "C:\\Users\\erroden\\AppData\\Local\\Continuum\\anaconda3\\envs\\mlg_2\\lib\\site-packages\\sklearn\\linear_model\\stochastic_gradient.py:128: FutureWarning: max_iter and tol parameters have been added in <class 'sklearn.linear_model.passive_aggressive.PassiveAggressiveClassifier'> in 0.19. If both are left unset, they default to max_iter=5 and tol=None. If tol is not None, max_iter defaults to max_iter=1000. From 0.21, default max_iter will be 1000, and default tol will be 1e-3.\n",
      "  \"and default tol will be 1e-3.\" % type(self), FutureWarning)\n"
     ]
    },
    {
     "name": "stdout",
     "output_type": "stream",
     "text": [
      "Passive Aggressive Classifier model scored 0.497035400658093 accuracy\n",
      "processing linear SVC\n",
      "linear SVC model scored 0.5967593886241669 accuracy\n",
      "processing NB\n",
      "NB model scored 0.5633203685601255 accuracy\n",
      "processing decision tree\n",
      "decision tree model scored 0.5156333920360956 accuracy\n",
      "column: inflight_entertainment_rating\n",
      "processing random forest\n",
      "random forest model scored 0.3880612539461511 accuracy\n",
      "processing Gradient Boosting\n",
      "Gradient Boosting model scored 0.4507692173996455 accuracy\n",
      "processing Ada Boost\n",
      "Ada Boost model scored 0.4412670647162843 accuracy\n",
      "processing log reg\n",
      "log reg model scored 0.4446868193658082 accuracy\n",
      "processing Passive Aggressive Classifier\n"
     ]
    },
    {
     "name": "stderr",
     "output_type": "stream",
     "text": [
      "C:\\Users\\erroden\\AppData\\Local\\Continuum\\anaconda3\\envs\\mlg_2\\lib\\site-packages\\sklearn\\linear_model\\stochastic_gradient.py:128: FutureWarning: max_iter and tol parameters have been added in <class 'sklearn.linear_model.passive_aggressive.PassiveAggressiveClassifier'> in 0.19. If both are left unset, they default to max_iter=5 and tol=None. If tol is not None, max_iter defaults to max_iter=1000. From 0.21, default max_iter will be 1000, and default tol will be 1e-3.\n",
      "  \"and default tol will be 1e-3.\" % type(self), FutureWarning)\n",
      "C:\\Users\\erroden\\AppData\\Local\\Continuum\\anaconda3\\envs\\mlg_2\\lib\\site-packages\\sklearn\\linear_model\\stochastic_gradient.py:128: FutureWarning: max_iter and tol parameters have been added in <class 'sklearn.linear_model.passive_aggressive.PassiveAggressiveClassifier'> in 0.19. If both are left unset, they default to max_iter=5 and tol=None. If tol is not None, max_iter defaults to max_iter=1000. From 0.21, default max_iter will be 1000, and default tol will be 1e-3.\n",
      "  \"and default tol will be 1e-3.\" % type(self), FutureWarning)\n",
      "C:\\Users\\erroden\\AppData\\Local\\Continuum\\anaconda3\\envs\\mlg_2\\lib\\site-packages\\sklearn\\linear_model\\stochastic_gradient.py:128: FutureWarning: max_iter and tol parameters have been added in <class 'sklearn.linear_model.passive_aggressive.PassiveAggressiveClassifier'> in 0.19. If both are left unset, they default to max_iter=5 and tol=None. If tol is not None, max_iter defaults to max_iter=1000. From 0.21, default max_iter will be 1000, and default tol will be 1e-3.\n",
      "  \"and default tol will be 1e-3.\" % type(self), FutureWarning)\n",
      "C:\\Users\\erroden\\AppData\\Local\\Continuum\\anaconda3\\envs\\mlg_2\\lib\\site-packages\\sklearn\\linear_model\\stochastic_gradient.py:128: FutureWarning: max_iter and tol parameters have been added in <class 'sklearn.linear_model.passive_aggressive.PassiveAggressiveClassifier'> in 0.19. If both are left unset, they default to max_iter=5 and tol=None. If tol is not None, max_iter defaults to max_iter=1000. From 0.21, default max_iter will be 1000, and default tol will be 1e-3.\n",
      "  \"and default tol will be 1e-3.\" % type(self), FutureWarning)\n",
      "C:\\Users\\erroden\\AppData\\Local\\Continuum\\anaconda3\\envs\\mlg_2\\lib\\site-packages\\sklearn\\linear_model\\stochastic_gradient.py:128: FutureWarning: max_iter and tol parameters have been added in <class 'sklearn.linear_model.passive_aggressive.PassiveAggressiveClassifier'> in 0.19. If both are left unset, they default to max_iter=5 and tol=None. If tol is not None, max_iter defaults to max_iter=1000. From 0.21, default max_iter will be 1000, and default tol will be 1e-3.\n",
      "  \"and default tol will be 1e-3.\" % type(self), FutureWarning)\n"
     ]
    },
    {
     "name": "stdout",
     "output_type": "stream",
     "text": [
      "Passive Aggressive Classifier model scored 0.3019995953787667 accuracy\n",
      "processing linear SVC\n",
      "linear SVC model scored 0.44006169981781335 accuracy\n",
      "processing NB\n",
      "NB model scored 0.40300525685868915 accuracy\n",
      "processing decision tree\n",
      "decision tree model scored 0.33048395510353623 accuracy\n",
      "column: type_traveller\n",
      "processing random forest\n",
      "random forest model scored 0.3740273113037528 accuracy\n",
      "processing Gradient Boosting\n",
      "Gradient Boosting model scored 0.4532431335064778 accuracy\n",
      "processing Ada Boost\n",
      "Ada Boost model scored 0.445851308184577 accuracy\n",
      "processing log reg\n",
      "log reg model scored 0.44728628671410825 accuracy\n",
      "processing Passive Aggressive Classifier\n"
     ]
    },
    {
     "name": "stderr",
     "output_type": "stream",
     "text": [
      "C:\\Users\\erroden\\AppData\\Local\\Continuum\\anaconda3\\envs\\mlg_2\\lib\\site-packages\\sklearn\\linear_model\\stochastic_gradient.py:128: FutureWarning: max_iter and tol parameters have been added in <class 'sklearn.linear_model.passive_aggressive.PassiveAggressiveClassifier'> in 0.19. If both are left unset, they default to max_iter=5 and tol=None. If tol is not None, max_iter defaults to max_iter=1000. From 0.21, default max_iter will be 1000, and default tol will be 1e-3.\n",
      "  \"and default tol will be 1e-3.\" % type(self), FutureWarning)\n",
      "C:\\Users\\erroden\\AppData\\Local\\Continuum\\anaconda3\\envs\\mlg_2\\lib\\site-packages\\sklearn\\linear_model\\stochastic_gradient.py:128: FutureWarning: max_iter and tol parameters have been added in <class 'sklearn.linear_model.passive_aggressive.PassiveAggressiveClassifier'> in 0.19. If both are left unset, they default to max_iter=5 and tol=None. If tol is not None, max_iter defaults to max_iter=1000. From 0.21, default max_iter will be 1000, and default tol will be 1e-3.\n",
      "  \"and default tol will be 1e-3.\" % type(self), FutureWarning)\n",
      "C:\\Users\\erroden\\AppData\\Local\\Continuum\\anaconda3\\envs\\mlg_2\\lib\\site-packages\\sklearn\\linear_model\\stochastic_gradient.py:128: FutureWarning: max_iter and tol parameters have been added in <class 'sklearn.linear_model.passive_aggressive.PassiveAggressiveClassifier'> in 0.19. If both are left unset, they default to max_iter=5 and tol=None. If tol is not None, max_iter defaults to max_iter=1000. From 0.21, default max_iter will be 1000, and default tol will be 1e-3.\n",
      "  \"and default tol will be 1e-3.\" % type(self), FutureWarning)\n",
      "C:\\Users\\erroden\\AppData\\Local\\Continuum\\anaconda3\\envs\\mlg_2\\lib\\site-packages\\sklearn\\linear_model\\stochastic_gradient.py:128: FutureWarning: max_iter and tol parameters have been added in <class 'sklearn.linear_model.passive_aggressive.PassiveAggressiveClassifier'> in 0.19. If both are left unset, they default to max_iter=5 and tol=None. If tol is not None, max_iter defaults to max_iter=1000. From 0.21, default max_iter will be 1000, and default tol will be 1e-3.\n",
      "  \"and default tol will be 1e-3.\" % type(self), FutureWarning)\n",
      "C:\\Users\\erroden\\AppData\\Local\\Continuum\\anaconda3\\envs\\mlg_2\\lib\\site-packages\\sklearn\\linear_model\\stochastic_gradient.py:128: FutureWarning: max_iter and tol parameters have been added in <class 'sklearn.linear_model.passive_aggressive.PassiveAggressiveClassifier'> in 0.19. If both are left unset, they default to max_iter=5 and tol=None. If tol is not None, max_iter defaults to max_iter=1000. From 0.21, default max_iter will be 1000, and default tol will be 1e-3.\n",
      "  \"and default tol will be 1e-3.\" % type(self), FutureWarning)\n"
     ]
    },
    {
     "name": "stdout",
     "output_type": "stream",
     "text": [
      "Passive Aggressive Classifier model scored 0.3306519002533113 accuracy\n",
      "processing linear SVC\n",
      "linear SVC model scored 0.4479184553141688 accuracy\n",
      "processing NB\n",
      "NB model scored 0.40728939911874906 accuracy\n",
      "processing decision tree\n",
      "decision tree model scored 0.3306020798858547 accuracy\n",
      "column: wifi_connectivity_rating\n",
      "processing random forest\n"
     ]
    },
    {
     "name": "stderr",
     "output_type": "stream",
     "text": [
      "C:\\Users\\erroden\\AppData\\Local\\Continuum\\anaconda3\\envs\\mlg_2\\lib\\site-packages\\sklearn\\cross_validation.py:553: Warning: The least populated class in y has only 1 members, which is too few. The minimum number of labels for any class cannot be less than n_folds=5.\n",
      "  % (min_labels, self.n_folds)), Warning)\n"
     ]
    },
    {
     "name": "stdout",
     "output_type": "stream",
     "text": [
      "random forest model scored 0.5848543241552794 accuracy\n",
      "processing Gradient Boosting\n"
     ]
    },
    {
     "name": "stderr",
     "output_type": "stream",
     "text": [
      "C:\\Users\\erroden\\AppData\\Local\\Continuum\\anaconda3\\envs\\mlg_2\\lib\\site-packages\\sklearn\\cross_validation.py:553: Warning: The least populated class in y has only 1 members, which is too few. The minimum number of labels for any class cannot be less than n_folds=5.\n",
      "  % (min_labels, self.n_folds)), Warning)\n"
     ]
    },
    {
     "name": "stdout",
     "output_type": "stream",
     "text": [
      "Gradient Boosting model scored 0.607404920981319 accuracy\n",
      "processing Ada Boost\n"
     ]
    },
    {
     "name": "stderr",
     "output_type": "stream",
     "text": [
      "C:\\Users\\erroden\\AppData\\Local\\Continuum\\anaconda3\\envs\\mlg_2\\lib\\site-packages\\sklearn\\cross_validation.py:553: Warning: The least populated class in y has only 1 members, which is too few. The minimum number of labels for any class cannot be less than n_folds=5.\n",
      "  % (min_labels, self.n_folds)), Warning)\n"
     ]
    },
    {
     "name": "stdout",
     "output_type": "stream",
     "text": [
      "Ada Boost model scored 0.5243057012702974 accuracy\n",
      "processing log reg\n"
     ]
    },
    {
     "name": "stderr",
     "output_type": "stream",
     "text": [
      "C:\\Users\\erroden\\AppData\\Local\\Continuum\\anaconda3\\envs\\mlg_2\\lib\\site-packages\\sklearn\\cross_validation.py:553: Warning: The least populated class in y has only 1 members, which is too few. The minimum number of labels for any class cannot be less than n_folds=5.\n",
      "  % (min_labels, self.n_folds)), Warning)\n"
     ]
    },
    {
     "name": "stdout",
     "output_type": "stream",
     "text": [
      "log reg model scored 0.6033168756461416 accuracy\n",
      "processing Passive Aggressive Classifier\n"
     ]
    },
    {
     "name": "stderr",
     "output_type": "stream",
     "text": [
      "C:\\Users\\erroden\\AppData\\Local\\Continuum\\anaconda3\\envs\\mlg_2\\lib\\site-packages\\sklearn\\cross_validation.py:553: Warning: The least populated class in y has only 1 members, which is too few. The minimum number of labels for any class cannot be less than n_folds=5.\n",
      "  % (min_labels, self.n_folds)), Warning)\n",
      "C:\\Users\\erroden\\AppData\\Local\\Continuum\\anaconda3\\envs\\mlg_2\\lib\\site-packages\\sklearn\\linear_model\\stochastic_gradient.py:128: FutureWarning: max_iter and tol parameters have been added in <class 'sklearn.linear_model.passive_aggressive.PassiveAggressiveClassifier'> in 0.19. If both are left unset, they default to max_iter=5 and tol=None. If tol is not None, max_iter defaults to max_iter=1000. From 0.21, default max_iter will be 1000, and default tol will be 1e-3.\n",
      "  \"and default tol will be 1e-3.\" % type(self), FutureWarning)\n",
      "C:\\Users\\erroden\\AppData\\Local\\Continuum\\anaconda3\\envs\\mlg_2\\lib\\site-packages\\sklearn\\linear_model\\stochastic_gradient.py:128: FutureWarning: max_iter and tol parameters have been added in <class 'sklearn.linear_model.passive_aggressive.PassiveAggressiveClassifier'> in 0.19. If both are left unset, they default to max_iter=5 and tol=None. If tol is not None, max_iter defaults to max_iter=1000. From 0.21, default max_iter will be 1000, and default tol will be 1e-3.\n",
      "  \"and default tol will be 1e-3.\" % type(self), FutureWarning)\n",
      "C:\\Users\\erroden\\AppData\\Local\\Continuum\\anaconda3\\envs\\mlg_2\\lib\\site-packages\\sklearn\\linear_model\\stochastic_gradient.py:128: FutureWarning: max_iter and tol parameters have been added in <class 'sklearn.linear_model.passive_aggressive.PassiveAggressiveClassifier'> in 0.19. If both are left unset, they default to max_iter=5 and tol=None. If tol is not None, max_iter defaults to max_iter=1000. From 0.21, default max_iter will be 1000, and default tol will be 1e-3.\n",
      "  \"and default tol will be 1e-3.\" % type(self), FutureWarning)\n",
      "C:\\Users\\erroden\\AppData\\Local\\Continuum\\anaconda3\\envs\\mlg_2\\lib\\site-packages\\sklearn\\linear_model\\stochastic_gradient.py:128: FutureWarning: max_iter and tol parameters have been added in <class 'sklearn.linear_model.passive_aggressive.PassiveAggressiveClassifier'> in 0.19. If both are left unset, they default to max_iter=5 and tol=None. If tol is not None, max_iter defaults to max_iter=1000. From 0.21, default max_iter will be 1000, and default tol will be 1e-3.\n",
      "  \"and default tol will be 1e-3.\" % type(self), FutureWarning)\n",
      "C:\\Users\\erroden\\AppData\\Local\\Continuum\\anaconda3\\envs\\mlg_2\\lib\\site-packages\\sklearn\\linear_model\\stochastic_gradient.py:128: FutureWarning: max_iter and tol parameters have been added in <class 'sklearn.linear_model.passive_aggressive.PassiveAggressiveClassifier'> in 0.19. If both are left unset, they default to max_iter=5 and tol=None. If tol is not None, max_iter defaults to max_iter=1000. From 0.21, default max_iter will be 1000, and default tol will be 1e-3.\n",
      "  \"and default tol will be 1e-3.\" % type(self), FutureWarning)\n"
     ]
    },
    {
     "name": "stdout",
     "output_type": "stream",
     "text": [
      "Passive Aggressive Classifier model scored 0.5129436843341153 accuracy\n",
      "processing linear SVC\n"
     ]
    },
    {
     "name": "stderr",
     "output_type": "stream",
     "text": [
      "C:\\Users\\erroden\\AppData\\Local\\Continuum\\anaconda3\\envs\\mlg_2\\lib\\site-packages\\sklearn\\cross_validation.py:553: Warning: The least populated class in y has only 1 members, which is too few. The minimum number of labels for any class cannot be less than n_folds=5.\n",
      "  % (min_labels, self.n_folds)), Warning)\n"
     ]
    },
    {
     "name": "stdout",
     "output_type": "stream",
     "text": [
      "linear SVC model scored 0.6003479380795527 accuracy\n",
      "processing NB\n"
     ]
    },
    {
     "name": "stderr",
     "output_type": "stream",
     "text": [
      "C:\\Users\\erroden\\AppData\\Local\\Continuum\\anaconda3\\envs\\mlg_2\\lib\\site-packages\\sklearn\\cross_validation.py:553: Warning: The least populated class in y has only 1 members, which is too few. The minimum number of labels for any class cannot be less than n_folds=5.\n",
      "  % (min_labels, self.n_folds)), Warning)\n"
     ]
    },
    {
     "name": "stdout",
     "output_type": "stream",
     "text": [
      "NB model scored 0.5764961516946115 accuracy\n",
      "processing decision tree\n"
     ]
    },
    {
     "name": "stderr",
     "output_type": "stream",
     "text": [
      "C:\\Users\\erroden\\AppData\\Local\\Continuum\\anaconda3\\envs\\mlg_2\\lib\\site-packages\\sklearn\\cross_validation.py:553: Warning: The least populated class in y has only 1 members, which is too few. The minimum number of labels for any class cannot be less than n_folds=5.\n",
      "  % (min_labels, self.n_folds)), Warning)\n"
     ]
    },
    {
     "name": "stdout",
     "output_type": "stream",
     "text": [
      "decision tree model scored 0.5009679540070417 accuracy\n",
      "column: cabin_flown\n",
      "processing random forest\n",
      "random forest model scored 0.864613368180537 accuracy\n",
      "processing Gradient Boosting\n",
      "Gradient Boosting model scored 0.8754507907035739 accuracy\n",
      "processing Ada Boost\n",
      "Ada Boost model scored 0.8674387002548732 accuracy\n",
      "processing log reg\n",
      "log reg model scored 0.8736899109797951 accuracy\n",
      "processing Passive Aggressive Classifier\n"
     ]
    },
    {
     "name": "stderr",
     "output_type": "stream",
     "text": [
      "C:\\Users\\erroden\\AppData\\Local\\Continuum\\anaconda3\\envs\\mlg_2\\lib\\site-packages\\sklearn\\linear_model\\stochastic_gradient.py:128: FutureWarning: max_iter and tol parameters have been added in <class 'sklearn.linear_model.passive_aggressive.PassiveAggressiveClassifier'> in 0.19. If both are left unset, they default to max_iter=5 and tol=None. If tol is not None, max_iter defaults to max_iter=1000. From 0.21, default max_iter will be 1000, and default tol will be 1e-3.\n",
      "  \"and default tol will be 1e-3.\" % type(self), FutureWarning)\n",
      "C:\\Users\\erroden\\AppData\\Local\\Continuum\\anaconda3\\envs\\mlg_2\\lib\\site-packages\\sklearn\\linear_model\\stochastic_gradient.py:128: FutureWarning: max_iter and tol parameters have been added in <class 'sklearn.linear_model.passive_aggressive.PassiveAggressiveClassifier'> in 0.19. If both are left unset, they default to max_iter=5 and tol=None. If tol is not None, max_iter defaults to max_iter=1000. From 0.21, default max_iter will be 1000, and default tol will be 1e-3.\n",
      "  \"and default tol will be 1e-3.\" % type(self), FutureWarning)\n",
      "C:\\Users\\erroden\\AppData\\Local\\Continuum\\anaconda3\\envs\\mlg_2\\lib\\site-packages\\sklearn\\linear_model\\stochastic_gradient.py:128: FutureWarning: max_iter and tol parameters have been added in <class 'sklearn.linear_model.passive_aggressive.PassiveAggressiveClassifier'> in 0.19. If both are left unset, they default to max_iter=5 and tol=None. If tol is not None, max_iter defaults to max_iter=1000. From 0.21, default max_iter will be 1000, and default tol will be 1e-3.\n",
      "  \"and default tol will be 1e-3.\" % type(self), FutureWarning)\n",
      "C:\\Users\\erroden\\AppData\\Local\\Continuum\\anaconda3\\envs\\mlg_2\\lib\\site-packages\\sklearn\\linear_model\\stochastic_gradient.py:128: FutureWarning: max_iter and tol parameters have been added in <class 'sklearn.linear_model.passive_aggressive.PassiveAggressiveClassifier'> in 0.19. If both are left unset, they default to max_iter=5 and tol=None. If tol is not None, max_iter defaults to max_iter=1000. From 0.21, default max_iter will be 1000, and default tol will be 1e-3.\n",
      "  \"and default tol will be 1e-3.\" % type(self), FutureWarning)\n",
      "C:\\Users\\erroden\\AppData\\Local\\Continuum\\anaconda3\\envs\\mlg_2\\lib\\site-packages\\sklearn\\linear_model\\stochastic_gradient.py:128: FutureWarning: max_iter and tol parameters have been added in <class 'sklearn.linear_model.passive_aggressive.PassiveAggressiveClassifier'> in 0.19. If both are left unset, they default to max_iter=5 and tol=None. If tol is not None, max_iter defaults to max_iter=1000. From 0.21, default max_iter will be 1000, and default tol will be 1e-3.\n",
      "  \"and default tol will be 1e-3.\" % type(self), FutureWarning)\n"
     ]
    },
    {
     "name": "stdout",
     "output_type": "stream",
     "text": [
      "Passive Aggressive Classifier model scored 0.852956402668308 accuracy\n",
      "processing linear SVC\n",
      "linear SVC model scored 0.8711102651801863 accuracy\n",
      "processing NB\n",
      "NB model scored 0.8359770077241491 accuracy\n",
      "processing decision tree\n",
      "decision tree model scored 0.8002844080465608 accuracy\n"
     ]
    }
   ],
   "source": [
    "'''\n",
    "This process takes quite a long time so if you only want the results scroll down and you can read them in\n",
    "'''\n",
    "\n",
    "y_list = ['cabin_staff_rating', 'food_beverages_rating', 'ground_service_rating', 'inflight_entertainment_rating', 'type_traveller', 'wifi_connectivity_rating', 'cabin_flown']\n",
    "results = []\n",
    "\n",
    "for y in y_list:\n",
    "    print('column: {}'.format(y))\n",
    "    \n",
    "    get_model_data = airline[['ready', 'polarity', 'text_len', 'overall_rating', y]]\n",
    "    get_model_data = get_model_data[get_model_data['overall_rating'].notna()] # Dropping where there are null values. \n",
    "\n",
    "    result = get_na_model(y, get_model_data)\n",
    "    results.append(result)"
   ]
  },
  {
   "cell_type": "code",
   "execution_count": 137,
   "metadata": {},
   "outputs": [
    {
     "data": {
      "text/plain": [
       "[('cabin_staff_rating',\n",
       "  0.5689949059273761,\n",
       "  GradientBoostingClassifier(criterion='friedman_mse', init=None,\n",
       "                learning_rate=0.1, loss='deviance', max_depth=3,\n",
       "                max_features=None, max_leaf_nodes=None,\n",
       "                min_impurity_decrease=0.0, min_impurity_split=None,\n",
       "                min_samples_leaf=1, min_samples_split=2,\n",
       "                min_weight_fraction_leaf=0.0, n_estimators=100,\n",
       "                presort='auto', random_state=None, subsample=1.0, verbose=0,\n",
       "                warm_start=False)),\n",
       " ('food_beverages_rating',\n",
       "  0.5030067926921988,\n",
       "  GradientBoostingClassifier(criterion='friedman_mse', init=None,\n",
       "                learning_rate=0.1, loss='deviance', max_depth=3,\n",
       "                max_features=None, max_leaf_nodes=None,\n",
       "                min_impurity_decrease=0.0, min_impurity_split=None,\n",
       "                min_samples_leaf=1, min_samples_split=2,\n",
       "                min_weight_fraction_leaf=0.0, n_estimators=100,\n",
       "                presort='auto', random_state=None, subsample=1.0, verbose=0,\n",
       "                warm_start=False)),\n",
       " ('ground_service_rating',\n",
       "  0.6172671715990117,\n",
       "  GradientBoostingClassifier(criterion='friedman_mse', init=None,\n",
       "                learning_rate=0.1, loss='deviance', max_depth=3,\n",
       "                max_features=None, max_leaf_nodes=None,\n",
       "                min_impurity_decrease=0.0, min_impurity_split=None,\n",
       "                min_samples_leaf=1, min_samples_split=2,\n",
       "                min_weight_fraction_leaf=0.0, n_estimators=100,\n",
       "                presort='auto', random_state=None, subsample=1.0, verbose=0,\n",
       "                warm_start=False)),\n",
       " ('inflight_entertainment_rating',\n",
       "  0.4507692173996455,\n",
       "  GradientBoostingClassifier(criterion='friedman_mse', init=None,\n",
       "                learning_rate=0.1, loss='deviance', max_depth=3,\n",
       "                max_features=None, max_leaf_nodes=None,\n",
       "                min_impurity_decrease=0.0, min_impurity_split=None,\n",
       "                min_samples_leaf=1, min_samples_split=2,\n",
       "                min_weight_fraction_leaf=0.0, n_estimators=100,\n",
       "                presort='auto', random_state=None, subsample=1.0, verbose=0,\n",
       "                warm_start=False)),\n",
       " ('type_traveller',\n",
       "  0.4532431335064778,\n",
       "  GradientBoostingClassifier(criterion='friedman_mse', init=None,\n",
       "                learning_rate=0.1, loss='deviance', max_depth=3,\n",
       "                max_features=None, max_leaf_nodes=None,\n",
       "                min_impurity_decrease=0.0, min_impurity_split=None,\n",
       "                min_samples_leaf=1, min_samples_split=2,\n",
       "                min_weight_fraction_leaf=0.0, n_estimators=100,\n",
       "                presort='auto', random_state=None, subsample=1.0, verbose=0,\n",
       "                warm_start=False)),\n",
       " ('wifi_connectivity_rating',\n",
       "  0.607404920981319,\n",
       "  GradientBoostingClassifier(criterion='friedman_mse', init=None,\n",
       "                learning_rate=0.1, loss='deviance', max_depth=3,\n",
       "                max_features=None, max_leaf_nodes=None,\n",
       "                min_impurity_decrease=0.0, min_impurity_split=None,\n",
       "                min_samples_leaf=1, min_samples_split=2,\n",
       "                min_weight_fraction_leaf=0.0, n_estimators=100,\n",
       "                presort='auto', random_state=None, subsample=1.0, verbose=0,\n",
       "                warm_start=False)),\n",
       " ('cabin_flown',\n",
       "  0.8754507907035739,\n",
       "  GradientBoostingClassifier(criterion='friedman_mse', init=None,\n",
       "                learning_rate=0.1, loss='deviance', max_depth=3,\n",
       "                max_features=None, max_leaf_nodes=None,\n",
       "                min_impurity_decrease=0.0, min_impurity_split=None,\n",
       "                min_samples_leaf=1, min_samples_split=2,\n",
       "                min_weight_fraction_leaf=0.0, n_estimators=100,\n",
       "                presort='auto', random_state=None, subsample=1.0, verbose=0,\n",
       "                warm_start=False))]"
      ]
     },
     "execution_count": 137,
     "metadata": {},
     "output_type": "execute_result"
    }
   ],
   "source": [
    "results"
   ]
  },
  {
   "cell_type": "raw",
   "metadata": {},
   "source": [
    "To be predicted: 'cabin_flown', 'wifi_connectivity_rating', 'ground_service_rating'\n",
    "To drop NAs: 'cabin_staff_rating', 'food_beverages_rating', 'seat_comfort_rating',  'value_money_rating', 'overall_rating'\n",
    "Drop Columns: 'inflight_entertainment_rating', 'type_traveller'"
   ]
  },
  {
   "cell_type": "code",
   "execution_count": 221,
   "metadata": {},
   "outputs": [],
   "source": [
    "# get columns ready for fitting model to predict\n",
    "model_columns = ['polarity', 'text_len', 'overall_rating']\n",
    "tfidf_cols = list(range(tfidf_col_length)) # add columns for tfidf (this would be generated dynamically)\n",
    "model_columns.extend([str(x) for x in tfidf_cols]) "
   ]
  },
  {
   "cell_type": "code",
   "execution_count": 224,
   "metadata": {},
   "outputs": [
    {
     "name": "stderr",
     "output_type": "stream",
     "text": [
      "C:\\Users\\erroden\\AppData\\Local\\Continuum\\anaconda3\\envs\\mlg_2\\lib\\site-packages\\ipykernel_launcher.py:18: SettingWithCopyWarning: \n",
      "A value is trying to be set on a copy of a slice from a DataFrame.\n",
      "Try using .loc[row_indexer,col_indexer] = value instead\n",
      "\n",
      "See the caveats in the documentation: http://pandas.pydata.org/pandas-docs/stable/indexing.html#indexing-view-versus-copy\n"
     ]
    },
    {
     "name": "stdout",
     "output_type": "stream",
     "text": [
      "<class 'pandas.core.frame.DataFrame'>\n",
      "Int64Index: 75336 entries, 4 to 79791\n",
      "Columns: 258 entries, aircraft to 234\n",
      "dtypes: float64(245), int64(2), object(11)\n",
      "memory usage: 148.9+ MB\n"
     ]
    }
   ],
   "source": [
    "# use prediction models where applicable to enrich data\n",
    "y_names = ['cabin_flown', 'wifi_connectivity_rating', 'ground_service_rating']\n",
    "airline3 = airline2[airline2['overall_rating'].notna()] # Dropping where there are null values to be consistent with predicions\n",
    "\n",
    "for r in results:\n",
    "    if r[0] in y_names:\n",
    "        \n",
    "        # get data for specific column\n",
    "        model = r[2]\n",
    "        y_name = r[0]\n",
    "        \n",
    "        # set up data sets\n",
    "        train = airline3[airline3[y_name].notna()]\n",
    "        test = airline3[airline3[y_name].isna()]\n",
    "        \n",
    "        # fit and predict\n",
    "        model.fit(train[model_columns], train[y_name])\n",
    "        test[y_name] = model.predict(test[model_columns])\n",
    "        \n",
    "        # join train and test\n",
    "        airline3 = pd.concat([train, test])\n",
    "        \n",
    "airline3.info()"
   ]
  },
  {
   "cell_type": "code",
   "execution_count": 227,
   "metadata": {},
   "outputs": [
    {
     "name": "stdout",
     "output_type": "stream",
     "text": [
      "<class 'pandas.core.frame.DataFrame'>\n",
      "Int64Index: 75336 entries, 4 to 79791\n",
      "Data columns (total 3 columns):\n",
      "cabin_flown                 75336 non-null object\n",
      "wifi_connectivity_rating    75336 non-null float64\n",
      "ground_service_rating       75336 non-null float64\n",
      "dtypes: float64(2), object(1)\n",
      "memory usage: 2.3+ MB\n"
     ]
    }
   ],
   "source": [
    "airline3[y_names].info() # now those values are filled"
   ]
  },
  {
   "cell_type": "code",
   "execution_count": 228,
   "metadata": {},
   "outputs": [],
   "source": [
    "airline3.to_csv('data\\\\imputed_airlines.csv', index=False)"
   ]
  },
  {
   "cell_type": "code",
   "execution_count": 242,
   "metadata": {},
   "outputs": [
    {
     "data": {
      "text/plain": [
       "Index(['aircraft', 'cabin_flown', 'cabin_staff_rating', 'date',\n",
       "       'food_beverages_rating', 'ground_service_rating',\n",
       "       'inflight_entertainment_rating', 'recommended', 'route',\n",
       "       'seat_comfort_rating', 'type_traveller', 'value_money_rating',\n",
       "       'wifi_connectivity_rating', 'airline_name', 'author', 'author_country',\n",
       "       'content', 'date_published', 'link', 'overall_rating', 'title',\n",
       "       'text_len', 'polarity'],\n",
       "      dtype='object')"
      ]
     },
     "execution_count": 242,
     "metadata": {},
     "output_type": "execute_result"
    }
   ],
   "source": [
    "airline3.columns[:23] # columns excluding tfidf columns"
   ]
  },
  {
   "cell_type": "code",
   "execution_count": 243,
   "metadata": {},
   "outputs": [],
   "source": [
    "# add dummies for categorical and drop unused columns\n",
    "airline3_dummys = pd.get_dummies(airline3, columns=['cabin_flown', 'type_traveller'])"
   ]
  },
  {
   "cell_type": "code",
   "execution_count": 245,
   "metadata": {},
   "outputs": [
    {
     "data": {
      "text/plain": [
       "Index(['aircraft', 'cabin_staff_rating', 'date', 'food_beverages_rating',\n",
       "       'ground_service_rating', 'inflight_entertainment_rating', 'recommended',\n",
       "       'route', 'seat_comfort_rating', 'value_money_rating',\n",
       "       ...\n",
       "       '233', '234', 'cabin_flown_Business Class', 'cabin_flown_Economy Class',\n",
       "       'cabin_flown_First Class', 'cabin_flown_Premium Economy',\n",
       "       'type_traveller_Business', 'type_traveller_Couple Leisure',\n",
       "       'type_traveller_Family Leisure', 'type_traveller_Solo Leisure'],\n",
       "      dtype='object', length=264)"
      ]
     },
     "execution_count": 245,
     "metadata": {},
     "output_type": "execute_result"
    }
   ],
   "source": [
    "airline3_dummys.columns"
   ]
  },
  {
   "cell_type": "code",
   "execution_count": 251,
   "metadata": {},
   "outputs": [],
   "source": [
    "# drop columns that won't be used in modeling (either not useful data or too sparse)\n",
    "airline3_dummys.drop(['aircraft', 'date', 'inflight_entertainment_rating', \n",
    "                      'ground_service_rating', 'wifi_connectivity_rating', 'route', 'airline_name', \n",
    "                      'author', 'author_country', 'content', 'date_published', 'link', 'title'], axis=1, inplace=True, errors='ignore')\n"
   ]
  },
  {
   "cell_type": "code",
   "execution_count": 252,
   "metadata": {},
   "outputs": [
    {
     "data": {
      "text/plain": [
       "Index(['cabin_staff_rating', 'food_beverages_rating', 'recommended',\n",
       "       'seat_comfort_rating', 'value_money_rating', 'overall_rating',\n",
       "       'text_len', 'polarity', '0', '1',\n",
       "       ...\n",
       "       '233', '234', 'cabin_flown_Business Class', 'cabin_flown_Economy Class',\n",
       "       'cabin_flown_First Class', 'cabin_flown_Premium Economy',\n",
       "       'type_traveller_Business', 'type_traveller_Couple Leisure',\n",
       "       'type_traveller_Family Leisure', 'type_traveller_Solo Leisure'],\n",
       "      dtype='object', length=251)"
      ]
     },
     "execution_count": 252,
     "metadata": {},
     "output_type": "execute_result"
    }
   ],
   "source": [
    "airline3_dummys.columns"
   ]
  },
  {
   "cell_type": "code",
   "execution_count": 253,
   "metadata": {},
   "outputs": [],
   "source": [
    "# save intermediate step\n",
    "airline3_dummys.to_csv('data\\\\imputed_airlines_with_dummys.csv', index=False)"
   ]
  },
  {
   "cell_type": "code",
   "execution_count": 254,
   "metadata": {},
   "outputs": [],
   "source": [
    "# read in data - can start here to save the processing time\n",
    "airline_model_ready = pd.read_csv('data\\\\imputed_airlines_with_dummys.csv')"
   ]
  },
  {
   "cell_type": "code",
   "execution_count": 255,
   "metadata": {},
   "outputs": [
    {
     "data": {
      "text/plain": [
       "(75336, 251)"
      ]
     },
     "execution_count": 255,
     "metadata": {},
     "output_type": "execute_result"
    }
   ],
   "source": [
    "airline_model_ready.shape"
   ]
  },
  {
   "cell_type": "code",
   "execution_count": 256,
   "metadata": {},
   "outputs": [
    {
     "name": "stdout",
     "output_type": "stream",
     "text": [
      "<class 'pandas.core.frame.DataFrame'>\n",
      "RangeIndex: 75336 entries, 0 to 75335\n",
      "Columns: 251 entries, cabin_staff_rating to type_traveller_Solo Leisure\n",
      "dtypes: float64(241), int64(10)\n",
      "memory usage: 144.3 MB\n"
     ]
    }
   ],
   "source": [
    "airline_model_ready.info()"
   ]
  },
  {
   "cell_type": "code",
   "execution_count": 259,
   "metadata": {},
   "outputs": [
    {
     "data": {
      "text/plain": [
       "(60692, 251)"
      ]
     },
     "execution_count": 259,
     "metadata": {},
     "output_type": "execute_result"
    }
   ],
   "source": [
    "# removes ~15k records\n",
    "airline_model_ready.dropna(inplace=True)\n",
    "airline_model_ready.shape"
   ]
  },
  {
   "cell_type": "code",
   "execution_count": 262,
   "metadata": {},
   "outputs": [
    {
     "data": {
      "text/plain": [
       "0.9907758881585699"
      ]
     },
     "execution_count": 262,
     "metadata": {},
     "output_type": "execute_result"
    }
   ],
   "source": [
    "# Add additional columns to be included in the model\n",
    "\n",
    "X = airline_model_ready.drop(['recommended'], axis=1)\n",
    "\n",
    "y = airline_model_ready.recommended\n",
    "\n",
    "logreg = LogisticRegression()\n",
    "cross_val_score(logreg, X, y, cv=3, scoring='roc_auc').mean()"
   ]
  },
  {
   "cell_type": "code",
   "execution_count": 263,
   "metadata": {},
   "outputs": [
    {
     "data": {
      "text/plain": [
       "Text(0,0.5,'True Positive Rate (Sensitivity)')"
      ]
     },
     "execution_count": 263,
     "metadata": {},
     "output_type": "execute_result"
    },
    {
     "data": {
      "image/png": "[encoded data removed]",
      "text/plain": [
       "<Figure size 432x288 with 1 Axes>"
      ]
     },
     "metadata": {},
     "output_type": "display_data"
    }
   ],
   "source": [
    "X_train, X_test, y_train, y_test = train_test_split(X, y, random_state=1)\n",
    "\n",
    "logreg.fit(X_train, y_train)\n",
    "\n",
    "fpr, tpr, thresholds = metrics.roc_curve(y, logreg.predict_proba(X)[:, 1])\n",
    "plt.plot(fpr, tpr)\n",
    "plt.xlim([0.0, 1.0])\n",
    "plt.ylim([0.0, 1.0])\n",
    "plt.xlabel('False Positive Rate (1 - Specificity)')\n",
    "plt.ylabel('True Positive Rate (Sensitivity)')"
   ]
  },
  {
   "cell_type": "markdown",
   "metadata": {},
   "source": [
    "This is the best model yet. Additional algorithms should be tested and other approaches to handling missing data could be implemented. Also may want to focus in on just text since that could be more useful for doing things like scraping tweets. Additionally I should consider which measures are most valuable. In theory the false postives (incorrectly predicted would recommend) are the most detrimental because it represents the business an airline wouldn't take action to save are letting walk away. "
   ]
  }
 ],
 "metadata": {
  "kernelspec": {
   "display_name": "mlg_2",
   "language": "python",
   "name": "mlg_2"
  },
  "language_info": {
   "codemirror_mode": {
    "name": "ipython",
    "version": 3
   },
   "file_extension": ".py",
   "mimetype": "text/x-python",
   "name": "python",
   "nbconvert_exporter": "python",
   "pygments_lexer": "ipython3",
   "version": "3.5.5"
  }
 },
 "nbformat": 4,
 "nbformat_minor": 2
}
